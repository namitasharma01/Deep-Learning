{
 "cells": [
  {
   "cell_type": "markdown",
   "metadata": {
    "colab_type": "text",
    "id": "xLHo8mgtOY8M"
   },
   "source": [
    "# Part-of-Speech Tagging with Recurrent Neural Networks"
   ]
  },
  {
   "cell_type": "markdown",
   "metadata": {
    "colab_type": "text",
    "id": "8RA3SrN7OY8N"
   },
   "source": [
    "Your task in this assignment is to implement a simple part-of-speech tagger based on recurrent neural networks."
   ]
  },
  {
   "cell_type": "markdown",
   "metadata": {
    "colab_type": "text",
    "id": "A9lBH1-JOY8P"
   },
   "source": [
    "## Get a graphics card"
   ]
  },
  {
   "cell_type": "code",
   "execution_count": 1,
   "metadata": {
    "colab": {
     "base_uri": "https://localhost:8080/",
     "height": 34
    },
    "colab_type": "code",
    "id": "fVhAwOipOY8T",
    "outputId": "aef0b4ed-e2c9-4c59-a0c6-3242ced75fe0"
   },
   "outputs": [
    {
     "name": "stderr",
     "output_type": "stream",
     "text": [
      "Using TensorFlow backend.\n"
     ]
    },
    {
     "ename": "IndexError",
     "evalue": "list index out of range",
     "output_type": "error",
     "traceback": [
      "\u001b[1;31m---------------------------------------------------------------------------\u001b[0m",
      "\u001b[1;31mIndexError\u001b[0m                                Traceback (most recent call last)",
      "\u001b[1;32m<ipython-input-1-14b1a117828f>\u001b[0m in \u001b[0;36m<module>\u001b[1;34m\u001b[0m\n\u001b[0;32m     15\u001b[0m \u001b[1;31m# Allow growth of GPU memory, otherwise it will always look like all the memory is being used\u001b[0m\u001b[1;33m\u001b[0m\u001b[1;33m\u001b[0m\u001b[1;33m\u001b[0m\u001b[0m\n\u001b[0;32m     16\u001b[0m \u001b[0mphysical_devices\u001b[0m \u001b[1;33m=\u001b[0m \u001b[0mtf\u001b[0m\u001b[1;33m.\u001b[0m\u001b[0mconfig\u001b[0m\u001b[1;33m.\u001b[0m\u001b[0mexperimental\u001b[0m\u001b[1;33m.\u001b[0m\u001b[0mlist_physical_devices\u001b[0m\u001b[1;33m(\u001b[0m\u001b[1;34m'GPU'\u001b[0m\u001b[1;33m)\u001b[0m\u001b[1;33m\u001b[0m\u001b[1;33m\u001b[0m\u001b[0m\n\u001b[1;32m---> 17\u001b[1;33m \u001b[0mtf\u001b[0m\u001b[1;33m.\u001b[0m\u001b[0mconfig\u001b[0m\u001b[1;33m.\u001b[0m\u001b[0mexperimental\u001b[0m\u001b[1;33m.\u001b[0m\u001b[0mset_memory_growth\u001b[0m\u001b[1;33m(\u001b[0m\u001b[0mphysical_devices\u001b[0m\u001b[1;33m[\u001b[0m\u001b[1;36m0\u001b[0m\u001b[1;33m]\u001b[0m\u001b[1;33m,\u001b[0m \u001b[1;32mTrue\u001b[0m\u001b[1;33m)\u001b[0m\u001b[1;33m\u001b[0m\u001b[1;33m\u001b[0m\u001b[0m\n\u001b[0m",
      "\u001b[1;31mIndexError\u001b[0m: list index out of range"
     ]
    }
   ],
   "source": [
    "import os\n",
    "import warnings\n",
    "\n",
    "# Ignore FutureWarning from numpy\n",
    "warnings.simplefilter(action='ignore', category=FutureWarning)\n",
    "\n",
    "import keras.backend as K\n",
    "import tensorflow as tf\n",
    "\n",
    "os.environ[\"CUDA_DEVICE_ORDER\"]=\"PCI_BUS_ID\";\n",
    " \n",
    "# The GPU id to use, usually either \"0\" or \"1\";\n",
    "os.environ[\"CUDA_VISIBLE_DEVICES\"]=\"0\";\n",
    "\n",
    "# Allow growth of GPU memory, otherwise it will always look like all the memory is being used\n",
    "physical_devices = tf.config.experimental.list_physical_devices('GPU')\n",
    "tf.config.experimental.set_memory_growth(physical_devices[0], True) "
   ]
  },
  {
   "cell_type": "markdown",
   "metadata": {
    "colab_type": "text",
    "id": "xs0TjCYaOY8l"
   },
   "source": [
    "## Problem specification"
   ]
  },
  {
   "cell_type": "markdown",
   "metadata": {
    "colab_type": "text",
    "id": "zE4g7jOcOY8n"
   },
   "source": [
    "Your task in this assignment is\n",
    "\n",
    "1. to build a part-of-speech tagger based on a recurrent neural network architecture\n",
    "2. to train this tagger on the provided training data and identify a good model\n",
    "2. to evaluate the performance of this model on the provided test data\n",
    "\n",
    "To identify a good model, you can use the provided development (validation) data."
   ]
  },
  {
   "cell_type": "markdown",
   "metadata": {
    "colab_type": "text",
    "id": "PoY9sK90OY8p"
   },
   "source": [
    "## Part-of-speech tagging"
   ]
  },
  {
   "cell_type": "markdown",
   "metadata": {
    "colab_type": "text",
    "id": "xB5OBkRKOY8r"
   },
   "source": [
    "Part-of-speech (POS) tagging is the task of labelling words (tokens) with [parts of speech](https://en.wikipedia.org/wiki/Part_of_speech). To give an example, consider the  sentence *Parker hates parsnips*. In this sentence, the word *Parker* should be labelled as a proper noun (a noun that is the name of a person), *hates* should be labelled as a verb, and *parsnips* should be labelled as a (common) noun. Part-of-speech tagging is an essential ingredient of many state-of-the-art natural language understanding systems.\n",
    "\n",
    "Part-of-speech tagging can be cast as a supervised machine learning problem where the gold-standard data consists of sentences whose words have been manually annotated with parts of speech. For the present assignment you will be using a corpus built over the source material of the [English Web Treebank](https://catalog.ldc.upenn.edu/ldc2012t13), consisting of approximately 16,000&nbsp;sentences with 254,000&nbsp;tokens. The corpus has been released by the [Universal Dependencies Project](http://universaldependencies.org).\n",
    "\n",
    "To make it easier to compare systems, the gold-standard data has been split into three parts: training, development (validation), and test. The following cell provides a function that can be used to load the data."
   ]
  },
  {
   "cell_type": "code",
   "execution_count": 2,
   "metadata": {
    "colab": {},
    "colab_type": "code",
    "id": "4zTPGf9dOY8t"
   },
   "outputs": [],
   "source": [
    "def read_data(path):\n",
    "    with open(path, encoding='utf-8') as fp:\n",
    "        result = []\n",
    "        for line in fp:\n",
    "            line = line.rstrip()\n",
    "            if len(line) == 0:\n",
    "                yield result\n",
    "                result = []\n",
    "            elif not line.startswith('#'):\n",
    "                columns = line.split()\n",
    "                if columns[0].isdigit():\n",
    "                    result.append((columns[1], columns[3]))"
   ]
  },
  {
   "cell_type": "markdown",
   "metadata": {
    "colab_type": "text",
    "id": "foBfMi9_OY82"
   },
   "source": [
    "The next cell loads the data:"
   ]
  },
  {
   "cell_type": "code",
   "execution_count": 4,
   "metadata": {
    "colab": {
     "base_uri": "https://localhost:8080/",
     "height": 68
    },
    "colab_type": "code",
    "id": "2UL9duoROY84",
    "outputId": "87a9687c-1d22-40a0-c107-98cbc319b66a"
   },
   "outputs": [
    {
     "name": "stdout",
     "output_type": "stream",
     "text": [
      "Number of sentences in the training data: 12543\n",
      "Number of sentences in the development data: 2002\n",
      "Number of sentences in the test data: 2077\n"
     ]
    }
   ],
   "source": [
    "train_data = list(read_data('RNN_Lab_GPU/en_ewt-ud-train.conllu'))\n",
    "print('Number of sentences in the training data: {}'.format(len(train_data)))\n",
    "\n",
    "dev_data = list(read_data('RNN_Lab_GPU/en_ewt-ud-dev.conllu'))\n",
    "print('Number of sentences in the development data: {}'.format(len(dev_data)))\n",
    "\n",
    "test_data = list(read_data('RNN_Lab_GPU/en_ewt-ud-test.conllu'))\n",
    "print('Number of sentences in the test data: {}'.format(len(test_data)))"
   ]
  },
  {
   "cell_type": "markdown",
   "metadata": {
    "colab_type": "text",
    "id": "o8Eq21tHOY9A"
   },
   "source": [
    "From a Python perspective, each of the data sets is a list of what we shall refer to as *tagged sentences*. A tagged sentence, in turn, is a list of pairs $(w,t)$, where $w$ is a word token and $t$ is the word&rsquo;s POS tag. Here is an example from the training data to show you how this looks like:"
   ]
  },
  {
   "cell_type": "code",
   "execution_count": 5,
   "metadata": {
    "colab": {
     "base_uri": "https://localhost:8080/",
     "height": 238
    },
    "colab_type": "code",
    "id": "T1x8TI31OY9D",
    "outputId": "c4cfa4ab-b06b-41d3-be34-cea9b1fa6f58"
   },
   "outputs": [
    {
     "data": {
      "text/plain": [
       "[('There', 'PRON'),\n",
       " ('has', 'AUX'),\n",
       " ('been', 'VERB'),\n",
       " ('talk', 'NOUN'),\n",
       " ('that', 'SCONJ'),\n",
       " ('the', 'DET'),\n",
       " ('night', 'NOUN'),\n",
       " ('curfew', 'NOUN'),\n",
       " ('might', 'AUX'),\n",
       " ('be', 'AUX'),\n",
       " ('implemented', 'VERB'),\n",
       " ('again', 'ADV'),\n",
       " ('.', 'PUNCT')]"
      ]
     },
     "execution_count": 5,
     "metadata": {},
     "output_type": "execute_result"
    }
   ],
   "source": [
    "train_data[42]"
   ]
  },
  {
   "cell_type": "markdown",
   "metadata": {
    "colab_type": "text",
    "id": "ryFX-xxyOY9M"
   },
   "source": [
    "You will see part-of-speech tags such as `VERB` for verb, `NOUN` for noun, and `ADV` for adverb. If you are interested in learning more about the tag set used in the gold-standard data, you can have a look at the documentation of the [Universal POS tags](http://universaldependencies.org/u/pos/all.html). However, you do not need to understand the meaning of the POS tags to solve this assignment; you can simply treat them as labels drawn from a finite set of alternatives."
   ]
  },
  {
   "cell_type": "markdown",
   "metadata": {
    "colab_type": "text",
    "id": "Im5b1HzHOY9O"
   },
   "source": [
    "## Network architecture"
   ]
  },
  {
   "cell_type": "markdown",
   "metadata": {
    "colab_type": "text",
    "id": "olCyxTueOY9Q"
   },
   "source": [
    "The proposed network architecture for your tagger is a sequential model with three layers, illustrated below: an embedding, a bidirectional LSTM, and a softmax layer. The embedding turns word indexes (integers representing words) into fixed-size dense vectors which are then fed into the bidirectional LSTM. The output of the LSTM at each position of the sentence is passed to a softmax layer which predicts the POS tag for the word at that position.\n",
    "\n",
    "![architecture.png](attachment:architecture.png)\n",
    "\n",
    "To implement the network architecture, you will use [Keras](https://keras.io/). Keras comes with an extensive online documentation, and reading the relevant parts of this documentation will be essential when working on this assignment. We suggest to start with the tutorial [Getting started with the Keras Sequential model](https://keras.io/getting-started/sequential-model-guide/). After that, you should have a look at some of the examples mentioned in that tutorial, and in particular the [Bidirectional LSTM](https://keras.io/examples/imdb_bidirectional_lstm/) example."
   ]
  },
  {
   "cell_type": "markdown",
   "metadata": {
    "colab_type": "text",
    "id": "5y1_-jNvOY9U"
   },
   "source": [
    "## Evaluation"
   ]
  },
  {
   "cell_type": "markdown",
   "metadata": {
    "colab_type": "text",
    "id": "lITZbvwZOY9X"
   },
   "source": [
    "The most widely-used evaluation measure for part-of-speech tagging is per-word accuracy, which is the percentage of words to which the tagger assigns the correct tag (according to the gold standard). This is one of the default metrics in Keras.\n",
    "\n",
    "One problem that you will encounter during evaluation is that the evaluation data contains words that you did not see (and did not add to your index) during training. The simplest solution to this problem is to introduce a special &lsquo;word&rsquo; `<unk>` and replace each unknown word with this pseudoword."
   ]
  },
  {
   "cell_type": "markdown",
   "metadata": {
    "colab_type": "text",
    "id": "_dS-LepROY9a"
   },
   "source": [
    "## Part 1: Pre-process the data"
   ]
  },
  {
   "cell_type": "markdown",
   "metadata": {
    "colab_type": "text",
    "id": "BeG35Jk-OY9d"
   },
   "source": [
    "Before you can start to implement the network architecture as such, you will have to bring the tagged sentences from the gold-standard data into a form that can be used with the network. One important step in this is to map the words and tags (strings) to integers. Here is code that illustrates the idea:"
   ]
  },
  {
   "cell_type": "code",
   "execution_count": 6,
   "metadata": {
    "colab": {
     "base_uri": "https://localhost:8080/",
     "height": 51
    },
    "colab_type": "code",
    "id": "qr4Vl2ZPOY9m",
    "outputId": "cd94f9f3-f1f2-4106-854f-7477332dff02"
   },
   "outputs": [
    {
     "name": "stdout",
     "output_type": "stream",
     "text": [
      "Number of unique words in the training data: 19672\n",
      "Index of the word \"hates\": 4579\n"
     ]
    }
   ],
   "source": [
    "word_to_index = {}\n",
    "for tagged_sentence in train_data:\n",
    "    for word, tag in tagged_sentence:\n",
    "        if word not in word_to_index:\n",
    "            word_to_index[word] = len(word_to_index)\n",
    "\n",
    "print('Number of unique words in the training data: {}'.format(len(word_to_index)))\n",
    "print('Index of the word \"hates\": {}'.format(word_to_index['hates']))"
   ]
  },
  {
   "cell_type": "markdown",
   "metadata": {
    "colab_type": "text",
    "id": "pHIclpX1OY9y"
   },
   "source": [
    "Once you have indexes for the words and the tags, you can construct the input and the gold-standard output tensor required to train the network.\n",
    "\n",
    "### Constructing the input tensor\n",
    "\n",
    "The input tensor should be of shape $(N, n)$ where $N$ is the total number of sentences in the training data and $n$ is the length of the longest sentence. Note that Keras requires all sequences in an input tensor to have the same length, which means that you will have to pad all sequences to that length. You can use the helper function [`pad_sequences`](https://www.tensorflow.org/api_docs/python/tf/keras/preprocessing/sequence/pad_sequences) for this, which by default will front-pad sequences with the value&nbsp;0. It is essential then that you do not use this special padding value as the index of actual words.\n",
    "\n",
    "### Constructing the target output tensor\n",
    "\n",
    "The target output tensor should be of shape $(N, n, T)$ where $T$ is the number of unique tags in the training data, plus one to cater for the special padding value. The additional dimension corresponds to the fact that the softmax layer of the network will output one $T$-dimensional vector for each position of an input sentence. To construct this vector, you can use the helper function [`to_categorical`](https://www.tensorflow.org/api_docs/python/tf/keras/utils/to_categorical)."
   ]
  },
  {
   "cell_type": "code",
   "execution_count": 7,
   "metadata": {
    "colab": {
     "base_uri": "https://localhost:8080/",
     "height": 51
    },
    "colab_type": "code",
    "id": "aMLNq4sIOY90",
    "outputId": "99c36296-f9ca-4a9f-ad03-10be08f4f521"
   },
   "outputs": [
    {
     "name": "stdout",
     "output_type": "stream",
     "text": [
      "Number of unique words in the training data: 19674\n",
      "Number of unique tags in the training_data: 18\n"
     ]
    }
   ],
   "source": [
    "# Define a help function to build index from a list of words or tags, each word / tag will have a unique number\n",
    "def build_index(strings, init=[]):\n",
    "    string_to_index = {s: i for i, s in enumerate(init)}\n",
    "    for word_tag in strings:\n",
    "      if word_tag not in string_to_index.keys():\n",
    "        string_to_index[word_tag] = len(string_to_index)\n",
    "    return string_to_index\n",
    "        \n",
    "words, tags = [], []\n",
    "for tagged_sentence in train_data:\n",
    "    for word, tag in tagged_sentence:\n",
    "       words.append(word)\n",
    "       tags.append(tag)\n",
    "\n",
    "# Call the help function you made, to build an index for words (word_to_index), and one index for tags (tag_to_index)\n",
    "word_to_index = build_index(strings = words , init=[\"<pad>\" ,\"<unk>\"])\n",
    "tag_to_index = build_index(strings = tags , init=[\"<pad>\"] )\n",
    "\n",
    "# Check number of words and tags\n",
    "num_words = len(word_to_index)\n",
    "num_tags = len(tag_to_index)\n",
    "\n",
    "print(f'Number of unique words in the training data: {num_words}')\n",
    "print(f'Number of unique tags in the training_data: {num_tags}')"
   ]
  },
  {
   "cell_type": "code",
   "execution_count": 8,
   "metadata": {
    "colab": {},
    "colab_type": "code",
    "id": "N81PuzZPOY-C"
   },
   "outputs": [],
   "source": [
    "from tensorflow.keras.preprocessing.sequence import pad_sequences\n",
    "from tensorflow.keras.utils import to_categorical\n",
    "\n",
    "# Make a function that converts the tagged sentences, word indices and tag indices to \n",
    "# X and Y, that can be used when training the RNN\n",
    "def encode(tagged_sentences, word_to_index, tag_to_index):\n",
    "\n",
    "    # Start with empty lists that will contain all training examples and corresponding output\n",
    "    X, Y = [], []\n",
    "    \n",
    "    for tagSent in tagged_sentences:        \n",
    "        Xcurrent, Ycurrent = [], []        \n",
    "\n",
    "        for currWord , currTag in tagSent:\n",
    "            #Word\n",
    "            if word_to_index.get(currWord) is None:\n",
    "                 Xcurrent.append(word_to_index.get(\"<unk>\"))\n",
    "            else:\n",
    "                Xcurrent.append(word_to_index.get(currWord))\n",
    "\n",
    "            #Tags \n",
    "            if tag_to_index.get(currTag) is None:\n",
    "            #Ycurrent.append(\"<unk>\")\n",
    "                Ycurrent.append(tag_to_index.get(\"<unk>\"))\n",
    "            else:\n",
    "                Ycurrent.append(tag_to_index.get(currTag))\n",
    "        #End of Inner for loop\n",
    "        X.append(Xcurrent)\n",
    "        Y.append(Ycurrent)\n",
    "    #End of outer for loop    \n",
    "    X = pad_sequences(X)\n",
    "    Y = pad_sequences(Y)\n",
    "    Y = to_categorical(Y , num_classes=len(tag_to_index.keys()) , dtype= 'float32')\n",
    "    return X, Y"
   ]
  },
  {
   "cell_type": "code",
   "execution_count": 8,
   "metadata": {
    "colab": {
     "base_uri": "https://localhost:8080/",
     "height": 119
    },
    "colab_type": "code",
    "id": "i10bYfTaSsrA",
    "outputId": "94d6abe5-4946-4a01-e2dc-129d57683472"
   },
   "outputs": [
    {
     "name": "stdout",
     "output_type": "stream",
     "text": [
      "\n",
      "\n",
      "Shape of X is : (5300, 97)\n",
      "\n",
      "\n",
      "Shape of Y is : (5300, 97, 18)\n"
     ]
    }
   ],
   "source": [
    "\n",
    "X,Y = encode(train_data, word_to_index, tag_to_index)\n",
    "\n",
    "# Print the shape of X and Y\n",
    "print(\"\\n\")\n",
    "print(f\"Shape of X is : {X.shape}\")\n",
    "print(\"\\n\")\n",
    "print(f\"Shape of Y is : {Y.shape}\") "
   ]
  },
  {
   "cell_type": "markdown",
   "metadata": {
    "colab_type": "text",
    "id": "93fzlr6zOY-M"
   },
   "source": [
    "## Part 2: Construct the model"
   ]
  },
  {
   "cell_type": "markdown",
   "metadata": {
    "colab_type": "text",
    "id": "SGHDh89TOY-N"
   },
   "source": [
    "To implement the network architecture, you need to find and instantiate the relevant building blocks from the Keras library. Note that Keras layers support a large number of optional parameters; use the default values unless you have a good reason not to. Two mandatory parameters that you will have to specify are the dimensionality of the embedding and the dimensionality of the output of the LSTM layer. The following values are reasonable starting points, but do try a number of different settings.\n",
    "\n",
    "* dimensionality of the embedding: 100\n",
    "* dimensionality of the output of the bidirectional LSTM layer: 100\n",
    "\n",
    "You will also have to choose an appropriate loss function. For training we recommend the Adam optimiser."
   ]
  },
  {
   "cell_type": "code",
   "execution_count": 9,
   "metadata": {
    "colab": {
     "base_uri": "https://localhost:8080/",
     "height": 306
    },
    "colab_type": "code",
    "id": "Qhl8HtKQOY-P",
    "outputId": "9b1a0126-95b4-48ef-c5e2-bb69dfa2cfaf"
   },
   "outputs": [
    {
     "name": "stdout",
     "output_type": "stream",
     "text": [
      "Model: \"sequential_1\"\n",
      "_________________________________________________________________\n",
      "Layer (type)                 Output Shape              Param #   \n",
      "=================================================================\n",
      "embedding_1 (Embedding)      (None, None, 100)         1077900   \n",
      "_________________________________________________________________\n",
      "bidirectional_1 (Bidirection (None, None, 200)         160800    \n",
      "_________________________________________________________________\n",
      "dropout_1 (Dropout)          (None, None, 200)         0         \n",
      "_________________________________________________________________\n",
      "dense_1 (Dense)              (None, None, 18)          3618      \n",
      "=================================================================\n",
      "Total params: 1,242,318\n",
      "Trainable params: 1,242,318\n",
      "Non-trainable params: 0\n",
      "_________________________________________________________________\n",
      "None\n"
     ]
    }
   ],
   "source": [
    "from keras import Sequential\n",
    "# Import necessary layers\n",
    "from keras.layers import Dense, Dropout, Embedding, LSTM, Bidirectional, Flatten\n",
    "from keras.optimizers import Adam\n",
    "from keras.losses import categorical_crossentropy \n",
    "#from keras.losses import binary_crossentropy \n",
    "from numpy.random import seed\n",
    "import os \n",
    "import numpy as np\n",
    "\n",
    "seed(123)\n",
    "tf.random.set_seed(123)\n",
    "os.environ['TF_DETERMINISTIC_OPS'] = '1'\n",
    "os.environ['PYTHONHASHSEED']=str(123)\n",
    "np.random.seed(123)\n",
    "tf.random.set_seed(123)\n",
    "\n",
    "embedding_dim = 100\n",
    "hidden_dim = 100\n",
    "maxFeatures = len(word_to_index.keys()) #Total number of distinct word in training data \n",
    "maxSequence = max(word_to_index.values())\n",
    "\n",
    "#Model Creation\n",
    "model = Sequential()\n",
    "\n",
    "# The model should have an embedding layer, a bidirectional LSTM, and a dense softmax layer \n",
    "\n",
    "model.add(Embedding(maxFeatures , embedding_dim, mask_zero = True))\n",
    "model.add(Bidirectional(LSTM(hidden_dim , return_sequences=True)))\n",
    "model.add(Dropout(0.5))\n",
    "\n",
    "#Adding flating layer \n",
    "#model.add(Flatten())\n",
    "\n",
    "#model.add(Dense(units = len(Y) , activation = 'softmax'))\n",
    "model.add(Dense(18 , activation = 'softmax'))\n",
    "# (see the network architecture image)\n",
    "\n",
    "# Compile model\n",
    "model.compile(loss = categorical_crossentropy , optimizer = \"Adam\", metrics=['accuracy'] )\n",
    "#model.compile(loss = binary_crossentropy , optimizer = \"Adam\", metrics=['accuracy'] )\n",
    "# Print a summary of the model\n",
    "print(model.summary())\n"
   ]
  },
  {
   "cell_type": "code",
   "execution_count": 11,
   "metadata": {},
   "outputs": [
    {
     "data": {
      "text/plain": [
       "29"
      ]
     },
     "execution_count": 11,
     "metadata": {},
     "output_type": "execute_result"
    }
   ],
   "source": []
  },
  {
   "cell_type": "code",
   "execution_count": null,
   "metadata": {
    "colab": {},
    "colab_type": "code",
    "id": "2B9_3rYNzreP"
   },
   "outputs": [],
   "source": [
    "Xval , Yval = encode(dev_data , word_to_index ,  tag_to_index )\n",
    "Xtest , Ytest = encode(test_data , word_to_index ,  tag_to_index )"
   ]
  },
  {
   "cell_type": "markdown",
   "metadata": {
    "colab_type": "text",
    "id": "o9l7QQOJOY-d"
   },
   "source": [
    "## Part 3: Train the network"
   ]
  },
  {
   "cell_type": "markdown",
   "metadata": {
    "colab_type": "text",
    "id": "B8Rbby8DOY-f"
   },
   "source": [
    "The next step is to train the network. Use the following parameters:\n",
    "\n",
    "* number of epochs: 10\n",
    "* batch size: 32\n",
    "\n",
    "Training will print the average running loss on the training data after each minibatch. In addition to that, we ask you to also print the loss and accuracy on the development data after each epoch. You can do so by providing the `validation_data` argument to the `fit` method.\n",
    "\n",
    "Note that the `fit` method returns a [`History`](https://keras.io/callbacks/#history) object that contains useful information about the training. We will use that information in the next step."
   ]
  },
  {
   "cell_type": "code",
   "execution_count": 11,
   "metadata": {
    "colab": {
     "base_uri": "https://localhost:8080/",
     "height": 360
    },
    "colab_type": "code",
    "id": "zJ5Y-o6ZOY-g",
    "outputId": "8c04c759-3ad0-4d77-d3ef-ce2f8912946b"
   },
   "outputs": [
    {
     "name": "stderr",
     "output_type": "stream",
     "text": [
      "/usr/local/lib/python3.6/dist-packages/tensorflow/python/framework/indexed_slices.py:434: UserWarning: Converting sparse IndexedSlices to a dense Tensor of unknown shape. This may consume a large amount of memory.\n",
      "  \"Converting sparse IndexedSlices to a dense Tensor of unknown shape. \"\n"
     ]
    },
    {
     "name": "stdout",
     "output_type": "stream",
     "text": [
      "Train on 5300 samples, validate on 2002 samples\n",
      "Epoch 1/8\n",
      "5300/5300 [==============================] - 77s 15ms/step - loss: 0.2976 - accuracy: 0.4300 - val_loss: 0.1465 - val_accuracy: 0.7368\n",
      "Epoch 2/8\n",
      "5300/5300 [==============================] - 73s 14ms/step - loss: 0.0784 - accuracy: 0.8609 - val_loss: 0.0803 - val_accuracy: 0.8551\n",
      "Epoch 3/8\n",
      "5300/5300 [==============================] - 74s 14ms/step - loss: 0.0345 - accuracy: 0.9413 - val_loss: 0.0737 - val_accuracy: 0.8658\n",
      "Epoch 4/8\n",
      "5300/5300 [==============================] - 73s 14ms/step - loss: 0.0219 - accuracy: 0.9614 - val_loss: 0.0726 - val_accuracy: 0.8715\n",
      "Epoch 5/8\n",
      "5300/5300 [==============================] - 73s 14ms/step - loss: 0.0166 - accuracy: 0.9698 - val_loss: 0.0713 - val_accuracy: 0.8737\n",
      "Epoch 6/8\n",
      "5300/5300 [==============================] - 72s 14ms/step - loss: 0.0131 - accuracy: 0.9758 - val_loss: 0.0738 - val_accuracy: 0.8739\n",
      "Epoch 7/8\n",
      "5300/5300 [==============================] - 72s 14ms/step - loss: 0.0108 - accuracy: 0.9800 - val_loss: 0.0759 - val_accuracy: 0.8751\n",
      "Epoch 8/8\n",
      "5300/5300 [==============================] - 72s 14ms/step - loss: 0.0086 - accuracy: 0.9842 - val_loss: 0.0780 - val_accuracy: 0.8751\n"
     ]
    }
   ],
   "source": [
    "# Encode the development (validation data) using the 'encode' function you created before\n",
    "Xval , Yval = encode(dev_data , word_to_index ,  tag_to_index )\n",
    "# Train the model and save the history, as you did in the DNN and CNN labs, provide validation data\n",
    "history = model.fit(X, Y , batch_size = 32 , epochs = 8 , verbose = 1 , validation_data = (Xval,Yval))"
   ]
  },
  {
   "cell_type": "markdown",
   "metadata": {
    "colab_type": "text",
    "id": "EcnpRfcSOY-p"
   },
   "source": [
    "## Part 4: Identify a good model"
   ]
  },
  {
   "cell_type": "markdown",
   "metadata": {
    "colab_type": "text",
    "id": "eH9vFstbOY-p"
   },
   "source": [
    "The following code will plot the loss on the training data and the loss on the validation data after each epoch:"
   ]
  },
  {
   "cell_type": "code",
   "execution_count": null,
   "metadata": {
    "colab": {},
    "colab_type": "code",
    "id": "yNP8R2FEOY-q"
   },
   "outputs": [],
   "source": [
    "# Lets define a help function for plotting the training results\n",
    "import matplotlib.pyplot as plt\n",
    "\n",
    "def plot_results(history):\n",
    "    \n",
    "    val_loss = history.history['val_loss']\n",
    "    acc = history.history['accuracy']\n",
    "    loss = history.history['loss']\n",
    "    val_acc = history.history['val_accuracy']\n",
    "    \n",
    "    plt.figure(figsize=(10,4))\n",
    "    plt.xlabel('Epochs')\n",
    "    plt.ylabel('Loss')\n",
    "    plt.plot(loss)\n",
    "    plt.plot(val_loss)\n",
    "    plt.legend(['Training','Validation'])\n",
    "\n",
    "    plt.figure(figsize=(10,4))\n",
    "    plt.xlabel('Epochs')\n",
    "    plt.ylabel('Accuracy')\n",
    "    plt.plot(acc)\n",
    "    plt.plot(val_acc)\n",
    "    plt.legend(['Training','Validation'])\n",
    "\n",
    "    plt.show()"
   ]
  },
  {
   "cell_type": "code",
   "execution_count": 13,
   "metadata": {
    "colab": {
     "base_uri": "https://localhost:8080/",
     "height": 541
    },
    "colab_type": "code",
    "id": "esIgPGpzOY-u",
    "outputId": "ea1dc01b-900d-4133-de38-5bb54038a743"
   },
   "outputs": [
    {
     "data": {
      "image/png": "[encoded data removed]",
      "text/plain": [
       "<Figure size 720x288 with 1 Axes>"
      ]
     },
     "metadata": {
      "needs_background": "light",
      "tags": []
     },
     "output_type": "display_data"
    },
    {
     "data": {
      "image/png": "[encoded data removed]",
      "text/plain": [
       "<Figure size 720x288 with 1 Axes>"
      ]
     },
     "metadata": {
      "needs_background": "light",
      "tags": []
     },
     "output_type": "display_data"
    }
   ],
   "source": [
    "plot_results(history)"
   ]
  },
  {
   "cell_type": "markdown",
   "metadata": {
    "colab_type": "text",
    "id": "Ane14QFdOY-1"
   },
   "source": [
    "Look at the plot and determine the epoch after which the model starts to overfit. Then, re-train your model using that many epochs and compute the accuracy of the tagger on the test data."
   ]
  },
  {
   "cell_type": "code",
   "execution_count": 14,
   "metadata": {
    "colab": {
     "base_uri": "https://localhost:8080/",
     "height": 68
    },
    "colab_type": "code",
    "id": "mAwkq3XrOY-2",
    "outputId": "453a653f-591d-4f84-d08d-1be3194d1e4c"
   },
   "outputs": [
    {
     "name": "stdout",
     "output_type": "stream",
     "text": [
      "2077/2077 [==============================] - 3s 2ms/step\n",
      "Test loss: 0.0661\n",
      "Test accuracy: 0.8766\n"
     ]
    }
   ],
   "source": [
    "# Encode the test_data using the 'encode' function you created before\n",
    "Xtest , Ytest = encode(test_data , word_to_index ,  tag_to_index )\n",
    "\n",
    "# Evaluate the model on test data, as you did in the DNN and CNN lab\n",
    "score = model.evaluate(Xtest , Ytest , verbose = 1)\n",
    "print('Test loss: %.4f' % score[0])\n",
    "print('Test accuracy: %.4f' % score[1])"
   ]
  },
  {
   "cell_type": "markdown",
   "metadata": {
    "colab_type": "text",
    "id": "7reMHyrOOY-8"
   },
   "source": [
    "## Submission"
   ]
  },
  {
   "cell_type": "markdown",
   "metadata": {
    "colab_type": "text",
    "id": "wFSVEaq5OY-9"
   },
   "source": [
    "Your notebook should include all your code, and should be runnable without further modification. It should also include answers to the following questions:\n",
    "\n",
    "How many epochs did you train the final model for?\n",
    "\n",
    "**Answer :** I have used 8 epoch in final model.\n",
    "\n",
    "What accuracy did you achieve on the test data?\n",
    "\n",
    "**Answer :** Accuracy of 87% is achieved.  \n",
    "\n",
    "What dimensionality of the embedding did you use for your best results?\n",
    "\n",
    "**Answer :** Dimensionality of Embedding layer is [Number of Unique Words] x [Size of Embeding Vector] for this we have used : 100 layers \n",
    "\n",
    "What dimensionality of the output of the bidirectional LSTM layer did you use for your best results?\n",
    "\n",
    "**Answer :** 100 layers which make total layers of LSTM as 200\n",
    "\n",
    "Instead of manually identifying a good model, and redoing the training to that number of epochs, how can you automatically stop the training when the validation performance does not improve anymore? Hint: see Lecture 2\n",
    "\n",
    "**Answer :** Since if we take larger number of Epochs, it can end up in overfitting. \n",
    "\n",
    "We can prevent it using EarlyStoping process which in turn monitor user defined metric and stop model training before overfitting ocurs. \n",
    "\n",
    "(Implementation for same is applied below.)\n",
    "\n",
    "\n",
    "What did you find particularly surprising or hard?\n",
    "\n",
    "**Answer :** In terms of this lab, what exactly tricked me is understanding how to exactly tokenise sequence as once tokenization flow is understood it make much more sense how exactly things are getting calculated inside.\n",
    "\n",
    "How do you calculate the number of parameters in the embedding layer? Hint: the calculation includes the vocabulary size and the embedding dimension\n",
    "\n",
    "**Answer :** It is product of length of words_index which is formed from vocabulary with embedding dimension i.e. 100  thus we get  1077900\n",
    "\n",
    "How do you calculate the number of parameters in the bidirectional LSTM layer? Hint: A LSTM layer has 4 parts; cell, input gate, output gate, forget gate, each part contains two weight matrices and a bias vector. A bidirectional LSTM contains two LSTMs.\n",
    "\n",
    "https://en.wikipedia.org/wiki/Long_short-term_memory\n",
    "\n",
    "**Answer :** Number of parameter can be calculated with below formula: \n",
    "\n",
    "NumParaForLSTM= 4 * ((InputSize +1) * OutputSize + OutputSize**2)\n",
    "NumParaForLSTM = 2 * NumParaForLSTM        "
   ]
  },
  {
   "cell_type": "code",
   "execution_count": 15,
   "metadata": {
    "colab": {
     "base_uri": "https://localhost:8080/",
     "height": 323
    },
    "colab_type": "code",
    "id": "eqp5znk_OL0q",
    "outputId": "3b6f8dbf-9d8a-42f3-dca8-3754dffba1d8"
   },
   "outputs": [
    {
     "name": "stdout",
     "output_type": "stream",
     "text": [
      "Train on 5300 samples, validate on 2002 samples\n",
      "Epoch 1/20\n",
      "5300/5300 [==============================] - 72s 14ms/step - loss: 0.0071 - accuracy: 0.9870 - val_loss: 0.0836 - val_accuracy: 0.8730\n",
      "Epoch 2/20\n",
      "5300/5300 [==============================] - 72s 14ms/step - loss: 0.0060 - accuracy: 0.9890 - val_loss: 0.0788 - val_accuracy: 0.8762\n",
      "Epoch 3/20\n",
      "5300/5300 [==============================] - 72s 14ms/step - loss: 0.0049 - accuracy: 0.9913 - val_loss: 0.0853 - val_accuracy: 0.8751\n",
      "Epoch 4/20\n",
      "5300/5300 [==============================] - 72s 14ms/step - loss: 0.0042 - accuracy: 0.9925 - val_loss: 0.0893 - val_accuracy: 0.8737\n",
      "Epoch 5/20\n",
      "5300/5300 [==============================] - 73s 14ms/step - loss: 0.0036 - accuracy: 0.9935 - val_loss: 0.0892 - val_accuracy: 0.8738\n",
      "Epoch 6/20\n",
      "5300/5300 [==============================] - 73s 14ms/step - loss: 0.0030 - accuracy: 0.9950 - val_loss: 0.0917 - val_accuracy: 0.8730\n",
      "Epoch 7/20\n",
      "5300/5300 [==============================] - 73s 14ms/step - loss: 0.0025 - accuracy: 0.9958 - val_loss: 0.0928 - val_accuracy: 0.8748\n",
      "Epoch 8/20\n",
      "5300/5300 [==============================] - 72s 14ms/step - loss: 0.0022 - accuracy: 0.9965 - val_loss: 0.0975 - val_accuracy: 0.8729\n",
      "Epoch 00008: early stopping\n"
     ]
    }
   ],
   "source": [
    "#Early Stoping Implementation \n",
    "from keras.callbacks import EarlyStopping\n",
    "earlyStop = EarlyStopping(monitor='val_loss', mode='min', verbose=1, patience=6)\n",
    "historyES = model.fit(X, Y , batch_size = 32 , epochs = 20 , verbose = 1 , validation_data = (Xval,Yval) , callbacks=[earlyStop])"
   ]
  },
  {
   "cell_type": "code",
   "execution_count": 16,
   "metadata": {
    "colab": {
     "base_uri": "https://localhost:8080/",
     "height": 541
    },
    "colab_type": "code",
    "id": "FUQ38u6OO96M",
    "outputId": "f51b8774-3033-4844-e145-f3e54f343273"
   },
   "outputs": [
    {
     "data": {
      "image/png": "[encoded data removed]",
      "text/plain": [
       "<Figure size 720x288 with 1 Axes>"
      ]
     },
     "metadata": {
      "needs_background": "light",
      "tags": []
     },
     "output_type": "display_data"
    },
    {
     "data": {
      "image/png": "[encoded data removed]",
      "text/plain": [
       "<Figure size 720x288 with 1 Axes>"
      ]
     },
     "metadata": {
      "needs_background": "light",
      "tags": []
     },
     "output_type": "display_data"
    }
   ],
   "source": [
    "plot_results(historyES)"
   ]
  },
  {
   "cell_type": "code",
   "execution_count": 17,
   "metadata": {
    "colab": {
     "base_uri": "https://localhost:8080/",
     "height": 68
    },
    "colab_type": "code",
    "id": "rPsaKh3MO-kj",
    "outputId": "e0f340a2-c92e-4054-dae8-f473b516168a"
   },
   "outputs": [
    {
     "name": "stdout",
     "output_type": "stream",
     "text": [
      "2077/2077 [==============================] - 3s 2ms/step\n",
      "Test loss: 0.0835\n",
      "Test accuracy: 0.8729\n"
     ]
    }
   ],
   "source": [
    "score = model.evaluate(Xtest , Ytest , verbose = 1)\n",
    "print('Test loss: %.4f' % score[0])\n",
    "print('Test accuracy: %.4f' % score[1])"
   ]
  },
  {
   "cell_type": "markdown",
   "metadata": {
    "colab_type": "text",
    "id": "cOdV_lBrOY_A"
   },
   "source": [
    "## Ethics in deep learning\n",
    "\n",
    "Now that you have watched the 5 lectures, and completed the 3 laborations in this course, what do you think is the most important ethical question related to deep learning? Motivate your answer.\n",
    "\n"
   ]
  },
  {
   "cell_type": "markdown",
   "metadata": {
    "colab_type": "text",
    "id": "YSFn3ttDOY_B"
   },
   "source": [
    "Considering the case of Amazon's \"Hiring Bot\" biased preferring of a male candidate for technical roles, which might be due to the previous ratio of received application to a selected candidate it had been trained with thus weights were trained to be biased for a male candidate. \n",
    "\n",
    "Now this kind of situation raises the dilemma that how to identify such possible boundary conditions and place flags for there possible occurrence even before they occur. \n",
    "\n",
    "Now honestly unless such an act unfolds, you never know that such an edge case is possible and while developing most of us are always biased towards the positive outcome of what we are building.\n",
    "\n",
    "So to us, most ethical question in case of use of powerful technologies like deep learning is, are we able to define positive and negative without getting biased towards positive even though negative could have an extreme or more powerful harmful impact."
   ]
  }
 ],
 "metadata": {
  "accelerator": "GPU",
  "colab": {
   "collapsed_sections": [],
   "name": "RNN_Lab_GPU_FinalVersion.ipynb",
   "provenance": []
  },
  "kernelspec": {
   "display_name": "Python 3",
   "language": "python",
   "name": "python3"
  },
  "language_info": {
   "codemirror_mode": {
    "name": "ipython",
    "version": 3
   },
   "file_extension": ".py",
   "mimetype": "text/x-python",
   "name": "python",
   "nbconvert_exporter": "python",
   "pygments_lexer": "ipython3",
   "version": "3.7.6"
  }
 },
 "nbformat": 4,
 "nbformat_minor": 4
}
