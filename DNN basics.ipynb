{
 "cells": [
  {
   "cell_type": "markdown",
   "metadata": {},
   "source": [
    "# Deep Neural Networks Laboration\n",
    "\n",
    "Data used in this laboration are from the Kitsune Network Attack Dataset, https://archive.ics.uci.edu/ml/datasets/Kitsune+Network+Attack+Dataset . We will focus on the 'Mirai' part of the dataset. Your task is to make a DNN that can classify if each attack is benign or malicious. The dataset has 116 covariates, but to make it a bit more difficult we will remove the first 24 covariates.\n",
    "\n",
    "You need to answer all questions in this notebook."
   ]
  },
  {
   "cell_type": "markdown",
   "metadata": {},
   "source": [
    "# Part 1: Get the data\n",
    "\n",
    "Use `wget` in the terminal of your cloud machine (in the same directory as where you have saved this notebook) to download the data, i.e.\n",
    "\n",
    "wget https://archive.ics.uci.edu/ml/machine-learning-databases/00516/mirai/Mirai_dataset.csv.gz\n",
    "\n",
    "wget https://archive.ics.uci.edu/ml/machine-learning-databases/00516/mirai/Mirai_labels.csv.gz\n",
    "\n",
    "Then unpack the files using `gunzip` in the terminal, i.e.\n",
    "\n",
    "gunzip Mirai_dataset.csv.gz\n",
    "\n",
    "gunzip Mirai_labels.csv.gz"
   ]
  },
  {
   "cell_type": "markdown",
   "metadata": {},
   "source": [
    "# Part 2: Get a graphics card\n",
    "\n",
    "Lets make sure that our script can see the graphics card that will be used. The graphics cards will perform all the time consuming calculations in every training iteration."
   ]
  },
  {
   "cell_type": "code",
   "execution_count": 1,
   "metadata": {},
   "outputs": [
    {
     "name": "stderr",
     "output_type": "stream",
     "text": [
      "Using TensorFlow backend.\n"
     ]
    },
    {
     "ename": "IndexError",
     "evalue": "list index out of range",
     "output_type": "error",
     "traceback": [
      "\u001b[1;31m---------------------------------------------------------------------------\u001b[0m",
      "\u001b[1;31mIndexError\u001b[0m                                Traceback (most recent call last)",
      "\u001b[1;32m<ipython-input-1-14b1a117828f>\u001b[0m in \u001b[0;36m<module>\u001b[1;34m\u001b[0m\n\u001b[0;32m     15\u001b[0m \u001b[1;31m# Allow growth of GPU memory, otherwise it will always look like all the memory is being used\u001b[0m\u001b[1;33m\u001b[0m\u001b[1;33m\u001b[0m\u001b[1;33m\u001b[0m\u001b[0m\n\u001b[0;32m     16\u001b[0m \u001b[0mphysical_devices\u001b[0m \u001b[1;33m=\u001b[0m \u001b[0mtf\u001b[0m\u001b[1;33m.\u001b[0m\u001b[0mconfig\u001b[0m\u001b[1;33m.\u001b[0m\u001b[0mexperimental\u001b[0m\u001b[1;33m.\u001b[0m\u001b[0mlist_physical_devices\u001b[0m\u001b[1;33m(\u001b[0m\u001b[1;34m'GPU'\u001b[0m\u001b[1;33m)\u001b[0m\u001b[1;33m\u001b[0m\u001b[1;33m\u001b[0m\u001b[0m\n\u001b[1;32m---> 17\u001b[1;33m \u001b[0mtf\u001b[0m\u001b[1;33m.\u001b[0m\u001b[0mconfig\u001b[0m\u001b[1;33m.\u001b[0m\u001b[0mexperimental\u001b[0m\u001b[1;33m.\u001b[0m\u001b[0mset_memory_growth\u001b[0m\u001b[1;33m(\u001b[0m\u001b[0mphysical_devices\u001b[0m\u001b[1;33m[\u001b[0m\u001b[1;36m0\u001b[0m\u001b[1;33m]\u001b[0m\u001b[1;33m,\u001b[0m \u001b[1;32mTrue\u001b[0m\u001b[1;33m)\u001b[0m\u001b[1;33m\u001b[0m\u001b[1;33m\u001b[0m\u001b[0m\n\u001b[0m",
      "\u001b[1;31mIndexError\u001b[0m: list index out of range"
     ]
    }
   ],
   "source": [
    "import os\n",
    "import warnings\n",
    "\n",
    "# Ignore FutureWarning from numpy\n",
    "warnings.simplefilter(action='ignore', category=FutureWarning)\n",
    "\n",
    "import keras.backend as K\n",
    "import tensorflow as tf\n",
    "\n",
    "os.environ[\"CUDA_DEVICE_ORDER\"]=\"PCI_BUS_ID\";\n",
    " \n",
    "# The GPU id to use, usually either \"0\" or \"1\";\n",
    "os.environ[\"CUDA_VISIBLE_DEVICES\"]=\"0\";\n",
    "\n",
    "# Allow growth of GPU memory, otherwise it will always look like all the memory is being used\n",
    "physical_devices = tf.config.experimental.list_physical_devices('GPU')\n",
    "tf.config.experimental.set_memory_growth(physical_devices[0], True) "
   ]
  },
  {
   "cell_type": "markdown",
   "metadata": {},
   "source": [
    "# Part 3: Hardware\n",
    "\n",
    "In deep learning, the computer hardware is very important. You should always know what kind of hardware you are working on.\n",
    "\n",
    "Question 1: What graphics card is available in the cloud machine? Run 'nvidia-smi' in the terminal. \n",
    "\n",
    "Question 2: Google the name of the graphics card, how many CUDA cores does it have?\n",
    "\n",
    "Question 3: How much memory does the graphics card have?\n",
    "\n",
    "Question 4: What is stored in the GPU memory while training a DNN ?\n",
    "\n",
    "Question 5: What CPU is available in the cloud machine? How many cores does it have? Run 'lscpu' in the terminal.\n",
    "\n",
    "Question 6: How much CPU memory (RAM) is available in the cloud machine? Run 'free -g' in the terminal."
   ]
  },
  {
   "cell_type": "markdown",
   "metadata": {},
   "source": [
    "###  Answers Q1-Q6\n",
    "Q1: Tesla K80\n",
    "\n",
    "Q2: 4992 NVIDIA CUDA cores\n",
    "\n",
    "Q3: 24 GB of GDDR5 (graphics double data rate type five synchronous DRAM) memory\n",
    "\n",
    "Q4: The network parameters and gradients \n",
    "\n",
    "Q5: Intel(R) Xeon(R) CPU E5-2690 v3 @ 2.60GHz. Each CPU has 6 cores. There are 6 CPUs in the cloud machine. \n",
    "\n",
    "Q6: 55 GB"
   ]
  },
  {
   "cell_type": "markdown",
   "metadata": {},
   "source": [
    "# Part 4: Load the data\n",
    "\n",
    "Load the dataset from the csv files, it will take some time since it is almost 1.4 GB. \n",
    "\n",
    "We will use the function `genfromtxt` to load the data.\n",
    "\n",
    "https://docs.scipy.org/doc/numpy/reference/generated/numpy.genfromtxt.html\n",
    "\n",
    "Load the data from csv files the first time, then save the data as numpy files for faster loading the next time.\n",
    "\n",
    "\n"
   ]
  },
  {
   "cell_type": "code",
   "execution_count": 2,
   "metadata": {},
   "outputs": [
    {
     "name": "stdout",
     "output_type": "stream",
     "text": [
      "The covariates have size (764137, 68).\n",
      "The labels have size (764137,).\n",
      "Class 0 (=Benign) has 121621 examples.\n",
      "Class 1 (=Malicious) has 642516 examples.\n"
     ]
    }
   ],
   "source": [
    "from numpy import genfromtxt\n",
    "import numpy as np\n",
    "\n",
    "# Load data from file\n",
    "#X = np.genfromtxt('Mirai_dataset.csv', delimiter=',')\n",
    "#Y = np.genfromtxt('Mirai_labels.csv', delimiter=',')\n",
    "\n",
    "# Save data as numpy arrays, for faster loading in future calls to this cell\n",
    "#np.save('Mirai_data.npy', X)\n",
    "#np.save('Mirai_labels.npy', Y)\n",
    "\n",
    "# Load data from numpy arrays, for faster loading\n",
    "X = np.load('Mirai_data.npy')\n",
    "Y = np.load('Mirai_labels.npy')\n",
    "\n",
    "# Remove the first 24 covariates\n",
    "X = X[:, 24:]\n",
    "\n",
    "print('The covariates have size {}.'.format(X.shape))\n",
    "print('The labels have size {}.'.format(Y.shape))\n",
    "\n",
    "# Print the number of examples of each class\n",
    "print('Class 0 (=Benign) has {} examples.'.format(np.count_nonzero(Y==0)))\n",
    "print('Class 1 (=Malicious) has {} examples.'.format(np.count_nonzero(Y==1)))"
   ]
  },
  {
   "cell_type": "markdown",
   "metadata": {},
   "source": [
    "# Part 5: How good is a naive classifier?\n",
    "\n",
    "Question 7: Given the distribution of examples, how high classification performance can a naive classifier obtain? The naive classifier will assume that all examples belong to one class. Note: you do not need to make a naive classifier, this is a theoretical question, just to understand how good performance we can obtain by random chance."
   ]
  },
  {
   "cell_type": "code",
   "execution_count": 3,
   "metadata": {},
   "outputs": [
    {
     "name": "stdout",
     "output_type": "stream",
     "text": [
      "The number of NaNs (not a number) in the labels : 0\n",
      "The number of NaNs in the covariates : 0\n"
     ]
    }
   ],
   "source": [
    "# It is common to have NaNs in the data, lets check for it. Hint: np.isnan()\n",
    "\n",
    "# Print the number of NaNs (not a number) in the labels\n",
    "print('The number of NaNs (not a number) in the labels : {}'.format(sum(np.isnan(Y))))\n",
    "\n",
    "# Print the number of NaNs in the covariates\n",
    "print('The number of NaNs in the covariates : {}'.format(np.sum(np.isnan(X))))"
   ]
  },
  {
   "cell_type": "markdown",
   "metadata": {},
   "source": [
    "### Answer Q7 \n",
    "\n",
    "Q7: We can see from the code below that the naive classifier 1 that simply classifies all network packets as Malicious attacks has a high classification accuracy just by chance. While the other naive classifier 0 has quite a low accuracy."
   ]
  },
  {
   "cell_type": "code",
   "execution_count": 4,
   "metadata": {},
   "outputs": [
    {
     "name": "stdout",
     "output_type": "stream",
     "text": [
      "Performance of the naive classifier 1 : 0.8408387501194158\n",
      "Performance of the naive classifier 0 : 0.15916124988058425\n"
     ]
    }
   ],
   "source": [
    "total_examples = len(Y)\n",
    "\n",
    "# If the naive classifier assumes all examples belong to the Malicious class \n",
    "correctly_classified1 = np.count_nonzero(Y==1)\n",
    "classifier_accuracy1  = correctly_classified1 / total_examples\n",
    "\n",
    "# If the naive classifier assumes all examples belong to the Benign class \n",
    "correctly_classified0 = np.count_nonzero(Y==0)\n",
    "classifier_accuracy0  = correctly_classified0 / total_examples\n",
    "\n",
    "print('Performance of the naive classifier 1 : {}'.format(classifier_accuracy1))\n",
    "print('Performance of the naive classifier 0 : {}'.format(classifier_accuracy0))"
   ]
  },
  {
   "cell_type": "markdown",
   "metadata": {},
   "source": [
    "# Part 6: Preprocessing\n",
    "\n",
    "Lets do some simple preprocessing"
   ]
  },
  {
   "cell_type": "code",
   "execution_count": 5,
   "metadata": {},
   "outputs": [
    {
     "name": "stdout",
     "output_type": "stream",
     "text": [
      "Mean of covariates [-0. -0.  0.  0.  0. -0. -0.  0. -0.  0.  0.  0. -0. -0. -0. -0.  0. -0.\n",
      " -0. -0. -0. -0. -0.  0.  0.  0. -0.  0.  0.  0.  0.  0.  0.  0. -0. -0.\n",
      " -0.  0. -0. -0. -0. -0. -0.  0.  0. -0.  0.  0. -0. -0. -0.  0.  0.  0.\n",
      "  0. -0. -0. -0.  0. -0. -0.  0. -0. -0.  0.  0.  0. -0.]\n",
      "SD of covariates [1. 1. 1. 1. 1. 1. 1. 1. 1. 1. 1. 1. 1. 1. 1. 1. 1. 1. 1. 1. 1. 1. 1. 1.\n",
      " 1. 1. 1. 1. 1. 1. 1. 1. 1. 1. 1. 1. 1. 1. 1. 1. 1. 1. 1. 1. 1. 1. 1. 1.\n",
      " 1. 1. 1. 1. 1. 1. 1. 1. 1. 1. 1. 1. 1. 1. 1. 1. 1. 1. 1. 1.]\n"
     ]
    }
   ],
   "source": [
    "# Convert covariates to floats\n",
    "X.astype(float)\n",
    "\n",
    "# Convert labels to ints\n",
    "Y.astype(int)\n",
    "\n",
    "# Remove mean of each covariate (column)\n",
    "X = X - np.mean(X, axis=0)\n",
    "\n",
    "# Divide each covariate (column) by its standard deviation\n",
    "X = X / np.std(X, axis=0)\n",
    "\n",
    "# Check that mean is 0 and standard deviation is 1 for all covariates, by printing mean and std\n",
    "print('Mean of covariates {}'.format(np.round(np.mean(X, axis=0))))\n",
    "print('SD of covariates {}'.format(np.std(X, axis=0))) "
   ]
  },
  {
   "cell_type": "markdown",
   "metadata": {},
   "source": [
    "# Part 7: Split the dataset\n",
    "\n",
    "Use the first 70% of the dataset for training, leave the other 30% for validation and test, call the variables\n",
    "\n",
    "Xtrain (70%)\n",
    "\n",
    "Xtemp  (30%)\n",
    "\n",
    "Ytrain (70%)\n",
    "\n",
    "Ytemp  (30%)\n"
   ]
  },
  {
   "cell_type": "code",
   "execution_count": 6,
   "metadata": {},
   "outputs": [
    {
     "name": "stdout",
     "output_type": "stream",
     "text": [
      "Xtrain has size (534896, 68).\n",
      "Ytrain has size (534896,).\n",
      "Xtemp has size (229241, 68).\n",
      "Ytemp has size (229241,).\n",
      "\n",
      "Number of class 0 examples in:\n",
      "\ttraining data : 121621\n",
      "\tremaining 30% : 0\n",
      "\n",
      "Number of class 1 examples in:\n",
      "\ttraining data : 413275\n",
      "\tremaining 30% : 229241\n"
     ]
    }
   ],
   "source": [
    "# Split the data into training (70%), validation and test (30%)\n",
    "n      = len(Y)\n",
    "split  = round(0.7*n)\n",
    "\n",
    "Xtrain = X[0:split, ]\n",
    "Ytrain = Y[0:split]\n",
    "\n",
    "Xtemp  = X[split:, ]\n",
    "Ytemp  = Y[split:]\n",
    "\n",
    "print('Xtrain has size {}.'.format(Xtrain.shape))\n",
    "print('Ytrain has size {}.'.format(Ytrain.shape))\n",
    "\n",
    "print('Xtemp has size {}.'.format(Xtemp.shape))\n",
    "print('Ytemp has size {}.'.format(Ytemp.shape))\n",
    "\n",
    "# Print the number of examples of each class, for the training data and the remaining 30%\n",
    "print('\\nNumber of class 0 examples in:' + \n",
    "      '\\n\\ttraining data : {}'.format(np.count_nonzero(Ytrain==0)) +\n",
    "      '\\n\\tremaining 30% : {}'.format(np.count_nonzero(Ytemp==0)))\n",
    "\n",
    "print('\\nNumber of class 1 examples in:' + \n",
    "      '\\n\\ttraining data : {}'.format(np.count_nonzero(Ytrain==1)) +\n",
    "      '\\n\\tremaining 30% : {}'.format(np.count_nonzero(Ytemp==1)))"
   ]
  },
  {
   "cell_type": "markdown",
   "metadata": {},
   "source": [
    "# Part 8: Number of examples per class\n",
    "\n",
    "Question 8: Can we use the dataset as it is? Why not?\n",
    "\n",
    "Lets randomly shuffle the data, to get some examples of each class in training data and in the remaining 30%. Use the function `shuffle` in scikit learn\n",
    "\n",
    "https://scikit-learn.org/stable/modules/generated/sklearn.utils.shuffle.html"
   ]
  },
  {
   "cell_type": "markdown",
   "metadata": {},
   "source": [
    "### Answer Q8\n",
    "\n",
    "Q8: We cannot use the datasets as it is because the classes are not uniformly distributed between the training and test datasets. There are no instances of class 0 in the test dataset. "
   ]
  },
  {
   "cell_type": "code",
   "execution_count": 7,
   "metadata": {},
   "outputs": [
    {
     "name": "stdout",
     "output_type": "stream",
     "text": [
      "\n",
      "Number of class 0 examples in:\n",
      "\ttraining data : 85204\n",
      "\tremaining 30% : 36417\n",
      "\n",
      "Number of class 1 examples in:\n",
      "\ttraining data : 449692\n",
      "\tremaining 30% : 192824\n"
     ]
    }
   ],
   "source": [
    "from sklearn.utils import shuffle\n",
    "\n",
    "# Randomly shuffle data, to get both classes in training and testing\n",
    "X, Y   = shuffle(X, Y)\n",
    "\n",
    "# Divide the data into training and validation/test again\n",
    "Xtrain = X[0:split, ]\n",
    "Ytrain = Y[0:split]\n",
    "\n",
    "Xtemp  = X[split:, ]\n",
    "Ytemp  = Y[split:]\n",
    "\n",
    "# Print the number of examples of each class, for the training data and the remaining 30%\n",
    "print('\\nNumber of class 0 examples in:' + \n",
    "      '\\n\\ttraining data : {}'.format(np.count_nonzero(Ytrain==0)) +\n",
    "      '\\n\\tremaining 30% : {}'.format(np.count_nonzero(Ytemp==0)))\n",
    "\n",
    "print('\\nNumber of class 1 examples in:' + \n",
    "      '\\n\\ttraining data : {}'.format(np.count_nonzero(Ytrain==1)) +\n",
    "      '\\n\\tremaining 30% : {}'.format(np.count_nonzero(Ytemp==1)))"
   ]
  },
  {
   "cell_type": "markdown",
   "metadata": {},
   "source": [
    "#  Part 9: Split non-training data data into validation and test\n",
    "Split your non-training data (Xtemp, Ytemp) into 50% validation (Xval, Yval) and 50% testing (Xtest, Ytest), we use a function from scikit learn. \n",
    "\n",
    "https://scikit-learn.org/stable/modules/generated/sklearn.model_selection.train_test_split.html\n"
   ]
  },
  {
   "cell_type": "code",
   "execution_count": 8,
   "metadata": {},
   "outputs": [
    {
     "name": "stdout",
     "output_type": "stream",
     "text": [
      "The validation and test data have size (114620, 68), (114621, 68), (114620,) and (114621,)\n"
     ]
    }
   ],
   "source": [
    "from sklearn.model_selection import train_test_split\n",
    "\n",
    "Xval, Xtest, Yval, Ytest = train_test_split(Xtemp, Ytemp, test_size=0.5)\n",
    "print('The validation and test data have size {}, {}, {} and {}'.format(Xval.shape, Xtest.shape, Yval.shape, Ytest.shape))"
   ]
  },
  {
   "cell_type": "markdown",
   "metadata": {},
   "source": [
    "# Part 10: DNN classification\n",
    "\n",
    "Finish this code to create a first version of the classifier using a DNN. Start with a simple network with 2 dense layers (with 20 nodes each), using sigmoid activation functions. The final dense layer should have a single node and a sigmoid activation function. We start with the SGD optimizer.\n",
    "\n",
    "Relevant functions are\n",
    "\n",
    "`model.add()`, adds a layer to the network\n",
    "\n",
    "`Dense()`, a dense network layer\n",
    "\n",
    "`model.compile()`, compile the model, add \" metrics=['accuracy'] \" to print the classification accuracy during the training\n",
    "\n",
    "`model.fit()`, train the model with some training data\n",
    "\n",
    "`model.evaluate()`, apply the trained model to some test data\n",
    "\n",
    "See https://keras.io/layers/core/ for information on how the `Dense()` function works\n",
    "\n",
    "Import a relevant cost / loss function for binary classification from keras.losses (https://keras.io/losses/)\n",
    "\n",
    "See https://keras.io/models/model/ for how to compile, train and evaluate the model"
   ]
  },
  {
   "cell_type": "code",
   "execution_count": 9,
   "metadata": {},
   "outputs": [],
   "source": [
    "from keras.models import Sequential, Model\n",
    "from keras.layers import Input, Dense\n",
    "from keras.optimizers import SGD, Adam\n",
    "from keras.losses import binary_crossentropy as BC\n",
    "from keras.layers import BatchNormalization, Dropout\n",
    "\n",
    "# Set seed from random number generator, for better comparisons\n",
    "from numpy.random import seed\n",
    "seed(123)\n",
    "\n",
    "def build_DNN(input_shape, n_layers, n_nodes, act_fun='sigmoid', optimizer='SGD', learning_rate=0.01, \n",
    "              use_bn=False, use_dropout=False, use_custom_dropout=False):\n",
    "    \n",
    "    # Setup optimizer, depending on input parameter string\n",
    "    optim = eval(optimizer)(lr=learning_rate)\n",
    "    \n",
    "    # Setup a sequential model\n",
    "    model = Sequential()\n",
    "\n",
    "    # Add layers to the model, using the input parameters of the build_DNN function\n",
    "    \n",
    "    # Add first layer, requires input shape\n",
    "    model.add(Dense(n_nodes, activation=act_fun, input_shape=input_shape))\n",
    "    \n",
    "    # Add batch normalization after the first layer\n",
    "    if use_bn==True:\n",
    "        model.add(BatchNormalization())\n",
    "    \n",
    "    # Add dropout after the first layer\n",
    "    if use_dropout==True:\n",
    "        if use_custom_dropout==True:\n",
    "            model.add(myDropout(rate=0.5))            \n",
    "        model.add(Dropout(rate=0.5))\n",
    "            \n",
    "    # Add remaining layers, do not require input shape\n",
    "    for i in range(n_layers-1):\n",
    "        model.add(Dense(n_nodes, activation=act_fun))\n",
    "        \n",
    "        # Add batch normalization after each dense layer\n",
    "        if use_bn==True:\n",
    "            model.add(BatchNormalization())\n",
    "        \n",
    "        # Add dropout after each dense layer\n",
    "        if use_dropout==True:\n",
    "            if use_custom_dropout==True:\n",
    "                model.add(myDropout(rate=0.5))               \n",
    "            model.add(Dropout(0.5))\n",
    "            \n",
    "    # Final layer\n",
    "    model.add(Dense(1, activation='sigmoid'))\n",
    "    \n",
    "    # Compile model\n",
    "    model.compile(loss=BC, optimizer=optim, metrics=['accuracy'])\n",
    "    \n",
    "    return model"
   ]
  },
  {
   "cell_type": "code",
   "execution_count": 10,
   "metadata": {},
   "outputs": [],
   "source": [
    "# Lets define a help function for plotting the training results\n",
    "\n",
    "# IMPORTANT NOTE\n",
    "# The history unfortunately behaves a bit randomly for every user\n",
    "# If the plots for accuracy and loss look mixed, change the order of\n",
    "# val_loss, val_acc, loss, acc\n",
    "# until the plots look as they \"should\"\n",
    "\n",
    "import matplotlib.pyplot as plt\n",
    "def plot_results(history):\n",
    "    val_loss, val_acc, loss, acc = history.history.values()\n",
    "\n",
    "    plt.figure(figsize=(10,4))\n",
    "    plt.xlabel('Epochs')\n",
    "    plt.ylabel('Loss')\n",
    "    plt.plot(loss)\n",
    "    plt.plot(val_loss)\n",
    "    plt.legend(['Training','Validation'])\n",
    "\n",
    "    plt.figure(figsize=(10,4))\n",
    "    plt.xlabel('Epochs')\n",
    "    plt.ylabel('Accuracy')\n",
    "    plt.plot(acc)\n",
    "    plt.plot(val_acc)\n",
    "    plt.legend(['Training','Validation'])\n",
    "\n",
    "    plt.show()"
   ]
  },
  {
   "cell_type": "markdown",
   "metadata": {},
   "source": [
    "# Part 11: Train the DNN\n",
    "\n",
    "Time to train the DNN, we start simple with 2 layers with 2 nodes each, learning rate 0.1."
   ]
  },
  {
   "cell_type": "markdown",
   "metadata": {},
   "source": [
    "### 2 layers, 20 nodes"
   ]
  },
  {
   "cell_type": "code",
   "execution_count": 1,
   "metadata": {},
   "outputs": [
    {
     "ename": "NameError",
     "evalue": "name 'Xtrain' is not defined",
     "output_type": "error",
     "traceback": [
      "\u001b[1;31m---------------------------------------------------------------------------\u001b[0m",
      "\u001b[1;31mNameError\u001b[0m                                 Traceback (most recent call last)",
      "\u001b[1;32m<ipython-input-1-49b180fe8b22>\u001b[0m in \u001b[0;36m<module>\u001b[1;34m\u001b[0m\n\u001b[0;32m      2\u001b[0m \u001b[0mbatch_size\u001b[0m \u001b[1;33m=\u001b[0m \u001b[1;36m10000\u001b[0m\u001b[1;33m\u001b[0m\u001b[1;33m\u001b[0m\u001b[0m\n\u001b[0;32m      3\u001b[0m \u001b[0mepochs\u001b[0m \u001b[1;33m=\u001b[0m \u001b[1;36m20\u001b[0m\u001b[1;33m\u001b[0m\u001b[1;33m\u001b[0m\u001b[0m\n\u001b[1;32m----> 4\u001b[1;33m \u001b[0minput_shape\u001b[0m \u001b[1;33m=\u001b[0m \u001b[1;33m(\u001b[0m\u001b[0mXtrain\u001b[0m\u001b[1;33m.\u001b[0m\u001b[0mshape\u001b[0m\u001b[1;33m[\u001b[0m\u001b[1;36m1\u001b[0m\u001b[1;33m]\u001b[0m\u001b[1;33m,\u001b[0m \u001b[1;33m)\u001b[0m\u001b[1;33m\u001b[0m\u001b[1;33m\u001b[0m\u001b[0m\n\u001b[0m\u001b[0;32m      5\u001b[0m \u001b[1;33m\u001b[0m\u001b[0m\n\u001b[0;32m      6\u001b[0m \u001b[1;31m# Build the model\u001b[0m\u001b[1;33m\u001b[0m\u001b[1;33m\u001b[0m\u001b[1;33m\u001b[0m\u001b[0m\n",
      "\u001b[1;31mNameError\u001b[0m: name 'Xtrain' is not defined"
     ]
    }
   ],
   "source": [
    "# Setup some training parameters\n",
    "batch_size = 10000\n",
    "epochs = 20\n",
    "input_shape = (Xtrain.shape[1], )\n",
    "\n",
    "# Build the model\n",
    "model1 = build_DNN(input_shape=input_shape, n_layers=2, n_nodes=20, learning_rate=0.1)\n",
    "\n",
    "# Train the model, provide training data and validation data\n",
    "history1 = model1.fit(Xtrain, Ytrain, batch_size=batch_size, epochs=epochs, validation_data=(Xval, Yval))"
   ]
  },
  {
   "cell_type": "code",
   "execution_count": 12,
   "metadata": {},
   "outputs": [
    {
     "name": "stdout",
     "output_type": "stream",
     "text": [
      "114621/114621 [==============================] - 0s 1us/step\n",
      "Test loss: 0.1864\n",
      "Test accuracy: 0.8980\n"
     ]
    }
   ],
   "source": [
    "# Evaluate the model on the test data\n",
    "score = model1.evaluate(Xtest, Ytest, batch_size=batch_size)\n",
    "\n",
    "print('Test loss: %.4f' % score[0])\n",
    "print('Test accuracy: %.4f' % score[1])"
   ]
  },
  {
   "cell_type": "code",
   "execution_count": 13,
   "metadata": {},
   "outputs": [
    {
     "data": {
      "image/png": "[encoded data removed]",
      "text/plain": [
       "<Figure size 720x288 with 1 Axes>"
      ]
     },
     "metadata": {
      "needs_background": "light"
     },
     "output_type": "display_data"
    },
    {
     "data": {
      "image/png": "[encoded data removed]",
      "text/plain": [
       "<Figure size 720x288 with 1 Axes>"
      ]
     },
     "metadata": {
      "needs_background": "light"
     },
     "output_type": "display_data"
    }
   ],
   "source": [
    "# Plot the history from the training run\n",
    "plot_results(history1)"
   ]
  },
  {
   "cell_type": "markdown",
   "metadata": {},
   "source": [
    "# Part 12: More questions\n",
    "\n",
    "Question 9: What happens if you add several Dense layers without specifying the activation function?\n",
    "\n",
    "Question 10: How are the weights in each dense layer initialized as default? How are the bias weights initialized?\n"
   ]
  },
  {
   "cell_type": "markdown",
   "metadata": {},
   "source": [
    "### Answers Q9-Q10\n",
    "\n",
    "Q9: Adding a dense layer without specifying the activation function is the same as using a linear (identity) activation function because that is the default activation in keras. The test loss has reduced to 0.17 and the accuracy has increased to 0.91 when compared to sigmoid activation in the dense layers.\n",
    "\n",
    "Q10: We can see that the weights and biases are initialized to values less close to zero and less than 1. In keras, the the default kernel initializer for weights is glorot_uniform (also known as xavier's initialization) and the bias initializer is zeroes. Hence, the initial weights are random samples drawn from a normal distribution with mean=0 and stddev=sqrt(2/n) where n is the number of units in the layer and the biases are initialized to zeros.\n"
   ]
  },
  {
   "cell_type": "code",
   "execution_count": 14,
   "metadata": {},
   "outputs": [
    {
     "data": {
      "text/plain": [
       "<matplotlib.legend.Legend at 0x166b6be4808>"
      ]
     },
     "execution_count": 14,
     "metadata": {},
     "output_type": "execute_result"
    },
    {
     "data": {
      "image/png": "[encoded data removed]",
      "text/plain": [
       "<Figure size 432x288 with 1 Axes>"
      ]
     },
     "metadata": {
      "needs_background": "light"
     },
     "output_type": "display_data"
    }
   ],
   "source": [
    "import matplotlib.pyplot as plt\n",
    "biases  = model1.get_weights()[1:6:2]\n",
    "weights = model1.get_weights()[0:5:2]\n",
    "\n",
    "plt.plot(biases[0], label=f\"Bias initialization\")\n",
    "plt.plot(weights[0][0], label=f\"Weight initialization\")\n",
    "plt.xlabel(f\"Units in Dense Layer 1\")\n",
    "plt.ylabel(f\"Biases / Weights\")\n",
    "plt.legend()"
   ]
  },
  {
   "cell_type": "markdown",
   "metadata": {},
   "source": [
    "# Part 13: Balancing the classes\n",
    "\n",
    "This dataset is rather unbalanced, we need to define class weights so that the training pays more attention to the class with fewer samples. We use a function in scikit learn\n",
    "\n",
    "https://scikit-learn.org/stable/modules/generated/sklearn.utils.class_weight.compute_class_weight.html"
   ]
  },
  {
   "cell_type": "code",
   "execution_count": 15,
   "metadata": {},
   "outputs": [
    {
     "name": "stdout",
     "output_type": "stream",
     "text": [
      "The class weights for classes 0 and 1 are respectively [3.13891367 0.59473595]\n"
     ]
    }
   ],
   "source": [
    "from sklearn.utils import class_weight\n",
    "\n",
    "# Calculate class weights\n",
    "class_weights = class_weight.compute_class_weight(class_weight='balanced', classes=np.unique(Ytrain), y=Ytrain)\n",
    "\n",
    "# Print the class weights\n",
    "print('The class weights for classes 0 and 1 are respectively {}'.format(class_weights))"
   ]
  },
  {
   "cell_type": "markdown",
   "metadata": {},
   "source": [
    "### 2 layers, 20 nodes, class weights"
   ]
  },
  {
   "cell_type": "code",
   "execution_count": 16,
   "metadata": {
    "scrolled": true
   },
   "outputs": [
    {
     "name": "stdout",
     "output_type": "stream",
     "text": [
      "Train on 534896 samples, validate on 114620 samples\n",
      "Epoch 1/20\n",
      "534896/534896 [==============================] - 1s 2us/step - loss: 0.4078 - accuracy: 0.8407 - val_loss: 0.3893 - val_accuracy: 0.8408\n",
      "Epoch 2/20\n",
      "534896/534896 [==============================] - 1s 2us/step - loss: 0.3700 - accuracy: 0.8407 - val_loss: 0.3480 - val_accuracy: 0.8408\n",
      "Epoch 3/20\n",
      "534896/534896 [==============================] - 1s 2us/step - loss: 0.3257 - accuracy: 0.8407 - val_loss: 0.3022 - val_accuracy: 0.8408\n",
      "Epoch 4/20\n",
      "534896/534896 [==============================] - 1s 2us/step - loss: 0.2818 - accuracy: 0.8407 - val_loss: 0.2627 - val_accuracy: 0.8411\n",
      "Epoch 5/20\n",
      "534896/534896 [==============================] - 1s 2us/step - loss: 0.2484 - accuracy: 0.8511 - val_loss: 0.2364 - val_accuracy: 0.8633\n",
      "Epoch 6/20\n",
      "534896/534896 [==============================] - 1s 2us/step - loss: 0.2277 - accuracy: 0.8719 - val_loss: 0.2211 - val_accuracy: 0.8752\n",
      "Epoch 7/20\n",
      "534896/534896 [==============================] - 1s 2us/step - loss: 0.2158 - accuracy: 0.8798 - val_loss: 0.2122 - val_accuracy: 0.8836\n",
      "Epoch 8/20\n",
      "534896/534896 [==============================] - 1s 2us/step - loss: 0.2087 - accuracy: 0.8899 - val_loss: 0.2067 - val_accuracy: 0.8941\n",
      "Epoch 9/20\n",
      "534896/534896 [==============================] - 1s 2us/step - loss: 0.2040 - accuracy: 0.8957 - val_loss: 0.2028 - val_accuracy: 0.8949\n",
      "Epoch 10/20\n",
      "534896/534896 [==============================] - 1s 2us/step - loss: 0.2007 - accuracy: 0.8965 - val_loss: 0.2000 - val_accuracy: 0.8960\n",
      "Epoch 11/20\n",
      "534896/534896 [==============================] - 1s 2us/step - loss: 0.1982 - accuracy: 0.8979 - val_loss: 0.1977 - val_accuracy: 0.8980\n",
      "Epoch 12/20\n",
      "534896/534896 [==============================] - 1s 2us/step - loss: 0.1961 - accuracy: 0.8995 - val_loss: 0.1958 - val_accuracy: 0.8972\n",
      "Epoch 13/20\n",
      "534896/534896 [==============================] - 1s 2us/step - loss: 0.1943 - accuracy: 0.8984 - val_loss: 0.1941 - val_accuracy: 0.8977\n",
      "Epoch 14/20\n",
      "534896/534896 [==============================] - 1s 2us/step - loss: 0.1927 - accuracy: 0.8988 - val_loss: 0.1926 - val_accuracy: 0.8982\n",
      "Epoch 15/20\n",
      "534896/534896 [==============================] - 1s 2us/step - loss: 0.1913 - accuracy: 0.8994 - val_loss: 0.1913 - val_accuracy: 0.8989\n",
      "Epoch 16/20\n",
      "534896/534896 [==============================] - 1s 2us/step - loss: 0.1900 - accuracy: 0.9001 - val_loss: 0.1901 - val_accuracy: 0.8984\n",
      "Epoch 17/20\n",
      "534896/534896 [==============================] - 1s 2us/step - loss: 0.1889 - accuracy: 0.8998 - val_loss: 0.1890 - val_accuracy: 0.8985\n",
      "Epoch 18/20\n",
      "534896/534896 [==============================] - 1s 2us/step - loss: 0.1878 - accuracy: 0.8997 - val_loss: 0.1879 - val_accuracy: 0.8986\n",
      "Epoch 19/20\n",
      "534896/534896 [==============================] - 1s 2us/step - loss: 0.1868 - accuracy: 0.8999 - val_loss: 0.1870 - val_accuracy: 0.8987\n",
      "Epoch 20/20\n",
      "534896/534896 [==============================] - 1s 2us/step - loss: 0.1859 - accuracy: 0.9000 - val_loss: 0.1861 - val_accuracy: 0.8989\n"
     ]
    }
   ],
   "source": [
    "# Setup some training parameters\n",
    "batch_size = 10000\n",
    "epochs = 20\n",
    "input_shape = (Xtrain.shape[1], )\n",
    "\n",
    "# Build and train model\n",
    "model2 = build_DNN(input_shape=input_shape, n_layers=2, n_nodes=20, learning_rate=0.1)\n",
    "\n",
    "history2 = model2.fit(Xtrain, Ytrain, batch_size=batch_size, epochs=epochs, validation_data=(Xval, Yval), class_weight=class_weights)"
   ]
  },
  {
   "cell_type": "code",
   "execution_count": 17,
   "metadata": {},
   "outputs": [
    {
     "name": "stdout",
     "output_type": "stream",
     "text": [
      "114621/114621 [==============================] - 0s 1us/step\n",
      "Test loss: 0.1841\n",
      "Test accuracy: 0.9010\n"
     ]
    }
   ],
   "source": [
    "# Evaluate model on test data\n",
    "score = model2.evaluate(Xtest, Ytest, batch_size=batch_size)\n",
    "\n",
    "print('Test loss: %.4f' % score[0])\n",
    "\n",
    "print('Test accuracy: %.4f' % score[1])"
   ]
  },
  {
   "cell_type": "code",
   "execution_count": 18,
   "metadata": {},
   "outputs": [
    {
     "data": {
      "image/png": "[encoded data removed]",
      "text/plain": [
       "<Figure size 720x288 with 1 Axes>"
      ]
     },
     "metadata": {
      "needs_background": "light"
     },
     "output_type": "display_data"
    },
    {
     "data": {
      "image/png": "[encoded data removed]",
      "text/plain": [
       "<Figure size 720x288 with 1 Axes>"
      ]
     },
     "metadata": {
      "needs_background": "light"
     },
     "output_type": "display_data"
    }
   ],
   "source": [
    "plot_results(history2)"
   ]
  },
  {
   "cell_type": "markdown",
   "metadata": {},
   "source": [
    "# Part 14: More questions\n",
    "\n",
    "Question 11: Why do we have to use a batch size? Why can't we simply use all data at once? This is more relevant for even larger datasets.\n",
    "\n",
    "Question 12: How busy is the GPU for a batch size of 100? How much GPU memory is used? Hint: run 'nvidia-smi' on the cloud computer a few times during training.\n",
    "\n",
    "Question 13: What is the processing time for one training epoch when the batch size is 100? What is the processing time for one epoch when the batch size is 1,000? What is the processing time for one epoch when the batch size is 10,000? Explain the results. \n",
    "\n",
    "Question 14: How many times are the weights in the DNN updated in each training epoch if the batch size is 100? How many times are the weights in the DNN updated in each training epoch if the batch size is 1,000? How many times are the weights in the DNN updated in each training epoch if the batch size is 10,000?  \n",
    "\n",
    "Question 15: What limits how large the batch size can be?\n",
    "\n",
    "Question 16: Generally speaking, how is the learning rate related to the batch size? If the batch size is decreased, how should the learning rate be changed?\n",
    "\n",
    "Lets use a batch size of 10,000 from now on, and a learning rate of 0.1."
   ]
  },
  {
   "cell_type": "markdown",
   "metadata": {},
   "source": [
    "### Answers Q11-Q16\n",
    "\n",
    "Q11: When the datasets are very large, we may not be able to fit the whole data in the machine memory. So we essentially process the data and train the network in batches. Large datasets may also consume a lot of resources. So we apply the calculations iteratively on a portion of the data to save time and computational resources. Very small batch sizes can exploit the parallel processing power of the GPU but the gradient descent will be more noisy because the gradent estimates based on small batches are less accurate. \n",
    "\n",
    "Q12: GPU is operating at a capacity of 31% of its full memory for batch size=100. \n",
    "\n",
    "Q13: 31% GPU memory and 12s per epoch for batch size=100, 33% GPU memory and 2s per epoch for batch size=1000, 21% GPU memory 1s per epoch for batch size=10000. We can see that as the batch size increases, the training time for one epoch decreases. As the batch size increases, the number of iterations in each epoch decreases and hence the training time decreases. \n",
    "\n",
    "Q14: When we specify a batch size the DNN will update the weights after passing the data samples in each batch. There are 534896 samples in the training dataset. For a batch size=100, weights will be updated 534896/100=5349 times in each epoch. Similarly, when batch size=1000 there will be 534896/1000=535 weight updates in each epoch. And when batch size=10000 weights will be updated 534896/10000=54 times in each epoch. As the batch size increases, the number of iterations in each epoch decreases and hence the training time decreases. \n",
    "\n",
    "Q15: The GPU memory and its computational capacity to perform parallel operations limit our choice of batch size. The larger the batch size, the more confident and sure we are of the loss gradient and less noise in the optimization path. If the batch size increases too much to contain the whole data, the loss gradient is calculated only after looking at all the samples in the dataset, which is computationally expensive. But we will get to the lowest gradient in the fewest number of steps. With a small batch size, the gradient descent will be more noisy, i.e. we will wander around a bit but the cost of computation of one gradient is trivial and will eventually reach the minimum. \n",
    "\n",
    "Q16: Larger batch size means that we have more data to compute the gradient and hence more confidence (accuracy) in the direction of the gradient descent. Hence we can get away with higher learning rates. When the batch size is decreased, the learning rate should also be decreased because the gradients are less accurate and the descent should be slow in order to not overshoot the optimum. \n",
    "\n",
    "**Notes:** If the batch size is too small, the training becomes slow because of significantly lower computational speed, because of not exploiting vectorization to the full extent. A larger batch size is more efficient computationally (up to a point) but while that might increase the number of samples processed, it can also mean that the number of SGD iterations taken decreases. With deep networks it's preferable to take many small steps than to take fewer larger ones (This design tradeoff requires experimentation to optimize for any given dataset/network)"
   ]
  },
  {
   "cell_type": "markdown",
   "metadata": {},
   "source": [
    "# Part 15: Increasing the complexity\n",
    "\n",
    "Lets try some different configurations of number of layers and number of nodes per layer.\n",
    "\n",
    "Question 17: How many trainable parameters does the network with 4 dense layers with 50 nodes each have, compared to the initial network with 2 layers and 20 nodes per layer? Hint: use model.summary()"
   ]
  },
  {
   "cell_type": "markdown",
   "metadata": {},
   "source": [
    "### 4 layers, 20 nodes, class weights"
   ]
  },
  {
   "cell_type": "code",
   "execution_count": 19,
   "metadata": {
    "scrolled": true
   },
   "outputs": [
    {
     "name": "stdout",
     "output_type": "stream",
     "text": [
      "Train on 534896 samples, validate on 114620 samples\n",
      "Epoch 1/20\n",
      "534896/534896 [==============================] - 2s 4us/step - loss: 0.4445 - accuracy: 0.8409 - val_loss: 0.4415 - val_accuracy: 0.8390\n",
      "Epoch 2/20\n",
      "534896/534896 [==============================] - 2s 4us/step - loss: 0.4382 - accuracy: 0.8409 - val_loss: 0.4414 - val_accuracy: 0.8390\n",
      "Epoch 3/20\n",
      "534896/534896 [==============================] - 2s 4us/step - loss: 0.4381 - accuracy: 0.8409 - val_loss: 0.4412 - val_accuracy: 0.8390\n",
      "Epoch 4/20\n",
      "534896/534896 [==============================] - 2s 5us/step - loss: 0.4380 - accuracy: 0.8409 - val_loss: 0.4411 - val_accuracy: 0.8390\n",
      "Epoch 5/20\n",
      "534896/534896 [==============================] - 2s 4us/step - loss: 0.4379 - accuracy: 0.8409 - val_loss: 0.4410 - val_accuracy: 0.8390\n",
      "Epoch 6/20\n",
      "534896/534896 [==============================] - 2s 4us/step - loss: 0.4377 - accuracy: 0.8409 - val_loss: 0.4409 - val_accuracy: 0.8390\n",
      "Epoch 7/20\n",
      "534896/534896 [==============================] - 2s 4us/step - loss: 0.4376 - accuracy: 0.8409 - val_loss: 0.4408 - val_accuracy: 0.8390\n",
      "Epoch 8/20\n",
      "534896/534896 [==============================] - 2s 5us/step - loss: 0.4375 - accuracy: 0.8409 - val_loss: 0.4407 - val_accuracy: 0.8390\n",
      "Epoch 9/20\n",
      "534896/534896 [==============================] - 2s 4us/step - loss: 0.4374 - accuracy: 0.8409 - val_loss: 0.4405 - val_accuracy: 0.8390\n",
      "Epoch 10/20\n",
      "534896/534896 [==============================] - 2s 4us/step - loss: 0.4372 - accuracy: 0.8409 - val_loss: 0.4404 - val_accuracy: 0.8390\n",
      "Epoch 11/20\n",
      "534896/534896 [==============================] - 2s 4us/step - loss: 0.4371 - accuracy: 0.8409 - val_loss: 0.4402 - val_accuracy: 0.8390\n",
      "Epoch 12/20\n",
      "534896/534896 [==============================] - 2s 4us/step - loss: 0.4369 - accuracy: 0.8409 - val_loss: 0.4400 - val_accuracy: 0.8390\n",
      "Epoch 13/20\n",
      "534896/534896 [==============================] - 3s 5us/step - loss: 0.4367 - accuracy: 0.8409 - val_loss: 0.4398 - val_accuracy: 0.8390\n",
      "Epoch 14/20\n",
      "534896/534896 [==============================] - 2s 4us/step - loss: 0.4365 - accuracy: 0.8409 - val_loss: 0.4396 - val_accuracy: 0.8390\n",
      "Epoch 15/20\n",
      "534896/534896 [==============================] - 2s 4us/step - loss: 0.4363 - accuracy: 0.8409 - val_loss: 0.4394 - val_accuracy: 0.8390\n",
      "Epoch 16/20\n",
      "534896/534896 [==============================] - 2s 4us/step - loss: 0.4361 - accuracy: 0.8409 - val_loss: 0.4391 - val_accuracy: 0.8390\n",
      "Epoch 17/20\n",
      "534896/534896 [==============================] - 2s 4us/step - loss: 0.4358 - accuracy: 0.8409 - val_loss: 0.4388 - val_accuracy: 0.8390\n",
      "Epoch 18/20\n",
      "534896/534896 [==============================] - 3s 5us/step - loss: 0.4355 - accuracy: 0.8409 - val_loss: 0.4385 - val_accuracy: 0.8390\n",
      "Epoch 19/20\n",
      "534896/534896 [==============================] - 2s 4us/step - loss: 0.4351 - accuracy: 0.8409 - val_loss: 0.4381 - val_accuracy: 0.8390\n",
      "Epoch 20/20\n",
      "534896/534896 [==============================] - 3s 5us/step - loss: 0.4347 - accuracy: 0.8409 - val_loss: 0.4376 - val_accuracy: 0.8390\n"
     ]
    }
   ],
   "source": [
    "# Setup some training parameters\n",
    "batch_size = 10000\n",
    "epochs = 20\n",
    "input_shape = (Xtrain.shape[1], )\n",
    "\n",
    "# Build and train model\n",
    "model3 = build_DNN(input_shape=input_shape, n_layers=4, n_nodes=20, learning_rate=0.1)\n",
    "\n",
    "history3 = model3.fit(Xtrain, Ytrain, batch_size=batch_size, epochs=epochs, validation_data=(Xval, Yval), class_weight=class_weights)"
   ]
  },
  {
   "cell_type": "code",
   "execution_count": 20,
   "metadata": {},
   "outputs": [
    {
     "name": "stdout",
     "output_type": "stream",
     "text": [
      "114621/114621 [==============================] - 0s 3us/step\n",
      "Test loss: 0.4319\n",
      "Test accuracy: 0.8424\n"
     ]
    }
   ],
   "source": [
    "# Evaluate model on test data\n",
    "score = model3.evaluate(Xtest, Ytest, batch_size=batch_size)\n",
    "\n",
    "print('Test loss: %.4f' % score[0])\n",
    "print('Test accuracy: %.4f' % score[1])"
   ]
  },
  {
   "cell_type": "code",
   "execution_count": 21,
   "metadata": {},
   "outputs": [
    {
     "data": {
      "image/png": "[encoded data removed]",
      "text/plain": [
       "<Figure size 720x288 with 1 Axes>"
      ]
     },
     "metadata": {
      "needs_background": "light"
     },
     "output_type": "display_data"
    },
    {
     "data": {
      "image/png": "[encoded data removed]",
      "text/plain": [
       "<Figure size 720x288 with 1 Axes>"
      ]
     },
     "metadata": {
      "needs_background": "light"
     },
     "output_type": "display_data"
    }
   ],
   "source": [
    "plot_results(history3)"
   ]
  },
  {
   "cell_type": "markdown",
   "metadata": {},
   "source": [
    "### 2 layers, 50 nodes, class weights"
   ]
  },
  {
   "cell_type": "code",
   "execution_count": 22,
   "metadata": {
    "scrolled": true
   },
   "outputs": [
    {
     "name": "stdout",
     "output_type": "stream",
     "text": [
      "Train on 534896 samples, validate on 114620 samples\n",
      "Epoch 1/20\n",
      "534896/534896 [==============================] - 3s 5us/step - loss: 0.4179 - accuracy: 0.8409 - val_loss: 0.3917 - val_accuracy: 0.8390\n",
      "Epoch 2/20\n",
      "534896/534896 [==============================] - 3s 5us/step - loss: 0.3625 - accuracy: 0.8409 - val_loss: 0.3342 - val_accuracy: 0.8390\n",
      "Epoch 3/20\n",
      "534896/534896 [==============================] - 2s 4us/step - loss: 0.3035 - accuracy: 0.8425 - val_loss: 0.2763 - val_accuracy: 0.8503\n",
      "Epoch 4/20\n",
      "534896/534896 [==============================] - 3s 5us/step - loss: 0.2554 - accuracy: 0.8552 - val_loss: 0.2391 - val_accuracy: 0.8583\n",
      "Epoch 5/20\n",
      "534896/534896 [==============================] - 2s 5us/step - loss: 0.2287 - accuracy: 0.8731 - val_loss: 0.2207 - val_accuracy: 0.8800\n",
      "Epoch 6/20\n",
      "534896/534896 [==============================] - 3s 5us/step - loss: 0.2156 - accuracy: 0.8812 - val_loss: 0.2114 - val_accuracy: 0.8834\n",
      "Epoch 7/20\n",
      "534896/534896 [==============================] - 2s 4us/step - loss: 0.2083 - accuracy: 0.8862 - val_loss: 0.2058 - val_accuracy: 0.8892\n",
      "Epoch 8/20\n",
      "534896/534896 [==============================] - 3s 5us/step - loss: 0.2037 - accuracy: 0.8902 - val_loss: 0.2019 - val_accuracy: 0.8906\n",
      "Epoch 9/20\n",
      "534896/534896 [==============================] - 3s 5us/step - loss: 0.2002 - accuracy: 0.8919 - val_loss: 0.1989 - val_accuracy: 0.8939\n",
      "Epoch 10/20\n",
      "534896/534896 [==============================] - 2s 4us/step - loss: 0.1975 - accuracy: 0.8952 - val_loss: 0.1965 - val_accuracy: 0.8954\n",
      "Epoch 11/20\n",
      "534896/534896 [==============================] - 2s 5us/step - loss: 0.1952 - accuracy: 0.8971 - val_loss: 0.1944 - val_accuracy: 0.8978\n",
      "Epoch 12/20\n",
      "534896/534896 [==============================] - 3s 5us/step - loss: 0.1932 - accuracy: 0.8987 - val_loss: 0.1925 - val_accuracy: 0.8991\n",
      "Epoch 13/20\n",
      "534896/534896 [==============================] - 2s 4us/step - loss: 0.1915 - accuracy: 0.9006 - val_loss: 0.1909 - val_accuracy: 0.9014\n",
      "Epoch 14/20\n",
      "534896/534896 [==============================] - 2s 4us/step - loss: 0.1899 - accuracy: 0.9018 - val_loss: 0.1894 - val_accuracy: 0.9024\n",
      "Epoch 15/20\n",
      "534896/534896 [==============================] - 2s 4us/step - loss: 0.1884 - accuracy: 0.9028 - val_loss: 0.1881 - val_accuracy: 0.9028\n",
      "Epoch 16/20\n",
      "534896/534896 [==============================] - 2s 4us/step - loss: 0.1871 - accuracy: 0.9041 - val_loss: 0.1868 - val_accuracy: 0.9049\n",
      "Epoch 17/20\n",
      "534896/534896 [==============================] - 2s 5us/step - loss: 0.1859 - accuracy: 0.9049 - val_loss: 0.1856 - val_accuracy: 0.9053\n",
      "Epoch 18/20\n",
      "534896/534896 [==============================] - 2s 4us/step - loss: 0.1848 - accuracy: 0.9051 - val_loss: 0.1845 - val_accuracy: 0.9055\n",
      "Epoch 19/20\n",
      "534896/534896 [==============================] - 2s 4us/step - loss: 0.1837 - accuracy: 0.9054 - val_loss: 0.1835 - val_accuracy: 0.9056\n",
      "Epoch 20/20\n",
      "534896/534896 [==============================] - 3s 5us/step - loss: 0.1828 - accuracy: 0.9055 - val_loss: 0.1826 - val_accuracy: 0.9058\n"
     ]
    }
   ],
   "source": [
    "# Setup some training parameters\n",
    "batch_size = 10000\n",
    "epochs = 20\n",
    "input_shape = (Xtrain.shape[1], )\n",
    "\n",
    "# Build and train model\n",
    "model4 = build_DNN(input_shape=input_shape, n_layers=2, n_nodes=50, learning_rate=0.1)\n",
    "\n",
    "history4 = model4.fit(Xtrain, Ytrain, batch_size=batch_size, epochs=epochs, validation_data=(Xval, Yval), class_weight=class_weights)"
   ]
  },
  {
   "cell_type": "code",
   "execution_count": 23,
   "metadata": {},
   "outputs": [
    {
     "name": "stdout",
     "output_type": "stream",
     "text": [
      "114621/114621 [==============================] - 0s 3us/step\n",
      "Test loss: 0.1827\n",
      "Test accuracy: 0.9052\n"
     ]
    }
   ],
   "source": [
    "# Evaluate model on test data\n",
    "score = model4.evaluate(Xtest, Ytest, batch_size=batch_size)\n",
    "\n",
    "print('Test loss: %.4f' % score[0])\n",
    "print('Test accuracy: %.4f' % score[1])"
   ]
  },
  {
   "cell_type": "code",
   "execution_count": 24,
   "metadata": {},
   "outputs": [
    {
     "data": {
      "image/png": "[encoded data removed]",
      "text/plain": [
       "<Figure size 720x288 with 1 Axes>"
      ]
     },
     "metadata": {
      "needs_background": "light"
     },
     "output_type": "display_data"
    },
    {
     "data": {
      "image/png": "[encoded data removed]",
      "text/plain": [
       "<Figure size 720x288 with 1 Axes>"
      ]
     },
     "metadata": {
      "needs_background": "light"
     },
     "output_type": "display_data"
    }
   ],
   "source": [
    "plot_results(history4)"
   ]
  },
  {
   "cell_type": "markdown",
   "metadata": {},
   "source": [
    "### 4 layers, 50 nodes, class weights"
   ]
  },
  {
   "cell_type": "code",
   "execution_count": 25,
   "metadata": {
    "scrolled": true
   },
   "outputs": [
    {
     "name": "stdout",
     "output_type": "stream",
     "text": [
      "Train on 534896 samples, validate on 114620 samples\n",
      "Epoch 1/20\n",
      "534896/534896 [==============================] - 3s 6us/step - loss: 0.4468 - accuracy: 0.8409 - val_loss: 0.4413 - val_accuracy: 0.8390\n",
      "Epoch 2/20\n",
      "534896/534896 [==============================] - 3s 6us/step - loss: 0.4380 - accuracy: 0.8409 - val_loss: 0.4412 - val_accuracy: 0.8390\n",
      "Epoch 3/20\n",
      "534896/534896 [==============================] - 3s 6us/step - loss: 0.4379 - accuracy: 0.8409 - val_loss: 0.4409 - val_accuracy: 0.8390\n",
      "Epoch 4/20\n",
      "534896/534896 [==============================] - 3s 6us/step - loss: 0.4377 - accuracy: 0.8409 - val_loss: 0.4407 - val_accuracy: 0.8390\n",
      "Epoch 5/20\n",
      "534896/534896 [==============================] - 3s 5us/step - loss: 0.4375 - accuracy: 0.8409 - val_loss: 0.4406 - val_accuracy: 0.8390\n",
      "Epoch 6/20\n",
      "534896/534896 [==============================] - 3s 6us/step - loss: 0.4372 - accuracy: 0.8409 - val_loss: 0.4403 - val_accuracy: 0.8390\n",
      "Epoch 7/20\n",
      "534896/534896 [==============================] - 3s 6us/step - loss: 0.4370 - accuracy: 0.8409 - val_loss: 0.4401 - val_accuracy: 0.8390\n",
      "Epoch 8/20\n",
      "534896/534896 [==============================] - 3s 6us/step - loss: 0.4367 - accuracy: 0.8409 - val_loss: 0.4398 - val_accuracy: 0.8390\n",
      "Epoch 9/20\n",
      "534896/534896 [==============================] - 3s 5us/step - loss: 0.4365 - accuracy: 0.8409 - val_loss: 0.4395 - val_accuracy: 0.8390\n",
      "Epoch 10/20\n",
      "534896/534896 [==============================] - 3s 5us/step - loss: 0.4362 - accuracy: 0.8409 - val_loss: 0.4392 - val_accuracy: 0.8390\n",
      "Epoch 11/20\n",
      "534896/534896 [==============================] - 3s 6us/step - loss: 0.4358 - accuracy: 0.8409 - val_loss: 0.4388 - val_accuracy: 0.8390\n",
      "Epoch 12/20\n",
      "534896/534896 [==============================] - 3s 6us/step - loss: 0.4354 - accuracy: 0.8409 - val_loss: 0.4384 - val_accuracy: 0.8390\n",
      "Epoch 13/20\n",
      "534896/534896 [==============================] - 3s 6us/step - loss: 0.4350 - accuracy: 0.8409 - val_loss: 0.4379 - val_accuracy: 0.8390\n",
      "Epoch 14/20\n",
      "534896/534896 [==============================] - 3s 6us/step - loss: 0.4344 - accuracy: 0.8409 - val_loss: 0.4373 - val_accuracy: 0.8390\n",
      "Epoch 15/20\n",
      "534896/534896 [==============================] - 3s 6us/step - loss: 0.4338 - accuracy: 0.8409 - val_loss: 0.4366 - val_accuracy: 0.8390\n",
      "Epoch 16/20\n",
      "534896/534896 [==============================] - 3s 6us/step - loss: 0.4330 - accuracy: 0.8409 - val_loss: 0.4358 - val_accuracy: 0.8390\n",
      "Epoch 17/20\n",
      "534896/534896 [==============================] - 3s 6us/step - loss: 0.4322 - accuracy: 0.8409 - val_loss: 0.4348 - val_accuracy: 0.8390\n",
      "Epoch 18/20\n",
      "534896/534896 [==============================] - 3s 6us/step - loss: 0.4311 - accuracy: 0.8409 - val_loss: 0.4336 - val_accuracy: 0.8390\n",
      "Epoch 19/20\n",
      "534896/534896 [==============================] - 3s 6us/step - loss: 0.4297 - accuracy: 0.8409 - val_loss: 0.4320 - val_accuracy: 0.8390\n",
      "Epoch 20/20\n",
      "534896/534896 [==============================] - 3s 6us/step - loss: 0.4280 - accuracy: 0.8409 - val_loss: 0.4301 - val_accuracy: 0.8390\n"
     ]
    }
   ],
   "source": [
    "# Setup some training parameters\n",
    "batch_size = 10000\n",
    "epochs = 20\n",
    "input_shape = (Xtrain.shape[1], )\n",
    "\n",
    "# Build and train model\n",
    "model5 = build_DNN(input_shape=input_shape, n_layers=4, n_nodes=50, learning_rate=0.1)\n",
    "\n",
    "history5 = model5.fit(Xtrain, Ytrain, batch_size=batch_size, epochs=epochs, validation_data=(Xval, Yval), class_weight=class_weights)"
   ]
  },
  {
   "cell_type": "code",
   "execution_count": 26,
   "metadata": {},
   "outputs": [
    {
     "name": "stdout",
     "output_type": "stream",
     "text": [
      "114621/114621 [==============================] - 0s 3us/step\n",
      "Test loss: 0.4245\n",
      "Test accuracy: 0.8424\n"
     ]
    }
   ],
   "source": [
    "# Evaluate model on test data\n",
    "score = model5.evaluate(Xtest, Ytest, batch_size=batch_size)\n",
    "\n",
    "print('Test loss: %.4f' % score[0])\n",
    "print('Test accuracy: %.4f' % score[1])"
   ]
  },
  {
   "cell_type": "code",
   "execution_count": 27,
   "metadata": {},
   "outputs": [
    {
     "data": {
      "image/png": "[encoded data removed]",
      "text/plain": [
       "<Figure size 720x288 with 1 Axes>"
      ]
     },
     "metadata": {
      "needs_background": "light"
     },
     "output_type": "display_data"
    },
    {
     "data": {
      "image/png": "[encoded data removed]",
      "text/plain": [
       "<Figure size 720x288 with 1 Axes>"
      ]
     },
     "metadata": {
      "needs_background": "light"
     },
     "output_type": "display_data"
    }
   ],
   "source": [
    "plot_results(history5)"
   ]
  },
  {
   "cell_type": "code",
   "execution_count": 28,
   "metadata": {},
   "outputs": [
    {
     "name": "stdout",
     "output_type": "stream",
     "text": [
      "Model: \"sequential_1\"\n",
      "_________________________________________________________________\n",
      "Layer (type)                 Output Shape              Param #   \n",
      "=================================================================\n",
      "dense_1 (Dense)              (None, 20)                1380      \n",
      "_________________________________________________________________\n",
      "dense_2 (Dense)              (None, 20)                420       \n",
      "_________________________________________________________________\n",
      "dense_3 (Dense)              (None, 1)                 21        \n",
      "=================================================================\n",
      "Total params: 1,821\n",
      "Trainable params: 1,821\n",
      "Non-trainable params: 0\n",
      "_________________________________________________________________\n",
      "Model: \"sequential_5\"\n",
      "_________________________________________________________________\n",
      "Layer (type)                 Output Shape              Param #   \n",
      "=================================================================\n",
      "dense_15 (Dense)             (None, 50)                3450      \n",
      "_________________________________________________________________\n",
      "dense_16 (Dense)             (None, 50)                2550      \n",
      "_________________________________________________________________\n",
      "dense_17 (Dense)             (None, 50)                2550      \n",
      "_________________________________________________________________\n",
      "dense_18 (Dense)             (None, 50)                2550      \n",
      "_________________________________________________________________\n",
      "dense_19 (Dense)             (None, 1)                 51        \n",
      "=================================================================\n",
      "Total params: 11,151\n",
      "Trainable params: 11,151\n",
      "Non-trainable params: 0\n",
      "_________________________________________________________________\n"
     ]
    }
   ],
   "source": [
    "model1.summary()\n",
    "model5.summary()"
   ]
  },
  {
   "cell_type": "markdown",
   "metadata": {},
   "source": [
    "### Answer Q17\n",
    "\n",
    "Q17: The network with 2 dense layers with 20 nodes each has a total of 1821 trainable parameters with 1360+400+20=1780 total weights and 20+20+1=41 total biases.  \n",
    "\n",
    "1. The first deep layer has 68 inputs (from the input layer) to each of the 20 nodes. Hence it has 68 x 20=1360 weights and 20 biases.   \n",
    "2. The second deep layer has 20 inputs (i.e. outputs from the nodes of previous layer) and 20 nodes. Hence it has 20 x 20=400 weights and 20 biases.  \n",
    "3. The last node has 20 inputs and 1 node. So it has a 20 x 1=20 weights and 1 bias.  \n",
    "\n",
    "$\n",
    "\\begin{align}\n",
    "First  \\ layer &= &1360 &\\ weights + &20 &\\ biases \\\\  \n",
    "Second \\ layer &= &400  &\\ weights + &20 &\\ biases \\\\  \n",
    "Final  \\ layer &= &20   &\\ weights + &1  &\\ bias   \\\\  \n",
    "\\end{align}\n",
    "$  \n",
    "  \n",
    "  \n",
    "The network with 4 dense layers with 50 nodes each has a total of 11,151 trainable parameters with 3400+2500+2500+2500+50=10950 total weights and 50+50+50+50+1=201 total biases.  \n",
    "\n",
    "1. The first deep layer has 68 inputs (from the input layer) to each of the 50 nodes. Hence it has 68 x 50=3400 weights and 50 biases.   \n",
    "2. The second, third and fourth deep layers each have 50 inputs (i.e. outputs from the nodes of previous layer) and 50 nodes. Hence each of them have 50 x 50=2500 weights and 50 biases.   \n",
    "3. The last node has 50 inputs and 1 node. So it has a 50 x 1=50 weights and 1 bias.  \n",
    "\n",
    "$\n",
    "\\begin{align}\n",
    "First  \\ layer &= &3400 &\\ weights + &50 &\\ biases \\\\\n",
    "Second \\ layer &= &2500 &\\ weights + &50 &\\ biases \\\\ \n",
    "Third  \\ layer &= &2500 &\\ weights + &50 &\\ biases \\\\  \n",
    "Fourth \\ layer &= &2500 &\\ weights + &50 &\\ biases \\\\  \n",
    "Final  \\ layer &= &50   &\\ weights + &1  &\\ bias   \\\\\n",
    "\\end{align}\n",
    "$\n"
   ]
  },
  {
   "cell_type": "markdown",
   "metadata": {},
   "source": [
    "# Part 16: Batch normalization\n",
    "\n",
    "Now add batch normalization after each dense layer. Remember to import BatchNormalization from keras.layers. \n",
    "\n",
    "See https://keras.io/layers/normalization/ for information about how to call the function.\n",
    "\n",
    "Question 18: Why is batch normalization important when training deep networks?"
   ]
  },
  {
   "cell_type": "markdown",
   "metadata": {},
   "source": [
    "### 2 layers, 20 nodes, class weights, batch normalization"
   ]
  },
  {
   "cell_type": "code",
   "execution_count": 29,
   "metadata": {
    "scrolled": true
   },
   "outputs": [
    {
     "name": "stdout",
     "output_type": "stream",
     "text": [
      "Train on 534896 samples, validate on 114620 samples\n",
      "Epoch 1/20\n",
      "534896/534896 [==============================] - 4s 7us/step - loss: 0.3355 - accuracy: 0.8730 - val_loss: 0.4264 - val_accuracy: 0.8390\n",
      "Epoch 2/20\n",
      "534896/534896 [==============================] - 2s 5us/step - loss: 0.2074 - accuracy: 0.9009 - val_loss: 0.3964 - val_accuracy: 0.8390\n",
      "Epoch 3/20\n",
      "534896/534896 [==============================] - 2s 5us/step - loss: 0.1876 - accuracy: 0.9025 - val_loss: 0.3909 - val_accuracy: 0.8390\n",
      "Epoch 4/20\n",
      "534896/534896 [==============================] - 2s 4us/step - loss: 0.1798 - accuracy: 0.9048 - val_loss: 0.3715 - val_accuracy: 0.8390\n",
      "Epoch 5/20\n",
      "534896/534896 [==============================] - 3s 6us/step - loss: 0.1752 - accuracy: 0.9067 - val_loss: 0.3332 - val_accuracy: 0.8390\n",
      "Epoch 6/20\n",
      "534896/534896 [==============================] - 2s 5us/step - loss: 0.1719 - accuracy: 0.9080 - val_loss: 0.2859 - val_accuracy: 0.8392\n",
      "Epoch 7/20\n",
      "534896/534896 [==============================] - 3s 5us/step - loss: 0.1694 - accuracy: 0.9089 - val_loss: 0.2335 - val_accuracy: 0.8471\n",
      "Epoch 8/20\n",
      "534896/534896 [==============================] - 2s 5us/step - loss: 0.1671 - accuracy: 0.9103 - val_loss: 0.2031 - val_accuracy: 0.8652\n",
      "Epoch 9/20\n",
      "534896/534896 [==============================] - 3s 5us/step - loss: 0.1651 - accuracy: 0.9112 - val_loss: 0.1867 - val_accuracy: 0.8711\n",
      "Epoch 10/20\n",
      "534896/534896 [==============================] - 3s 6us/step - loss: 0.1635 - accuracy: 0.9120 - val_loss: 0.1762 - val_accuracy: 0.8808\n",
      "Epoch 11/20\n",
      "534896/534896 [==============================] - 3s 6us/step - loss: 0.1620 - accuracy: 0.9130 - val_loss: 0.1663 - val_accuracy: 0.9020\n",
      "Epoch 12/20\n",
      "534896/534896 [==============================] - 3s 5us/step - loss: 0.1608 - accuracy: 0.9139 - val_loss: 0.1628 - val_accuracy: 0.9091\n",
      "Epoch 13/20\n",
      "534896/534896 [==============================] - 3s 6us/step - loss: 0.1596 - accuracy: 0.9141 - val_loss: 0.1599 - val_accuracy: 0.9111\n",
      "Epoch 14/20\n",
      "534896/534896 [==============================] - 3s 5us/step - loss: 0.1584 - accuracy: 0.9144 - val_loss: 0.1591 - val_accuracy: 0.9121\n",
      "Epoch 15/20\n",
      "534896/534896 [==============================] - 3s 6us/step - loss: 0.1574 - accuracy: 0.9147 - val_loss: 0.1598 - val_accuracy: 0.9137\n",
      "Epoch 16/20\n",
      "534896/534896 [==============================] - 3s 6us/step - loss: 0.1566 - accuracy: 0.9147 - val_loss: 0.1606 - val_accuracy: 0.8978\n",
      "Epoch 17/20\n",
      "534896/534896 [==============================] - 3s 6us/step - loss: 0.1558 - accuracy: 0.9153 - val_loss: 0.1564 - val_accuracy: 0.9162\n",
      "Epoch 18/20\n",
      "534896/534896 [==============================] - 3s 5us/step - loss: 0.1558 - accuracy: 0.9151 - val_loss: 0.1565 - val_accuracy: 0.9150\n",
      "Epoch 19/20\n",
      "534896/534896 [==============================] - 3s 5us/step - loss: 0.1549 - accuracy: 0.9152 - val_loss: 0.1543 - val_accuracy: 0.9159\n",
      "Epoch 20/20\n",
      "534896/534896 [==============================] - 3s 5us/step - loss: 0.1547 - accuracy: 0.9151 - val_loss: 0.1553 - val_accuracy: 0.9147\n"
     ]
    }
   ],
   "source": [
    "# Setup some training parameters\n",
    "batch_size = 10000\n",
    "epochs = 20\n",
    "input_shape = (Xtrain.shape[1], )\n",
    "\n",
    "# Build and train model\n",
    "model6 = build_DNN(input_shape=input_shape, n_layers=2, n_nodes=20, use_bn=True, learning_rate=0.1)\n",
    "\n",
    "history6 = model6.fit(Xtrain, Ytrain, batch_size=batch_size, epochs=epochs, validation_data=(Xval, Yval), class_weight=class_weights)"
   ]
  },
  {
   "cell_type": "code",
   "execution_count": 30,
   "metadata": {},
   "outputs": [
    {
     "name": "stdout",
     "output_type": "stream",
     "text": [
      "114621/114621 [==============================] - 0s 2us/step\n",
      "Test loss: 0.1562\n",
      "Test accuracy: 0.9122\n"
     ]
    }
   ],
   "source": [
    "# Evaluate model on test data\n",
    "score = model6.evaluate(Xtest, Ytest, batch_size=batch_size)\n",
    "\n",
    "print('Test loss: %.4f' % score[0])\n",
    "print('Test accuracy: %.4f' % score[1])"
   ]
  },
  {
   "cell_type": "code",
   "execution_count": 31,
   "metadata": {},
   "outputs": [
    {
     "data": {
      "image/png": "[encoded data removed]",
      "text/plain": [
       "<Figure size 720x288 with 1 Axes>"
      ]
     },
     "metadata": {
      "needs_background": "light"
     },
     "output_type": "display_data"
    },
    {
     "data": {
      "image/png": "[encoded data removed]",
      "text/plain": [
       "<Figure size 720x288 with 1 Axes>"
      ]
     },
     "metadata": {
      "needs_background": "light"
     },
     "output_type": "display_data"
    }
   ],
   "source": [
    "plot_results(history6)"
   ]
  },
  {
   "cell_type": "markdown",
   "metadata": {},
   "source": [
    "### Answer Q18\n",
    "\n",
    "Q18: Batch normalization normalizes the outputs from the activation function for each network layer to have zero mean and unit standard deviation. It helps model performance in the following ways:-\n",
    "1. **Considerably increases the network training speed.**\n",
    "When the covariates are on different scales, the gradient of the loss function along one axis may change slower compared to gradient along another axis. This means we need a smaller learning rate in order to not overshoot the optimum which makes the gradient based optimization slower. Batch normalization makes the loss optimization landscape smoother and hence speeds up training with higher learning rates. \n",
    "\n",
    "2. **Makes the network weights more stable/balanced and prevents exploding gradients, i.e. acts as a regularizer to control the influence of larger weights in the network.**\n",
    "Imbalance in the non normalized data cause instabilility in the network and the relatively wide range of inputs can cause imbalanced gradients. With batch normalization, the relatively large inputs are scaled. The mean and variance of every activation is dependent on the batch of samples and hence this introduces some randomness/noise to the network which acts as a regularizer. \n",
    "\n",
    "3. **Makes the network weights in the deeper layers of the network more robust to changes to weights in the earlier layers of the network, i.e. allows each layer in the network learn a bit more independently.**  \n",
    "This makes the network stable and less influenced by small changes in the input distribution. \n",
    "\n",
    "4. **Reduces the influence of the starting/initial weights on the network training time.**\n",
    "When the initial weights are very far from the minimum of the loss function, with a small learning rate it will take more number of iterations to get to the minimum. With batch normalization, the loss function landscape is more smoother and irrespective of the starting weights, the minimum is reached in a similar number of iterations with faster learning rates. "
   ]
  },
  {
   "cell_type": "markdown",
   "metadata": {},
   "source": [
    "# Part 17: Activation function\n",
    "\n",
    "Try changing the activation function in each layer from sigmoid to ReLU, write down the test accuracy.\n",
    "\n",
    "Note: the last layer should still have a sigmoid activation function."
   ]
  },
  {
   "cell_type": "markdown",
   "metadata": {},
   "source": [
    "### 2 layers, 20 nodes, class weights, ReLU, no batch normalization"
   ]
  },
  {
   "cell_type": "code",
   "execution_count": 32,
   "metadata": {
    "scrolled": true
   },
   "outputs": [
    {
     "name": "stdout",
     "output_type": "stream",
     "text": [
      "Train on 534896 samples, validate on 114620 samples\n",
      "Epoch 1/20\n",
      "534896/534896 [==============================] - 2s 4us/step - loss: 0.3077 - accuracy: 0.8791 - val_loss: 0.2055 - val_accuracy: 0.8895\n",
      "Epoch 2/20\n",
      "534896/534896 [==============================] - 2s 3us/step - loss: 0.1976 - accuracy: 0.8895 - val_loss: 0.1894 - val_accuracy: 0.8927\n",
      "Epoch 3/20\n",
      "534896/534896 [==============================] - 2s 3us/step - loss: 0.1865 - accuracy: 0.8939 - val_loss: 0.1819 - val_accuracy: 0.8987\n",
      "Epoch 4/20\n",
      "534896/534896 [==============================] - 2s 4us/step - loss: 0.1802 - accuracy: 0.9001 - val_loss: 0.1770 - val_accuracy: 0.9036\n",
      "Epoch 5/20\n",
      "534896/534896 [==============================] - 2s 3us/step - loss: 0.1759 - accuracy: 0.9056 - val_loss: 0.1736 - val_accuracy: 0.9085\n",
      "Epoch 6/20\n",
      "534896/534896 [==============================] - 2s 3us/step - loss: 0.1728 - accuracy: 0.9082 - val_loss: 0.1709 - val_accuracy: 0.9088\n",
      "Epoch 7/20\n",
      "534896/534896 [==============================] - 2s 3us/step - loss: 0.1704 - accuracy: 0.9093 - val_loss: 0.1690 - val_accuracy: 0.9109\n",
      "Epoch 8/20\n",
      "534896/534896 [==============================] - 2s 3us/step - loss: 0.1687 - accuracy: 0.9108 - val_loss: 0.1675 - val_accuracy: 0.9114\n",
      "Epoch 9/20\n",
      "534896/534896 [==============================] - 2s 4us/step - loss: 0.1672 - accuracy: 0.9117 - val_loss: 0.1665 - val_accuracy: 0.9120\n",
      "Epoch 10/20\n",
      "534896/534896 [==============================] - 2s 3us/step - loss: 0.1661 - accuracy: 0.9124 - val_loss: 0.1653 - val_accuracy: 0.9130\n",
      "Epoch 11/20\n",
      "534896/534896 [==============================] - 2s 4us/step - loss: 0.1652 - accuracy: 0.9127 - val_loss: 0.1646 - val_accuracy: 0.9122\n",
      "Epoch 12/20\n",
      "534896/534896 [==============================] - 2s 3us/step - loss: 0.1643 - accuracy: 0.9129 - val_loss: 0.1638 - val_accuracy: 0.9128\n",
      "Epoch 13/20\n",
      "534896/534896 [==============================] - 2s 3us/step - loss: 0.1636 - accuracy: 0.9129 - val_loss: 0.1632 - val_accuracy: 0.9138\n",
      "Epoch 14/20\n",
      "534896/534896 [==============================] - 2s 4us/step - loss: 0.1629 - accuracy: 0.9132 - val_loss: 0.1625 - val_accuracy: 0.9138\n",
      "Epoch 15/20\n",
      "534896/534896 [==============================] - 2s 3us/step - loss: 0.1622 - accuracy: 0.9134 - val_loss: 0.1620 - val_accuracy: 0.9142\n",
      "Epoch 16/20\n",
      "534896/534896 [==============================] - 2s 4us/step - loss: 0.1616 - accuracy: 0.9136 - val_loss: 0.1614 - val_accuracy: 0.9140\n",
      "Epoch 17/20\n",
      "534896/534896 [==============================] - 2s 3us/step - loss: 0.1610 - accuracy: 0.9137 - val_loss: 0.1609 - val_accuracy: 0.9143\n",
      "Epoch 18/20\n",
      "534896/534896 [==============================] - 2s 3us/step - loss: 0.1605 - accuracy: 0.9138 - val_loss: 0.1604 - val_accuracy: 0.9146\n",
      "Epoch 19/20\n",
      "534896/534896 [==============================] - 2s 3us/step - loss: 0.1599 - accuracy: 0.9140 - val_loss: 0.1601 - val_accuracy: 0.9148\n",
      "Epoch 20/20\n",
      "534896/534896 [==============================] - 2s 3us/step - loss: 0.1595 - accuracy: 0.9141 - val_loss: 0.1597 - val_accuracy: 0.9147\n"
     ]
    }
   ],
   "source": [
    "# Setup some training parameters\n",
    "batch_size = 10000\n",
    "epochs = 20\n",
    "input_shape = (Xtrain.shape[1], )\n",
    "\n",
    "# Build and train model\n",
    "model7 = build_DNN(input_shape=input_shape, n_layers=2, n_nodes=20, act_fun='relu', learning_rate=0.1, use_bn=False)\n",
    "\n",
    "history7 = model7.fit(Xtrain, Ytrain, batch_size=batch_size, epochs=epochs, validation_data=(Xval, Yval), class_weight=class_weights)"
   ]
  },
  {
   "cell_type": "code",
   "execution_count": 33,
   "metadata": {},
   "outputs": [
    {
     "name": "stdout",
     "output_type": "stream",
     "text": [
      "114621/114621 [==============================] - 0s 2us/step\n",
      "Test loss: 0.1602\n",
      "Test accuracy: 0.9123\n"
     ]
    }
   ],
   "source": [
    "# Evaluate model on test data\n",
    "score = model7.evaluate(Xtest, Ytest, batch_size=batch_size)\n",
    "\n",
    "print('Test loss: %.4f' % score[0])\n",
    "print('Test accuracy: %.4f' % score[1])"
   ]
  },
  {
   "cell_type": "code",
   "execution_count": 34,
   "metadata": {},
   "outputs": [
    {
     "data": {
      "image/png": "[encoded data removed]",
      "text/plain": [
       "<Figure size 720x288 with 1 Axes>"
      ]
     },
     "metadata": {
      "needs_background": "light"
     },
     "output_type": "display_data"
    },
    {
     "data": {
      "image/png": "[encoded data removed]",
      "text/plain": [
       "<Figure size 720x288 with 1 Axes>"
      ]
     },
     "metadata": {
      "needs_background": "light"
     },
     "output_type": "display_data"
    }
   ],
   "source": [
    "plot_results(history7)"
   ]
  },
  {
   "cell_type": "markdown",
   "metadata": {},
   "source": [
    "# Part 18: Optimizer\n",
    "\n",
    "Try changing the optimizer from SGD to Adam (with learning rate 0.1 as before). Remember to import the Adam optimizer from keras.optimizers. \n",
    "\n",
    "https://keras.io/optimizers/\n"
   ]
  },
  {
   "cell_type": "markdown",
   "metadata": {},
   "source": [
    "### 2 layers, 20 nodes, class weights, Adam optimizer, no batch normalization, sigmoid activations"
   ]
  },
  {
   "cell_type": "code",
   "execution_count": 35,
   "metadata": {
    "scrolled": true
   },
   "outputs": [
    {
     "name": "stdout",
     "output_type": "stream",
     "text": [
      "Train on 534896 samples, validate on 114620 samples\n",
      "Epoch 1/20\n",
      "534896/534896 [==============================] - 2s 4us/step - loss: 0.2225 - accuracy: 0.8723 - val_loss: 0.1720 - val_accuracy: 0.9042\n",
      "Epoch 2/20\n",
      "534896/534896 [==============================] - 2s 3us/step - loss: 0.1676 - accuracy: 0.9071 - val_loss: 0.1634 - val_accuracy: 0.9134\n",
      "Epoch 3/20\n",
      "534896/534896 [==============================] - 2s 3us/step - loss: 0.1560 - accuracy: 0.9163 - val_loss: 0.1510 - val_accuracy: 0.9186\n",
      "Epoch 4/20\n",
      "534896/534896 [==============================] - 2s 3us/step - loss: 0.1479 - accuracy: 0.9188 - val_loss: 0.1474 - val_accuracy: 0.9178\n",
      "Epoch 5/20\n",
      "534896/534896 [==============================] - 2s 3us/step - loss: 0.1453 - accuracy: 0.9190 - val_loss: 0.1457 - val_accuracy: 0.9203\n",
      "Epoch 6/20\n",
      "534896/534896 [==============================] - 2s 3us/step - loss: 0.1436 - accuracy: 0.9197 - val_loss: 0.1434 - val_accuracy: 0.9204\n",
      "Epoch 7/20\n",
      "534896/534896 [==============================] - 2s 3us/step - loss: 0.1422 - accuracy: 0.9202 - val_loss: 0.1426 - val_accuracy: 0.9208\n",
      "Epoch 8/20\n",
      "534896/534896 [==============================] - 2s 3us/step - loss: 0.1411 - accuracy: 0.9207 - val_loss: 0.1415 - val_accuracy: 0.9199\n",
      "Epoch 9/20\n",
      "534896/534896 [==============================] - 2s 4us/step - loss: 0.1405 - accuracy: 0.9207 - val_loss: 0.1419 - val_accuracy: 0.9203\n",
      "Epoch 10/20\n",
      "534896/534896 [==============================] - 2s 3us/step - loss: 0.1402 - accuracy: 0.9207 - val_loss: 0.1396 - val_accuracy: 0.9215\n",
      "Epoch 11/20\n",
      "534896/534896 [==============================] - 2s 3us/step - loss: 0.1393 - accuracy: 0.9210 - val_loss: 0.1411 - val_accuracy: 0.9214\n",
      "Epoch 12/20\n",
      "534896/534896 [==============================] - 2s 4us/step - loss: 0.1385 - accuracy: 0.9213 - val_loss: 0.1396 - val_accuracy: 0.9215\n",
      "Epoch 13/20\n",
      "534896/534896 [==============================] - 2s 4us/step - loss: 0.1394 - accuracy: 0.9209 - val_loss: 0.1389 - val_accuracy: 0.9214\n",
      "Epoch 14/20\n",
      "534896/534896 [==============================] - 2s 3us/step - loss: 0.1384 - accuracy: 0.9214 - val_loss: 0.1387 - val_accuracy: 0.9213\n",
      "Epoch 15/20\n",
      "534896/534896 [==============================] - 2s 3us/step - loss: 0.1383 - accuracy: 0.9212 - val_loss: 0.1392 - val_accuracy: 0.9215\n",
      "Epoch 16/20\n",
      "534896/534896 [==============================] - 2s 3us/step - loss: 0.1381 - accuracy: 0.9213 - val_loss: 0.1412 - val_accuracy: 0.9210\n",
      "Epoch 17/20\n",
      "534896/534896 [==============================] - 2s 4us/step - loss: 0.1385 - accuracy: 0.9213 - val_loss: 0.1387 - val_accuracy: 0.9211\n",
      "Epoch 18/20\n",
      "534896/534896 [==============================] - 2s 4us/step - loss: 0.1382 - accuracy: 0.9213 - val_loss: 0.1396 - val_accuracy: 0.9215\n",
      "Epoch 19/20\n",
      "534896/534896 [==============================] - 2s 3us/step - loss: 0.1378 - accuracy: 0.9215 - val_loss: 0.1405 - val_accuracy: 0.9193\n",
      "Epoch 20/20\n",
      "534896/534896 [==============================] - 2s 4us/step - loss: 0.1374 - accuracy: 0.9214 - val_loss: 0.1396 - val_accuracy: 0.9200\n"
     ]
    }
   ],
   "source": [
    "# Setup some training parameters\n",
    "batch_size = 10000\n",
    "epochs = 20\n",
    "input_shape = (Xtrain.shape[1], )\n",
    "\n",
    "# Build and train model\n",
    "model8 = build_DNN(input_shape=input_shape, n_layers=2, n_nodes=20, act_fun='sigmoid', optimizer='Adam', \n",
    "                   learning_rate=0.1, use_bn=False)\n",
    "\n",
    "history8 = model8.fit(Xtrain, Ytrain, batch_size=batch_size, epochs=epochs, validation_data=(Xval, Yval), class_weight=class_weights)"
   ]
  },
  {
   "cell_type": "code",
   "execution_count": 36,
   "metadata": {},
   "outputs": [
    {
     "name": "stdout",
     "output_type": "stream",
     "text": [
      "114621/114621 [==============================] - 0s 3us/step\n",
      "Test loss: 0.1403\n",
      "Test accuracy: 0.9180\n"
     ]
    }
   ],
   "source": [
    "# Evaluate model on test data\n",
    "score = model8.evaluate(Xtest, Ytest, batch_size=batch_size)\n",
    "\n",
    "print('Test loss: %.4f' % score[0])\n",
    "print('Test accuracy: %.4f' % score[1])"
   ]
  },
  {
   "cell_type": "code",
   "execution_count": 37,
   "metadata": {},
   "outputs": [
    {
     "data": {
      "image/png": "[encoded data removed]",
      "text/plain": [
       "<Figure size 720x288 with 1 Axes>"
      ]
     },
     "metadata": {
      "needs_background": "light"
     },
     "output_type": "display_data"
    },
    {
     "data": {
      "image/png": "[encoded data removed]",
      "text/plain": [
       "<Figure size 720x288 with 1 Axes>"
      ]
     },
     "metadata": {
      "needs_background": "light"
     },
     "output_type": "display_data"
    }
   ],
   "source": [
    "plot_results(history8)"
   ]
  },
  {
   "cell_type": "markdown",
   "metadata": {},
   "source": [
    "# Part 19: Dropout regularization\n",
    "\n",
    "Dropout is a type of regularization that can improve accuracy for validation and test data. \n",
    "\n",
    "Add a Dropout layer after each Dense layer (but not after the final dense layer), with a dropout probability of 50%. Remember to first import the Dropout layer from keras.layers\n",
    "\n",
    "See https://keras.io/layers/core/ for how the Dropout layer works.\n",
    "\n",
    "---\n",
    "\n",
    "Question 19: How does the validation accuracy change when adding dropout?\n",
    "\n",
    "Question 20: How does the test accuracy change when adding dropout?"
   ]
  },
  {
   "cell_type": "markdown",
   "metadata": {},
   "source": [
    "### Answers Q19-Q20\n",
    "\n",
    "Q19: The validation accuracy has decreased from 0.92 to 0.89 when adding dropout\n",
    "\n",
    "Q20: The test accuracy has also decreased from 0.92 to 0.89 when adding dropout"
   ]
  },
  {
   "cell_type": "markdown",
   "metadata": {},
   "source": [
    "### 2 layers, 20 nodes, class weights, dropout, SGD optimizer, no batch normalization, sigmoid activations"
   ]
  },
  {
   "cell_type": "code",
   "execution_count": 63,
   "metadata": {
    "scrolled": true
   },
   "outputs": [
    {
     "name": "stdout",
     "output_type": "stream",
     "text": [
      "Train on 687724 samples, validate on 114620 samples\n",
      "Epoch 1/20\n",
      "687724/687724 [==============================] - 286s 415us/step - loss: 0.1823 - accuracy: 0.8989 - val_loss: 0.1630 - val_accuracy: 0.9140\n",
      "Epoch 2/20\n",
      "687724/687724 [==============================] - 36762s 53ms/step - loss: 0.1674 - accuracy: 0.9096 - val_loss: 0.1596 - val_accuracy: 0.9159\n",
      "Epoch 3/20\n",
      "687724/687724 [==============================] - 102s 148us/step - loss: 0.1647 - accuracy: 0.9117 - val_loss: 0.1588 - val_accuracy: 0.9159\n",
      "Epoch 4/20\n",
      "687724/687724 [==============================] - 119s 173us/step - loss: 0.1636 - accuracy: 0.9125 - val_loss: 0.1578 - val_accuracy: 0.9171\n",
      "Epoch 5/20\n",
      "687724/687724 [==============================] - 106s 154us/step - loss: 0.1626 - accuracy: 0.9130 - val_loss: 0.1576 - val_accuracy: 0.9163\n",
      "Epoch 6/20\n",
      "687724/687724 [==============================] - 106s 155us/step - loss: 0.1618 - accuracy: 0.9134 - val_loss: 0.1558 - val_accuracy: 0.9179\n",
      "Epoch 7/20\n",
      "687724/687724 [==============================] - 103s 150us/step - loss: 0.1613 - accuracy: 0.9134 - val_loss: 0.1554 - val_accuracy: 0.9181\n",
      "Epoch 8/20\n",
      "687724/687724 [==============================] - 109s 158us/step - loss: 0.1610 - accuracy: 0.9137 - val_loss: 0.1557 - val_accuracy: 0.9164\n",
      "Epoch 9/20\n",
      "687724/687724 [==============================] - 107s 155us/step - loss: 0.1605 - accuracy: 0.9140 - val_loss: 0.1538 - val_accuracy: 0.9172\n",
      "Epoch 10/20\n",
      "687724/687724 [==============================] - 104s 152us/step - loss: 0.1597 - accuracy: 0.9142 - val_loss: 0.1538 - val_accuracy: 0.9170\n",
      "Epoch 11/20\n",
      "687724/687724 [==============================] - 105s 153us/step - loss: 0.1593 - accuracy: 0.9143 - val_loss: 0.1535 - val_accuracy: 0.9172\n",
      "Epoch 12/20\n",
      "687724/687724 [==============================] - 104s 151us/step - loss: 0.1589 - accuracy: 0.9145 - val_loss: 0.1530 - val_accuracy: 0.9181\n",
      "Epoch 13/20\n",
      "687724/687724 [==============================] - 102s 148us/step - loss: 0.1589 - accuracy: 0.9142 - val_loss: 0.1522 - val_accuracy: 0.9175\n",
      "Epoch 14/20\n",
      "687724/687724 [==============================] - 103s 150us/step - loss: 0.1584 - accuracy: 0.9146 - val_loss: 0.1521 - val_accuracy: 0.9181\n",
      "Epoch 15/20\n",
      "687724/687724 [==============================] - 111s 162us/step - loss: 0.1582 - accuracy: 0.9149 - val_loss: 0.1531 - val_accuracy: 0.9193\n",
      "Epoch 16/20\n",
      "687724/687724 [==============================] - 109s 158us/step - loss: 0.1579 - accuracy: 0.9148 - val_loss: 0.1527 - val_accuracy: 0.9172\n",
      "Epoch 17/20\n",
      "687724/687724 [==============================] - 107s 155us/step - loss: 0.1578 - accuracy: 0.9150 - val_loss: 0.1525 - val_accuracy: 0.9183\n",
      "Epoch 18/20\n",
      "687724/687724 [==============================] - 108s 158us/step - loss: 0.1572 - accuracy: 0.9153 - val_loss: 0.1516 - val_accuracy: 0.9181\n",
      "Epoch 19/20\n",
      "687724/687724 [==============================] - 106s 155us/step - loss: 0.1572 - accuracy: 0.9151 - val_loss: 0.1508 - val_accuracy: 0.9185\n",
      "Epoch 20/20\n",
      "687724/687724 [==============================] - 95s 138us/step - loss: 0.1570 - accuracy: 0.9151 - val_loss: 0.1517 - val_accuracy: 0.9186\n"
     ]
    }
   ],
   "source": [
    "# Setup some training parameters\n",
    "batch_size = 10\n",
    "epochs = 20\n",
    "input_shape = (Xtrain.shape[1], )\n",
    "\n",
    "# Build and train model\n",
    "model9 = build_DNN(input_shape=input_shape, n_layers=2, n_nodes=20, act_fun='sigmoid', optimizer='SGD', \n",
    "                   learning_rate=0.1, use_bn=False, use_dropout=True)\n",
    "\n",
    "history9 = model9.fit(Xtrain, Ytrain, batch_size=batch_size, epochs=epochs, validation_data=(Xval, Yval), class_weight=class_weights)"
   ]
  },
  {
   "cell_type": "code",
   "execution_count": 39,
   "metadata": {},
   "outputs": [
    {
     "name": "stdout",
     "output_type": "stream",
     "text": [
      "114621/114621 [==============================] - 0s 2us/step\n",
      "Test loss: 0.2001\n",
      "Test accuracy: 0.8930\n"
     ]
    }
   ],
   "source": [
    "# Evaluate model on test data\n",
    "score = model9.evaluate(Xtest, Ytest, batch_size=batch_size)\n",
    "\n",
    "print('Test loss: %.4f' % score[0])\n",
    "print('Test accuracy: %.4f' % score[1])"
   ]
  },
  {
   "cell_type": "code",
   "execution_count": 40,
   "metadata": {},
   "outputs": [
    {
     "data": {
      "image/png": "[encoded data removed]",
      "text/plain": [
       "<Figure size 720x288 with 1 Axes>"
      ]
     },
     "metadata": {
      "needs_background": "light"
     },
     "output_type": "display_data"
    },
    {
     "data": {
      "image/png": "[encoded data removed]",
      "text/plain": [
       "<Figure size 720x288 with 1 Axes>"
      ]
     },
     "metadata": {
      "needs_background": "light"
     },
     "output_type": "display_data"
    }
   ],
   "source": [
    "plot_results(history9)"
   ]
  },
  {
   "cell_type": "markdown",
   "metadata": {},
   "source": [
    "# Part 20: Improving performance\n",
    "\n",
    "Spend some time (30 - 90 minutes) playing with the network architecture (number of layers, number of nodes per layer, activation function) and other hyper parameters (optimizer, learning rate, batch size, number of epochs, degree of regularization). For example, try a much deeper network. How much does the training time increase for a network with 10 layers?\n",
    "\n",
    "Question 21: How high classification accuracy can you achieve for the test data? What is your best configuration?"
   ]
  },
  {
   "cell_type": "markdown",
   "metadata": {},
   "source": [
    "### Answer Q21\n",
    "\n",
    "Q21: We are able to get a classification accuracy of upto 0.93 using the below hyperparameter settings:  \n",
    "  \n",
    "$\n",
    "\\begin{align}\n",
    "batch size          &= &10000   \\\\\n",
    "epochs              &= &20      \\\\ \n",
    "no of layers        &= &2       \\\\\n",
    "no of nodes         &= &20      \\\\\n",
    "activation          &= &sigmoid \\\\ \n",
    "optimizer           &= &Adam    \\\\ \n",
    "learning rate       &= &0.01    \\\\ \n",
    "batch normalization &= &True    \\\\ \n",
    "dropout             &= &False   \\\\  \n",
    "\\end{align}\n",
    "$\n",
    "\n",
    "A deeper network with 10 layers and 20 nodes took 2s more time to train per epoch when compared to a network with 2 layers and 20 ndes. "
   ]
  },
  {
   "cell_type": "code",
   "execution_count": 23,
   "metadata": {
    "scrolled": true
   },
   "outputs": [
    {
     "name": "stdout",
     "output_type": "stream",
     "text": [
      "Train on 534896 samples, validate on 114620 samples\n",
      "Epoch 1/20\n",
      "534896/534896 [==============================] - 2s 3us/step - loss: 0.2835 - accuracy: 0.8922 - val_loss: 0.6616 - val_accuracy: 0.8408\n",
      "Epoch 2/20\n",
      "534896/534896 [==============================] - 1s 2us/step - loss: 0.1621 - accuracy: 0.9125 - val_loss: 0.6622 - val_accuracy: 0.8408\n",
      "Epoch 3/20\n",
      "534896/534896 [==============================] - 1s 2us/step - loss: 0.1539 - accuracy: 0.9151 - val_loss: 0.5721 - val_accuracy: 0.8408\n",
      "Epoch 4/20\n",
      "534896/534896 [==============================] - 1s 2us/step - loss: 0.1503 - accuracy: 0.9155 - val_loss: 0.4421 - val_accuracy: 0.8408\n",
      "Epoch 5/20\n",
      "534896/534896 [==============================] - 1s 2us/step - loss: 0.1482 - accuracy: 0.9166 - val_loss: 0.3471 - val_accuracy: 0.8417\n",
      "Epoch 6/20\n",
      "534896/534896 [==============================] - 1s 2us/step - loss: 0.1456 - accuracy: 0.9181 - val_loss: 0.2391 - val_accuracy: 0.8582\n",
      "Epoch 7/20\n",
      "534896/534896 [==============================] - 1s 2us/step - loss: 0.1449 - accuracy: 0.9179 - val_loss: 0.1793 - val_accuracy: 0.8834\n",
      "Epoch 8/20\n",
      "534896/534896 [==============================] - 1s 2us/step - loss: 0.1443 - accuracy: 0.9182 - val_loss: 0.1642 - val_accuracy: 0.8877\n",
      "Epoch 9/20\n",
      "534896/534896 [==============================] - 1s 2us/step - loss: 0.1427 - accuracy: 0.9193 - val_loss: 0.1487 - val_accuracy: 0.9080\n",
      "Epoch 10/20\n",
      "534896/534896 [==============================] - 1s 2us/step - loss: 0.1411 - accuracy: 0.9203 - val_loss: 0.1524 - val_accuracy: 0.8931\n",
      "Epoch 11/20\n",
      "534896/534896 [==============================] - 1s 2us/step - loss: 0.1408 - accuracy: 0.9200 - val_loss: 0.1405 - val_accuracy: 0.9210\n",
      "Epoch 12/20\n",
      "534896/534896 [==============================] - 1s 2us/step - loss: 0.1403 - accuracy: 0.9199 - val_loss: 0.1472 - val_accuracy: 0.9179\n",
      "Epoch 13/20\n",
      "534896/534896 [==============================] - 1s 2us/step - loss: 0.1414 - accuracy: 0.9183 - val_loss: 0.1489 - val_accuracy: 0.9177\n",
      "Epoch 14/20\n",
      "534896/534896 [==============================] - 1s 2us/step - loss: 0.1398 - accuracy: 0.9201 - val_loss: 0.1419 - val_accuracy: 0.9134\n",
      "Epoch 15/20\n",
      "534896/534896 [==============================] - 1s 2us/step - loss: 0.1392 - accuracy: 0.9205 - val_loss: 0.1429 - val_accuracy: 0.9070\n",
      "Epoch 16/20\n",
      "534896/534896 [==============================] - 1s 2us/step - loss: 0.1390 - accuracy: 0.9203 - val_loss: 0.1385 - val_accuracy: 0.9215\n",
      "Epoch 17/20\n",
      "534896/534896 [==============================] - 1s 2us/step - loss: 0.1389 - accuracy: 0.9206 - val_loss: 0.1391 - val_accuracy: 0.9194\n",
      "Epoch 18/20\n",
      "534896/534896 [==============================] - 1s 2us/step - loss: 0.1379 - accuracy: 0.9210 - val_loss: 0.1399 - val_accuracy: 0.9207\n",
      "Epoch 19/20\n",
      "534896/534896 [==============================] - 1s 2us/step - loss: 0.1376 - accuracy: 0.9207 - val_loss: 0.1375 - val_accuracy: 0.9215\n",
      "Epoch 20/20\n",
      "534896/534896 [==============================] - 1s 2us/step - loss: 0.1387 - accuracy: 0.9193 - val_loss: 0.1399 - val_accuracy: 0.9217\n"
     ]
    }
   ],
   "source": [
    "# Find your best configuration for the DNN\n",
    "batch_size = 10000\n",
    "epochs = 20\n",
    "input_shape = (Xtrain.shape[1], )\n",
    "\n",
    "# Build and train DNN\n",
    "model10 = build_DNN(input_shape=input_shape, n_layers=2, n_nodes=20, act_fun='sigmoid', optimizer='Adam', \n",
    "                    learning_rate=0.01, use_bn=True, use_dropout=False)\n",
    "\n",
    "history10 = model10.fit(Xtrain, Ytrain, batch_size=batch_size, epochs=epochs, validation_data=(Xval, Yval), class_weight=class_weights)"
   ]
  },
  {
   "cell_type": "code",
   "execution_count": 20,
   "metadata": {},
   "outputs": [
    {
     "name": "stdout",
     "output_type": "stream",
     "text": [
      "114621/114621 [==============================] - 0s 1us/step\n",
      "Test loss: 0.1390\n",
      "Test accuracy: 0.9228\n"
     ]
    }
   ],
   "source": [
    "# Evaluate DNN on test data\n",
    "score = model10.evaluate(Xtest, Ytest, batch_size=batch_size)\n",
    "\n",
    "print('Test loss: %.4f' % score[0])\n",
    "print('Test accuracy: %.4f' % score[1])"
   ]
  },
  {
   "cell_type": "code",
   "execution_count": 21,
   "metadata": {},
   "outputs": [
    {
     "data": {
      "image/png": "[encoded data removed]",
      "text/plain": [
       "<Figure size 720x288 with 1 Axes>"
      ]
     },
     "metadata": {
      "needs_background": "light"
     },
     "output_type": "display_data"
    },
    {
     "data": {
      "image/png": "[encoded data removed]",
      "text/plain": [
       "<Figure size 720x288 with 1 Axes>"
      ]
     },
     "metadata": {
      "needs_background": "light"
     },
     "output_type": "display_data"
    }
   ],
   "source": [
    "plot_results(history10)"
   ]
  },
  {
   "cell_type": "markdown",
   "metadata": {},
   "source": [
    "# Part 21: Dropout uncertainty\n",
    "\n",
    "Dropout can also be used during testing, to obtain an estimate of the model uncertainty. Since dropout will randomly remove connections, the network will produce different results every time the same (test) data is put into the network. This technique is called Monte Carlo dropout. For more information, see this paper http://proceedings.mlr.press/v48/gal16.pdf\n",
    "\n",
    "To achieve this, we need to redefine the Keras Dropout call by running the cell below, and use 'myDropout' in each call to Dropout, in the cell that defines the DNN.\n",
    "\n",
    "Run the same test data through the trained network 100 times, with dropout turned on. \n",
    "\n",
    "Question 22: What is the mean and the standard deviation of the test accuracy?"
   ]
  },
  {
   "cell_type": "markdown",
   "metadata": {},
   "source": [
    "### Answer Q22\n",
    "\n",
    "Q22: Using the best configuration of hyperparameters determined above and custom dropout, we got a mean of 0.913 and a standard deviation of 0.002 for the test accuracy"
   ]
  },
  {
   "cell_type": "code",
   "execution_count": 44,
   "metadata": {},
   "outputs": [],
   "source": [
    "import keras\n",
    "\n",
    "class myDropout(keras.layers.Dropout):\n",
    "    \"\"\"Applies Dropout to the input.\n",
    "    Dropout consists in randomly setting\n",
    "    a fraction `rate` of input units to 0 at each update during training time,\n",
    "    which helps prevent overfitting.\n",
    "    # Arguments\n",
    "        rate: float between 0 and 1. Fraction of the input units to drop.\n",
    "        noise_shape: 1D integer tensor representing the shape of the\n",
    "            binary dropout mask that will be multiplied with the input.\n",
    "            For instance, if your inputs have shape\n",
    "            `(batch_size, timesteps, features)` and\n",
    "            you want the dropout mask to be the same for all timesteps,\n",
    "            you can use `noise_shape=(batch_size, 1, features)`.\n",
    "        seed: A Python integer to use as random seed.\n",
    "    # References\n",
    "        - [Dropout: A Simple Way to Prevent Neural Networks from Overfitting](\n",
    "           http://www.jmlr.org/papers/volume15/srivastava14a/srivastava14a.pdf)\n",
    "    \"\"\"\n",
    "    def __init__(self, rate, training=True, noise_shape=None, seed=None, **kwargs):\n",
    "        super(myDropout, self).__init__(rate, noise_shape=None, seed=None,**kwargs)\n",
    "        self.training = training\n",
    "\n",
    "        \n",
    "    def call(self, inputs, training=None):\n",
    "        if 0. < self.rate < 1.:\n",
    "            noise_shape = self._get_noise_shape(inputs)\n",
    "\n",
    "            def dropped_inputs():\n",
    "                return K.dropout(inputs, self.rate, noise_shape,\n",
    "                                 seed=self.seed)\n",
    "            if not training: \n",
    "                return K.in_train_phase(dropped_inputs, inputs, training=self.training)\n",
    "            return K.in_train_phase(dropped_inputs, inputs, training=training)\n",
    "        return inputs"
   ]
  },
  {
   "cell_type": "markdown",
   "metadata": {},
   "source": [
    "### Your best config, custom dropout"
   ]
  },
  {
   "cell_type": "code",
   "execution_count": 47,
   "metadata": {
    "scrolled": true
   },
   "outputs": [
    {
     "name": "stdout",
     "output_type": "stream",
     "text": [
      "Train on 534896 samples, validate on 114620 samples\n",
      "Epoch 1/20\n",
      "534896/534896 [==============================] - 4s 8us/step - loss: 0.5045 - accuracy: 0.8221 - val_loss: 0.3592 - val_accuracy: 0.8390\n",
      "Epoch 2/20\n",
      "534896/534896 [==============================] - 3s 6us/step - loss: 0.2443 - accuracy: 0.8812 - val_loss: 0.3623 - val_accuracy: 0.8390\n",
      "Epoch 3/20\n",
      "534896/534896 [==============================] - 3s 6us/step - loss: 0.2021 - accuracy: 0.8908 - val_loss: 0.3047 - val_accuracy: 0.8390\n",
      "Epoch 4/20\n",
      "534896/534896 [==============================] - 3s 6us/step - loss: 0.1899 - accuracy: 0.8949 - val_loss: 0.2392 - val_accuracy: 0.8390\n",
      "Epoch 5/20\n",
      "534896/534896 [==============================] - 3s 6us/step - loss: 0.1849 - accuracy: 0.8974 - val_loss: 0.2009 - val_accuracy: 0.8391\n",
      "Epoch 6/20\n",
      "534896/534896 [==============================] - 3s 6us/step - loss: 0.1817 - accuracy: 0.8986 - val_loss: 0.1812 - val_accuracy: 0.8659\n",
      "Epoch 7/20\n",
      "534896/534896 [==============================] - 3s 6us/step - loss: 0.1797 - accuracy: 0.8994 - val_loss: 0.1738 - val_accuracy: 0.8906\n",
      "Epoch 8/20\n",
      "534896/534896 [==============================] - 3s 6us/step - loss: 0.1778 - accuracy: 0.9005 - val_loss: 0.1669 - val_accuracy: 0.9074\n",
      "Epoch 9/20\n",
      "534896/534896 [==============================] - 3s 6us/step - loss: 0.1762 - accuracy: 0.9014 - val_loss: 0.1643 - val_accuracy: 0.9115\n",
      "Epoch 10/20\n",
      "534896/534896 [==============================] - 3s 6us/step - loss: 0.1751 - accuracy: 0.9027 - val_loss: 0.1643 - val_accuracy: 0.9115\n",
      "Epoch 11/20\n",
      "534896/534896 [==============================] - 3s 6us/step - loss: 0.1748 - accuracy: 0.9037 - val_loss: 0.1635 - val_accuracy: 0.9118\n",
      "Epoch 12/20\n",
      "534896/534896 [==============================] - 3s 6us/step - loss: 0.1734 - accuracy: 0.9053 - val_loss: 0.1629 - val_accuracy: 0.9140\n",
      "Epoch 13/20\n",
      "534896/534896 [==============================] - 3s 6us/step - loss: 0.1724 - accuracy: 0.9067 - val_loss: 0.1633 - val_accuracy: 0.9131\n",
      "Epoch 14/20\n",
      "534896/534896 [==============================] - 3s 6us/step - loss: 0.1718 - accuracy: 0.9078 - val_loss: 0.1631 - val_accuracy: 0.9126\n",
      "Epoch 15/20\n",
      "534896/534896 [==============================] - 3s 6us/step - loss: 0.1704 - accuracy: 0.9091 - val_loss: 0.1611 - val_accuracy: 0.9155\n",
      "Epoch 16/20\n",
      "534896/534896 [==============================] - 3s 6us/step - loss: 0.1704 - accuracy: 0.9094 - val_loss: 0.1612 - val_accuracy: 0.9150\n",
      "Epoch 17/20\n",
      "534896/534896 [==============================] - 3s 6us/step - loss: 0.1698 - accuracy: 0.9107 - val_loss: 0.1625 - val_accuracy: 0.9141\n",
      "Epoch 18/20\n",
      "534896/534896 [==============================] - 3s 6us/step - loss: 0.1693 - accuracy: 0.9109 - val_loss: 0.1605 - val_accuracy: 0.9153\n",
      "Epoch 19/20\n",
      "534896/534896 [==============================] - 4s 7us/step - loss: 0.1687 - accuracy: 0.9117 - val_loss: 0.1611 - val_accuracy: 0.9150\n",
      "Epoch 20/20\n",
      "534896/534896 [==============================] - 3s 7us/step - loss: 0.1674 - accuracy: 0.9127 - val_loss: 0.1606 - val_accuracy: 0.9156\n"
     ]
    }
   ],
   "source": [
    "# Your best training parameters\n",
    "batch_size = 10000\n",
    "epochs = 20\n",
    "input_shape = (Xtrain.shape[1], )\n",
    "\n",
    "# Build and train model\n",
    "model11 = build_DNN(input_shape=input_shape, n_layers=2, n_nodes=20, act_fun='sigmoid', optimizer='Adam', \n",
    "                    learning_rate=0.01, use_bn=True, use_dropout=True, use_custom_dropout=True)\n",
    "\n",
    "history11 = model11.fit(Xtrain, Ytrain, batch_size=batch_size, epochs=epochs, validation_data=(Xval, Yval), class_weight=class_weights)"
   ]
  },
  {
   "cell_type": "code",
   "execution_count": 50,
   "metadata": {},
   "outputs": [
    {
     "name": "stdout",
     "output_type": "stream",
     "text": [
      "114621/114621 [==============================] - 0s 3us/step\n",
      "Test accuracy: 0.9130\n"
     ]
    }
   ],
   "source": [
    "# Run this cell a few times to evalute the model on test data, \n",
    "# if you get slightly different test accuracy every time, Dropout during testing is working\n",
    "\n",
    "# Evaluate model on test data\n",
    "score = model11.evaluate(Xtest, Ytest, batch_size=batch_size)\n",
    "                       \n",
    "print('Test accuracy: %.4f' % score[1])"
   ]
  },
  {
   "cell_type": "code",
   "execution_count": 61,
   "metadata": {},
   "outputs": [
    {
     "name": "stdout",
     "output_type": "stream",
     "text": [
      "Mean Test accuracy: 0.9146\n",
      "SD of Test accuracy: 0.0001\n"
     ]
    }
   ],
   "source": [
    "# Run the testing 100 times, and save the accuracies in an array\n",
    "import numpy as np\n",
    "\n",
    "accuracy = []\n",
    "for i in range(100):\n",
    "    score = model11.evaluate(Xtest, Ytest, batch_size=batch_size, verbose=2)\n",
    "    accuracy.append(score[1])\n",
    "    \n",
    "# Calculate and print mean and std of accuracies\n",
    "print('Mean Test accuracy: %.4f' % np.mean(accuracy))\n",
    "print('SD of Test accuracy: %.4f' % np.std(accuracy))"
   ]
  },
  {
   "cell_type": "markdown",
   "metadata": {},
   "source": [
    "# Part 22: Cross validation uncertainty\n",
    "\n",
    "Cross validation (CV) is often used to evaluate a model, by training and testing using different subsets of the data it is possible to get the uncertainty as the standard deviation over folds. We here use a help function from scikit-learn to setup the CV, see https://scikit-learn.org/stable/modules/generated/sklearn.model_selection.StratifiedKFold.html . Use 10 folds with shuffling, random state 1234. \n",
    "\n",
    "Note: We here assume that you have found the best hyper parameters, so here the data are only split into training and testing, no validation.\n",
    "\n",
    "---\n",
    "\n",
    "Question 23: What is the mean and the standard deviation of the test accuracy?\n",
    "\n",
    "Question 24: What is the main advantage of dropout compared to CV for estimating test uncertainty?"
   ]
  },
  {
   "cell_type": "markdown",
   "metadata": {},
   "source": [
    "### Answers Q23-Q24\n",
    "\n",
    "Q23: We obtained a mean of 0.9232 and a standard deviation of 0.0018 for the test accuracy using 10 folds CV. \n",
    "\n",
    "Q24: The main disadvantage of CV for estimating the test uncertainty is the time taken for training the model. Using a 10 folds CV will take 10 times longer to train the model when compared to the dropout method. "
   ]
  },
  {
   "cell_type": "code",
   "execution_count": 52,
   "metadata": {},
   "outputs": [
    {
     "name": "stdout",
     "output_type": "stream",
     "text": [
      "Train on 687723 samples, validate on 114620 samples\n",
      "Epoch 1/20\n",
      "687723/687723 [==============================] - 4s 5us/step - loss: 0.2542 - accuracy: 0.9011 - val_loss: 0.5860 - val_accuracy: 0.8390\n",
      "Epoch 2/20\n",
      "687723/687723 [==============================] - 3s 4us/step - loss: 0.1548 - accuracy: 0.9151 - val_loss: 0.5325 - val_accuracy: 0.8390\n",
      "Epoch 3/20\n",
      "687723/687723 [==============================] - 3s 4us/step - loss: 0.1498 - accuracy: 0.9158 - val_loss: 0.3547 - val_accuracy: 0.8390\n",
      "Epoch 4/20\n",
      "687723/687723 [==============================] - 3s 4us/step - loss: 0.1467 - accuracy: 0.9177 - val_loss: 0.2372 - val_accuracy: 0.8442\n",
      "Epoch 5/20\n",
      "687723/687723 [==============================] - 3s 4us/step - loss: 0.1452 - accuracy: 0.9184 - val_loss: 0.1766 - val_accuracy: 0.8801\n",
      "Epoch 6/20\n",
      "687723/687723 [==============================] - 3s 4us/step - loss: 0.1433 - accuracy: 0.9193 - val_loss: 0.1458 - val_accuracy: 0.9183\n",
      "Epoch 7/20\n",
      "687723/687723 [==============================] - 3s 4us/step - loss: 0.1423 - accuracy: 0.9194 - val_loss: 0.1425 - val_accuracy: 0.9206\n",
      "Epoch 8/20\n",
      "687723/687723 [==============================] - 3s 4us/step - loss: 0.1407 - accuracy: 0.9204 - val_loss: 0.1409 - val_accuracy: 0.9219\n",
      "Epoch 9/20\n",
      "687723/687723 [==============================] - 3s 4us/step - loss: 0.1401 - accuracy: 0.9207 - val_loss: 0.1389 - val_accuracy: 0.9234\n",
      "Epoch 10/20\n",
      "687723/687723 [==============================] - 3s 4us/step - loss: 0.1392 - accuracy: 0.9211 - val_loss: 0.1386 - val_accuracy: 0.9234\n",
      "Epoch 11/20\n",
      "687723/687723 [==============================] - 3s 4us/step - loss: 0.1392 - accuracy: 0.9201 - val_loss: 0.1392 - val_accuracy: 0.9232\n",
      "Epoch 12/20\n",
      "687723/687723 [==============================] - 3s 5us/step - loss: 0.1373 - accuracy: 0.9219 - val_loss: 0.1402 - val_accuracy: 0.9233\n",
      "Epoch 13/20\n",
      "687723/687723 [==============================] - 3s 4us/step - loss: 0.1369 - accuracy: 0.9221 - val_loss: 0.1441 - val_accuracy: 0.9230\n",
      "Epoch 14/20\n",
      "687723/687723 [==============================] - 3s 4us/step - loss: 0.1367 - accuracy: 0.9215 - val_loss: 0.1427 - val_accuracy: 0.9231\n",
      "Epoch 15/20\n",
      "687723/687723 [==============================] - 3s 4us/step - loss: 0.1355 - accuracy: 0.9225 - val_loss: 0.1397 - val_accuracy: 0.9236\n",
      "Epoch 16/20\n",
      "687723/687723 [==============================] - 3s 4us/step - loss: 0.1352 - accuracy: 0.9220 - val_loss: 0.1423 - val_accuracy: 0.9225\n",
      "Epoch 17/20\n",
      "687723/687723 [==============================] - 3s 4us/step - loss: 0.1345 - accuracy: 0.9224 - val_loss: 0.1334 - val_accuracy: 0.9247\n",
      "Epoch 18/20\n",
      "687723/687723 [==============================] - 3s 5us/step - loss: 0.1339 - accuracy: 0.9225 - val_loss: 0.1332 - val_accuracy: 0.9245\n",
      "Epoch 19/20\n",
      "687723/687723 [==============================] - 3s 4us/step - loss: 0.1341 - accuracy: 0.9228 - val_loss: 0.1372 - val_accuracy: 0.9163\n",
      "Epoch 20/20\n",
      "687723/687723 [==============================] - 3s 4us/step - loss: 0.1335 - accuracy: 0.9227 - val_loss: 0.1368 - val_accuracy: 0.9242\n",
      "76414/76414 [==============================] - 0s 2us/step\n",
      "Train on 687723 samples, validate on 114620 samples\n",
      "Epoch 1/20\n",
      "687723/687723 [==============================] - 3s 5us/step - loss: 0.2603 - accuracy: 0.8946 - val_loss: 0.4679 - val_accuracy: 0.8390\n",
      "Epoch 2/20\n",
      "687723/687723 [==============================] - 3s 4us/step - loss: 0.1556 - accuracy: 0.9150 - val_loss: 0.4550 - val_accuracy: 0.8390\n",
      "Epoch 3/20\n",
      "687723/687723 [==============================] - 3s 4us/step - loss: 0.1493 - accuracy: 0.9171 - val_loss: 0.3353 - val_accuracy: 0.8390\n",
      "Epoch 4/20\n",
      "687723/687723 [==============================] - 3s 4us/step - loss: 0.1467 - accuracy: 0.9183 - val_loss: 0.2089 - val_accuracy: 0.8512\n",
      "Epoch 5/20\n",
      "687723/687723 [==============================] - 3s 4us/step - loss: 0.1443 - accuracy: 0.9190 - val_loss: 0.1575 - val_accuracy: 0.9074\n",
      "Epoch 6/20\n",
      "687723/687723 [==============================] - 3s 4us/step - loss: 0.1432 - accuracy: 0.9189 - val_loss: 0.1458 - val_accuracy: 0.9191\n",
      "Epoch 7/20\n",
      "687723/687723 [==============================] - 3s 4us/step - loss: 0.1412 - accuracy: 0.9205 - val_loss: 0.1429 - val_accuracy: 0.9181\n",
      "Epoch 8/20\n",
      "687723/687723 [==============================] - 3s 4us/step - loss: 0.1400 - accuracy: 0.9206 - val_loss: 0.1415 - val_accuracy: 0.9181\n",
      "Epoch 9/20\n",
      "687723/687723 [==============================] - 3s 4us/step - loss: 0.1395 - accuracy: 0.9206 - val_loss: 0.1414 - val_accuracy: 0.9118\n",
      "Epoch 10/20\n",
      "687723/687723 [==============================] - 3s 4us/step - loss: 0.1391 - accuracy: 0.9204 - val_loss: 0.1406 - val_accuracy: 0.9126\n",
      "Epoch 11/20\n",
      "687723/687723 [==============================] - 3s 4us/step - loss: 0.1386 - accuracy: 0.9206 - val_loss: 0.1389 - val_accuracy: 0.9222\n",
      "Epoch 12/20\n",
      "687723/687723 [==============================] - 3s 4us/step - loss: 0.1374 - accuracy: 0.9215 - val_loss: 0.1367 - val_accuracy: 0.9223\n",
      "Epoch 13/20\n",
      "687723/687723 [==============================] - 3s 4us/step - loss: 0.1375 - accuracy: 0.9204 - val_loss: 0.1393 - val_accuracy: 0.9217\n",
      "Epoch 14/20\n",
      "687723/687723 [==============================] - 3s 4us/step - loss: 0.1378 - accuracy: 0.9204 - val_loss: 0.1366 - val_accuracy: 0.9221\n",
      "Epoch 15/20\n",
      "687723/687723 [==============================] - 3s 4us/step - loss: 0.1360 - accuracy: 0.9218 - val_loss: 0.1359 - val_accuracy: 0.9234\n",
      "Epoch 16/20\n",
      "687723/687723 [==============================] - 3s 4us/step - loss: 0.1361 - accuracy: 0.9214 - val_loss: 0.1354 - val_accuracy: 0.9236\n",
      "Epoch 17/20\n",
      "687723/687723 [==============================] - 3s 4us/step - loss: 0.1351 - accuracy: 0.9223 - val_loss: 0.1352 - val_accuracy: 0.9225\n",
      "Epoch 18/20\n",
      "687723/687723 [==============================] - 3s 4us/step - loss: 0.1352 - accuracy: 0.9218 - val_loss: 0.1348 - val_accuracy: 0.9233\n",
      "Epoch 19/20\n",
      "687723/687723 [==============================] - 3s 4us/step - loss: 0.1341 - accuracy: 0.9226 - val_loss: 0.1372 - val_accuracy: 0.9141\n",
      "Epoch 20/20\n",
      "687723/687723 [==============================] - 3s 4us/step - loss: 0.1342 - accuracy: 0.9222 - val_loss: 0.1337 - val_accuracy: 0.9237\n",
      "76414/76414 [==============================] - 0s 2us/step\n",
      "Train on 687723 samples, validate on 114620 samples\n",
      "Epoch 1/20\n",
      "687723/687723 [==============================] - 4s 5us/step - loss: 0.2534 - accuracy: 0.9012 - val_loss: 0.5042 - val_accuracy: 0.8390\n",
      "Epoch 2/20\n",
      "687723/687723 [==============================] - 3s 4us/step - loss: 0.1547 - accuracy: 0.9149 - val_loss: 0.4961 - val_accuracy: 0.8390\n",
      "Epoch 3/20\n",
      "687723/687723 [==============================] - 3s 4us/step - loss: 0.1489 - accuracy: 0.9164 - val_loss: 0.4049 - val_accuracy: 0.8390\n",
      "Epoch 4/20\n",
      "687723/687723 [==============================] - 3s 4us/step - loss: 0.1456 - accuracy: 0.9178 - val_loss: 0.3070 - val_accuracy: 0.8456\n",
      "Epoch 5/20\n",
      "687723/687723 [==============================] - 3s 4us/step - loss: 0.1448 - accuracy: 0.9177 - val_loss: 0.1930 - val_accuracy: 0.8704\n",
      "Epoch 6/20\n",
      "687723/687723 [==============================] - 3s 4us/step - loss: 0.1425 - accuracy: 0.9191 - val_loss: 0.1518 - val_accuracy: 0.9100\n",
      "Epoch 7/20\n",
      "687723/687723 [==============================] - 3s 4us/step - loss: 0.1424 - accuracy: 0.9189 - val_loss: 0.1442 - val_accuracy: 0.9189\n",
      "Epoch 8/20\n",
      "687723/687723 [==============================] - 3s 4us/step - loss: 0.1406 - accuracy: 0.9198 - val_loss: 0.1407 - val_accuracy: 0.9214\n",
      "Epoch 9/20\n",
      "687723/687723 [==============================] - 3s 4us/step - loss: 0.1386 - accuracy: 0.9210 - val_loss: 0.1390 - val_accuracy: 0.9205\n",
      "Epoch 10/20\n",
      "687723/687723 [==============================] - 3s 4us/step - loss: 0.1383 - accuracy: 0.9205 - val_loss: 0.1441 - val_accuracy: 0.9007\n",
      "Epoch 11/20\n",
      "687723/687723 [==============================] - 3s 4us/step - loss: 0.1375 - accuracy: 0.9214 - val_loss: 0.1375 - val_accuracy: 0.9231\n",
      "Epoch 12/20\n",
      "687723/687723 [==============================] - 3s 4us/step - loss: 0.1367 - accuracy: 0.9217 - val_loss: 0.1400 - val_accuracy: 0.9169\n",
      "Epoch 13/20\n",
      "687723/687723 [==============================] - 3s 4us/step - loss: 0.1375 - accuracy: 0.9205 - val_loss: 0.1384 - val_accuracy: 0.9234\n",
      "Epoch 14/20\n",
      "687723/687723 [==============================] - 3s 4us/step - loss: 0.1358 - accuracy: 0.9220 - val_loss: 0.1353 - val_accuracy: 0.9231\n",
      "Epoch 15/20\n",
      "687723/687723 [==============================] - 3s 4us/step - loss: 0.1352 - accuracy: 0.9221 - val_loss: 0.1349 - val_accuracy: 0.9236\n",
      "Epoch 16/20\n",
      "687723/687723 [==============================] - 3s 4us/step - loss: 0.1346 - accuracy: 0.9223 - val_loss: 0.1357 - val_accuracy: 0.9233\n",
      "Epoch 17/20\n",
      "687723/687723 [==============================] - 3s 4us/step - loss: 0.1341 - accuracy: 0.9227 - val_loss: 0.1350 - val_accuracy: 0.9243\n",
      "Epoch 18/20\n",
      "687723/687723 [==============================] - 3s 4us/step - loss: 0.1345 - accuracy: 0.9223 - val_loss: 0.1340 - val_accuracy: 0.9241\n",
      "Epoch 19/20\n",
      "687723/687723 [==============================] - 3s 4us/step - loss: 0.1338 - accuracy: 0.9225 - val_loss: 0.1348 - val_accuracy: 0.9234\n",
      "Epoch 20/20\n",
      "687723/687723 [==============================] - 3s 4us/step - loss: 0.1325 - accuracy: 0.9236 - val_loss: 0.1342 - val_accuracy: 0.9234\n",
      "76414/76414 [==============================] - 0s 2us/step\n",
      "Train on 687723 samples, validate on 114620 samples\n",
      "Epoch 1/20\n",
      "687723/687723 [==============================] - 4s 5us/step - loss: 0.2613 - accuracy: 0.9003 - val_loss: 0.7345 - val_accuracy: 0.8390\n",
      "Epoch 2/20\n",
      "687723/687723 [==============================] - 3s 4us/step - loss: 0.1548 - accuracy: 0.9152 - val_loss: 0.6804 - val_accuracy: 0.8390\n",
      "Epoch 3/20\n",
      "687723/687723 [==============================] - 3s 4us/step - loss: 0.1503 - accuracy: 0.9167 - val_loss: 0.4595 - val_accuracy: 0.8390\n",
      "Epoch 4/20\n",
      "687723/687723 [==============================] - 3s 4us/step - loss: 0.1478 - accuracy: 0.9182 - val_loss: 0.3119 - val_accuracy: 0.8402\n",
      "Epoch 5/20\n",
      "687723/687723 [==============================] - 3s 4us/step - loss: 0.1452 - accuracy: 0.9193 - val_loss: 0.2170 - val_accuracy: 0.8616\n",
      "Epoch 6/20\n",
      "687723/687723 [==============================] - 3s 4us/step - loss: 0.1441 - accuracy: 0.9192 - val_loss: 0.1818 - val_accuracy: 0.8757\n",
      "Epoch 7/20\n",
      "687723/687723 [==============================] - 3s 4us/step - loss: 0.1430 - accuracy: 0.9195 - val_loss: 0.1547 - val_accuracy: 0.9107\n",
      "Epoch 8/20\n",
      "687723/687723 [==============================] - 3s 4us/step - loss: 0.1430 - accuracy: 0.9190 - val_loss: 0.1456 - val_accuracy: 0.9161\n",
      "Epoch 9/20\n",
      "687723/687723 [==============================] - 3s 4us/step - loss: 0.1414 - accuracy: 0.9205 - val_loss: 0.1437 - val_accuracy: 0.9158\n",
      "Epoch 10/20\n",
      "687723/687723 [==============================] - 3s 4us/step - loss: 0.1403 - accuracy: 0.9211 - val_loss: 0.1401 - val_accuracy: 0.9224\n",
      "Epoch 11/20\n",
      "687723/687723 [==============================] - 3s 4us/step - loss: 0.1405 - accuracy: 0.9202 - val_loss: 0.1394 - val_accuracy: 0.9212\n",
      "Epoch 12/20\n",
      "687723/687723 [==============================] - 3s 4us/step - loss: 0.1391 - accuracy: 0.9208 - val_loss: 0.1394 - val_accuracy: 0.9224\n",
      "Epoch 13/20\n",
      "687723/687723 [==============================] - 3s 4us/step - loss: 0.1386 - accuracy: 0.9211 - val_loss: 0.1399 - val_accuracy: 0.9220\n",
      "Epoch 14/20\n",
      "687723/687723 [==============================] - 3s 4us/step - loss: 0.1383 - accuracy: 0.9209 - val_loss: 0.1418 - val_accuracy: 0.9230\n",
      "Epoch 15/20\n",
      "687723/687723 [==============================] - 3s 4us/step - loss: 0.1371 - accuracy: 0.9221 - val_loss: 0.1380 - val_accuracy: 0.9238\n",
      "Epoch 16/20\n",
      "687723/687723 [==============================] - 3s 4us/step - loss: 0.1366 - accuracy: 0.9217 - val_loss: 0.1400 - val_accuracy: 0.9230\n",
      "Epoch 17/20\n",
      "687723/687723 [==============================] - 3s 4us/step - loss: 0.1360 - accuracy: 0.9223 - val_loss: 0.1350 - val_accuracy: 0.9243\n",
      "Epoch 18/20\n",
      "687723/687723 [==============================] - 3s 4us/step - loss: 0.1360 - accuracy: 0.9219 - val_loss: 0.1373 - val_accuracy: 0.9238\n",
      "Epoch 19/20\n",
      "687723/687723 [==============================] - 3s 4us/step - loss: 0.1348 - accuracy: 0.9226 - val_loss: 0.1398 - val_accuracy: 0.9226\n",
      "Epoch 20/20\n",
      "687723/687723 [==============================] - 3s 4us/step - loss: 0.1354 - accuracy: 0.9216 - val_loss: 0.1338 - val_accuracy: 0.9244\n",
      "76414/76414 [==============================] - 0s 2us/step\n",
      "Train on 687723 samples, validate on 114620 samples\n",
      "Epoch 1/20\n",
      "687723/687723 [==============================] - 4s 5us/step - loss: 0.2770 - accuracy: 0.8880 - val_loss: 0.4528 - val_accuracy: 0.8390\n",
      "Epoch 2/20\n",
      "687723/687723 [==============================] - 3s 4us/step - loss: 0.1598 - accuracy: 0.9128 - val_loss: 0.4923 - val_accuracy: 0.8390\n",
      "Epoch 3/20\n",
      "687723/687723 [==============================] - 3s 4us/step - loss: 0.1529 - accuracy: 0.9150 - val_loss: 0.4449 - val_accuracy: 0.8390\n",
      "Epoch 4/20\n",
      "687723/687723 [==============================] - 3s 4us/step - loss: 0.1507 - accuracy: 0.9156 - val_loss: 0.2790 - val_accuracy: 0.8397\n",
      "Epoch 5/20\n",
      "687723/687723 [==============================] - 3s 4us/step - loss: 0.1488 - accuracy: 0.9168 - val_loss: 0.2326 - val_accuracy: 0.8553\n",
      "Epoch 6/20\n",
      "687723/687723 [==============================] - 3s 4us/step - loss: 0.1463 - accuracy: 0.9178 - val_loss: 0.1626 - val_accuracy: 0.8894\n",
      "Epoch 7/20\n",
      "687723/687723 [==============================] - 3s 4us/step - loss: 0.1455 - accuracy: 0.9177 - val_loss: 0.1555 - val_accuracy: 0.8956\n",
      "Epoch 8/20\n",
      "687723/687723 [==============================] - 3s 4us/step - loss: 0.1441 - accuracy: 0.9182 - val_loss: 0.1474 - val_accuracy: 0.9208\n",
      "Epoch 9/20\n",
      "687723/687723 [==============================] - 3s 4us/step - loss: 0.1425 - accuracy: 0.9196 - val_loss: 0.1457 - val_accuracy: 0.9174\n",
      "Epoch 10/20\n",
      "687723/687723 [==============================] - 3s 4us/step - loss: 0.1416 - accuracy: 0.9202 - val_loss: 0.1469 - val_accuracy: 0.9210\n",
      "Epoch 11/20\n",
      "687723/687723 [==============================] - 3s 4us/step - loss: 0.1409 - accuracy: 0.9200 - val_loss: 0.1423 - val_accuracy: 0.9229\n",
      "Epoch 12/20\n",
      "687723/687723 [==============================] - 3s 4us/step - loss: 0.1399 - accuracy: 0.9205 - val_loss: 0.1417 - val_accuracy: 0.9223\n",
      "Epoch 13/20\n",
      "687723/687723 [==============================] - 3s 4us/step - loss: 0.1396 - accuracy: 0.9206 - val_loss: 0.1494 - val_accuracy: 0.9216\n",
      "Epoch 14/20\n",
      "687723/687723 [==============================] - 3s 4us/step - loss: 0.1385 - accuracy: 0.9210 - val_loss: 0.1408 - val_accuracy: 0.9171\n",
      "Epoch 15/20\n",
      "687723/687723 [==============================] - 3s 4us/step - loss: 0.1382 - accuracy: 0.9212 - val_loss: 0.1481 - val_accuracy: 0.9219\n",
      "Epoch 16/20\n",
      "687723/687723 [==============================] - 4s 5us/step - loss: 0.1380 - accuracy: 0.9211 - val_loss: 0.1446 - val_accuracy: 0.9225\n",
      "Epoch 17/20\n",
      "687723/687723 [==============================] - 3s 4us/step - loss: 0.1373 - accuracy: 0.9210 - val_loss: 0.1408 - val_accuracy: 0.9231\n",
      "Epoch 18/20\n",
      "687723/687723 [==============================] - 4s 5us/step - loss: 0.1364 - accuracy: 0.9220 - val_loss: 0.1407 - val_accuracy: 0.9235\n",
      "Epoch 19/20\n",
      "687723/687723 [==============================] - 3s 5us/step - loss: 0.1357 - accuracy: 0.9220 - val_loss: 0.1430 - val_accuracy: 0.9237\n",
      "Epoch 20/20\n",
      "687723/687723 [==============================] - 3s 5us/step - loss: 0.1355 - accuracy: 0.9215 - val_loss: 0.1343 - val_accuracy: 0.9238\n",
      "76414/76414 [==============================] - 0s 2us/step\n",
      "Train on 687723 samples, validate on 114620 samples\n",
      "Epoch 1/20\n",
      "687723/687723 [==============================] - 4s 5us/step - loss: 0.2603 - accuracy: 0.8942 - val_loss: 0.6012 - val_accuracy: 0.8390\n",
      "Epoch 2/20\n",
      "687723/687723 [==============================] - 3s 4us/step - loss: 0.1583 - accuracy: 0.9146 - val_loss: 0.5973 - val_accuracy: 0.8390\n",
      "Epoch 3/20\n",
      "687723/687723 [==============================] - 3s 4us/step - loss: 0.1517 - accuracy: 0.9165 - val_loss: 0.4798 - val_accuracy: 0.8390\n",
      "Epoch 4/20\n",
      "687723/687723 [==============================] - 3s 5us/step - loss: 0.1485 - accuracy: 0.9170 - val_loss: 0.3243 - val_accuracy: 0.8408\n",
      "Epoch 5/20\n",
      "687723/687723 [==============================] - 3s 4us/step - loss: 0.1459 - accuracy: 0.9187 - val_loss: 0.2169 - val_accuracy: 0.8651\n",
      "Epoch 6/20\n",
      "687723/687723 [==============================] - 3s 4us/step - loss: 0.1447 - accuracy: 0.9184 - val_loss: 0.1789 - val_accuracy: 0.8734\n",
      "Epoch 7/20\n",
      "687723/687723 [==============================] - 3s 4us/step - loss: 0.1438 - accuracy: 0.9192 - val_loss: 0.1615 - val_accuracy: 0.8873\n",
      "Epoch 8/20\n",
      "687723/687723 [==============================] - 3s 4us/step - loss: 0.1419 - accuracy: 0.9203 - val_loss: 0.1559 - val_accuracy: 0.8929\n",
      "Epoch 9/20\n",
      "687723/687723 [==============================] - 3s 4us/step - loss: 0.1417 - accuracy: 0.9198 - val_loss: 0.1432 - val_accuracy: 0.9119\n",
      "Epoch 10/20\n",
      "687723/687723 [==============================] - 3s 5us/step - loss: 0.1411 - accuracy: 0.9199 - val_loss: 0.1460 - val_accuracy: 0.9095\n",
      "Epoch 11/20\n",
      "687723/687723 [==============================] - 3s 4us/step - loss: 0.1398 - accuracy: 0.9206 - val_loss: 0.1446 - val_accuracy: 0.9046\n",
      "Epoch 12/20\n",
      "687723/687723 [==============================] - 3s 5us/step - loss: 0.1396 - accuracy: 0.9212 - val_loss: 0.1391 - val_accuracy: 0.9224\n",
      "Epoch 13/20\n",
      "687723/687723 [==============================] - 3s 4us/step - loss: 0.1390 - accuracy: 0.9213 - val_loss: 0.1394 - val_accuracy: 0.9174\n",
      "Epoch 14/20\n",
      "687723/687723 [==============================] - 3s 4us/step - loss: 0.1379 - accuracy: 0.9215 - val_loss: 0.1433 - val_accuracy: 0.9230\n",
      "Epoch 15/20\n",
      "687723/687723 [==============================] - 3s 5us/step - loss: 0.1380 - accuracy: 0.9214 - val_loss: 0.1374 - val_accuracy: 0.9233\n",
      "Epoch 16/20\n",
      "687723/687723 [==============================] - 3s 5us/step - loss: 0.1376 - accuracy: 0.9214 - val_loss: 0.1373 - val_accuracy: 0.9237\n",
      "Epoch 17/20\n",
      "687723/687723 [==============================] - 3s 4us/step - loss: 0.1367 - accuracy: 0.9222 - val_loss: 0.1393 - val_accuracy: 0.9232\n",
      "Epoch 18/20\n",
      "687723/687723 [==============================] - 3s 4us/step - loss: 0.1363 - accuracy: 0.9223 - val_loss: 0.1435 - val_accuracy: 0.9229\n",
      "Epoch 19/20\n",
      "687723/687723 [==============================] - 3s 5us/step - loss: 0.1362 - accuracy: 0.9224 - val_loss: 0.1403 - val_accuracy: 0.9233\n",
      "Epoch 20/20\n",
      "687723/687723 [==============================] - 3s 4us/step - loss: 0.1358 - accuracy: 0.9219 - val_loss: 0.1366 - val_accuracy: 0.9237\n",
      "76414/76414 [==============================] - 0s 2us/step\n",
      "Train on 687723 samples, validate on 114620 samples\n",
      "Epoch 1/20\n",
      "687723/687723 [==============================] - 4s 5us/step - loss: 0.2426 - accuracy: 0.9084 - val_loss: 0.4010 - val_accuracy: 0.8390\n",
      "Epoch 2/20\n",
      "687723/687723 [==============================] - 3s 5us/step - loss: 0.1509 - accuracy: 0.9170 - val_loss: 0.3751 - val_accuracy: 0.8390\n",
      "Epoch 3/20\n",
      "687723/687723 [==============================] - 3s 4us/step - loss: 0.1469 - accuracy: 0.9180 - val_loss: 0.2787 - val_accuracy: 0.8406\n",
      "Epoch 4/20\n",
      "687723/687723 [==============================] - 3s 4us/step - loss: 0.1447 - accuracy: 0.9185 - val_loss: 0.1773 - val_accuracy: 0.8864\n",
      "Epoch 5/20\n",
      "687723/687723 [==============================] - 3s 4us/step - loss: 0.1436 - accuracy: 0.9192 - val_loss: 0.1603 - val_accuracy: 0.9068\n",
      "Epoch 6/20\n",
      "687723/687723 [==============================] - 3s 4us/step - loss: 0.1421 - accuracy: 0.9199 - val_loss: 0.1474 - val_accuracy: 0.9142\n",
      "Epoch 7/20\n",
      "687723/687723 [==============================] - 3s 4us/step - loss: 0.1416 - accuracy: 0.9201 - val_loss: 0.1416 - val_accuracy: 0.9215\n",
      "Epoch 8/20\n",
      "687723/687723 [==============================] - 3s 5us/step - loss: 0.1398 - accuracy: 0.9210 - val_loss: 0.1419 - val_accuracy: 0.9214\n",
      "Epoch 9/20\n",
      "687723/687723 [==============================] - 3s 4us/step - loss: 0.1395 - accuracy: 0.9208 - val_loss: 0.1457 - val_accuracy: 0.9219\n",
      "Epoch 10/20\n",
      "687723/687723 [==============================] - 3s 5us/step - loss: 0.1390 - accuracy: 0.9209 - val_loss: 0.1390 - val_accuracy: 0.9218\n",
      "Epoch 11/20\n",
      "687723/687723 [==============================] - 4s 6us/step - loss: 0.1380 - accuracy: 0.9210 - val_loss: 0.1433 - val_accuracy: 0.9226\n",
      "Epoch 12/20\n",
      "687723/687723 [==============================] - 3s 5us/step - loss: 0.1377 - accuracy: 0.9214 - val_loss: 0.1384 - val_accuracy: 0.9237\n",
      "Epoch 13/20\n",
      "687723/687723 [==============================] - 3s 5us/step - loss: 0.1369 - accuracy: 0.9217 - val_loss: 0.1427 - val_accuracy: 0.9126\n",
      "Epoch 14/20\n",
      "687723/687723 [==============================] - 3s 5us/step - loss: 0.1360 - accuracy: 0.9223 - val_loss: 0.1416 - val_accuracy: 0.9241\n",
      "Epoch 15/20\n",
      "687723/687723 [==============================] - 3s 5us/step - loss: 0.1357 - accuracy: 0.9220 - val_loss: 0.1350 - val_accuracy: 0.9235\n",
      "Epoch 16/20\n",
      "687723/687723 [==============================] - 3s 4us/step - loss: 0.1345 - accuracy: 0.9226 - val_loss: 0.1369 - val_accuracy: 0.9246\n",
      "Epoch 17/20\n",
      "687723/687723 [==============================] - 3s 4us/step - loss: 0.1336 - accuracy: 0.9230 - val_loss: 0.1386 - val_accuracy: 0.9240\n",
      "Epoch 18/20\n",
      "687723/687723 [==============================] - 3s 4us/step - loss: 0.1331 - accuracy: 0.9232 - val_loss: 0.1343 - val_accuracy: 0.9227\n",
      "Epoch 19/20\n",
      "687723/687723 [==============================] - 3s 4us/step - loss: 0.1331 - accuracy: 0.9231 - val_loss: 0.1366 - val_accuracy: 0.9240\n",
      "Epoch 20/20\n",
      "687723/687723 [==============================] - 3s 4us/step - loss: 0.1327 - accuracy: 0.9234 - val_loss: 0.1338 - val_accuracy: 0.9245\n",
      "76414/76414 [==============================] - 0s 2us/step\n",
      "Train on 687724 samples, validate on 114620 samples\n",
      "Epoch 1/20\n",
      "687724/687724 [==============================] - 4s 5us/step - loss: 0.2565 - accuracy: 0.8938 - val_loss: 0.4564 - val_accuracy: 0.8390\n",
      "Epoch 2/20\n",
      "687724/687724 [==============================] - 3s 4us/step - loss: 0.1571 - accuracy: 0.9144 - val_loss: 0.4945 - val_accuracy: 0.8390\n",
      "Epoch 3/20\n",
      "687724/687724 [==============================] - 3s 4us/step - loss: 0.1506 - accuracy: 0.9165 - val_loss: 0.4128 - val_accuracy: 0.8390\n",
      "Epoch 4/20\n",
      "687724/687724 [==============================] - 3s 4us/step - loss: 0.1473 - accuracy: 0.9179 - val_loss: 0.2787 - val_accuracy: 0.8415\n",
      "Epoch 5/20\n",
      "687724/687724 [==============================] - 3s 5us/step - loss: 0.1448 - accuracy: 0.9189 - val_loss: 0.1890 - val_accuracy: 0.8714\n",
      "Epoch 6/20\n",
      "687724/687724 [==============================] - 4s 5us/step - loss: 0.1438 - accuracy: 0.9193 - val_loss: 0.1511 - val_accuracy: 0.9067\n",
      "Epoch 7/20\n",
      "687724/687724 [==============================] - 3s 5us/step - loss: 0.1430 - accuracy: 0.9189 - val_loss: 0.1428 - val_accuracy: 0.9208\n",
      "Epoch 8/20\n",
      "687724/687724 [==============================] - 3s 4us/step - loss: 0.1414 - accuracy: 0.9204 - val_loss: 0.1419 - val_accuracy: 0.9199\n",
      "Epoch 9/20\n",
      "687724/687724 [==============================] - 3s 4us/step - loss: 0.1413 - accuracy: 0.9197 - val_loss: 0.1401 - val_accuracy: 0.9213\n",
      "Epoch 10/20\n",
      "687724/687724 [==============================] - 3s 4us/step - loss: 0.1402 - accuracy: 0.9204 - val_loss: 0.1414 - val_accuracy: 0.9210\n",
      "Epoch 11/20\n",
      "687724/687724 [==============================] - 3s 4us/step - loss: 0.1399 - accuracy: 0.9207 - val_loss: 0.1394 - val_accuracy: 0.9224\n",
      "Epoch 12/20\n",
      "687724/687724 [==============================] - 3s 4us/step - loss: 0.1396 - accuracy: 0.9203 - val_loss: 0.1397 - val_accuracy: 0.9220\n",
      "Epoch 13/20\n",
      "687724/687724 [==============================] - 3s 4us/step - loss: 0.1384 - accuracy: 0.9215 - val_loss: 0.1381 - val_accuracy: 0.9220\n",
      "Epoch 14/20\n",
      "687724/687724 [==============================] - 3s 4us/step - loss: 0.1390 - accuracy: 0.9206 - val_loss: 0.1368 - val_accuracy: 0.9231\n",
      "Epoch 15/20\n",
      "687724/687724 [==============================] - 3s 4us/step - loss: 0.1376 - accuracy: 0.9206 - val_loss: 0.1374 - val_accuracy: 0.9224\n",
      "Epoch 16/20\n",
      "687724/687724 [==============================] - 3s 4us/step - loss: 0.1376 - accuracy: 0.9207 - val_loss: 0.1377 - val_accuracy: 0.9218\n",
      "Epoch 17/20\n",
      "687724/687724 [==============================] - 3s 5us/step - loss: 0.1381 - accuracy: 0.9204 - val_loss: 0.1365 - val_accuracy: 0.9234\n",
      "Epoch 18/20\n",
      "687724/687724 [==============================] - 3s 4us/step - loss: 0.1367 - accuracy: 0.9217 - val_loss: 0.1369 - val_accuracy: 0.9212\n",
      "Epoch 19/20\n",
      "687724/687724 [==============================] - 3s 4us/step - loss: 0.1366 - accuracy: 0.9213 - val_loss: 0.1367 - val_accuracy: 0.9204\n",
      "Epoch 20/20\n",
      "687724/687724 [==============================] - 3s 4us/step - loss: 0.1357 - accuracy: 0.9219 - val_loss: 0.1345 - val_accuracy: 0.9235\n",
      "76413/76413 [==============================] - 0s 3us/step\n",
      "Train on 687724 samples, validate on 114620 samples\n",
      "Epoch 1/20\n",
      "687724/687724 [==============================] - 4s 5us/step - loss: 0.2530 - accuracy: 0.9004 - val_loss: 0.6398 - val_accuracy: 0.8390\n",
      "Epoch 2/20\n",
      "687724/687724 [==============================] - 3s 4us/step - loss: 0.1568 - accuracy: 0.9141 - val_loss: 0.6363 - val_accuracy: 0.8390\n",
      "Epoch 3/20\n",
      "687724/687724 [==============================] - 3s 4us/step - loss: 0.1512 - accuracy: 0.9156 - val_loss: 0.4962 - val_accuracy: 0.8390\n",
      "Epoch 4/20\n",
      "687724/687724 [==============================] - 3s 4us/step - loss: 0.1473 - accuracy: 0.9172 - val_loss: 0.3081 - val_accuracy: 0.8427\n",
      "Epoch 5/20\n",
      "687724/687724 [==============================] - 3s 4us/step - loss: 0.1455 - accuracy: 0.9175 - val_loss: 0.1827 - val_accuracy: 0.8763\n",
      "Epoch 6/20\n",
      "687724/687724 [==============================] - 3s 5us/step - loss: 0.1439 - accuracy: 0.9191 - val_loss: 0.1638 - val_accuracy: 0.8974\n",
      "Epoch 7/20\n",
      "687724/687724 [==============================] - 4s 5us/step - loss: 0.1426 - accuracy: 0.9191 - val_loss: 0.1468 - val_accuracy: 0.9083\n",
      "Epoch 8/20\n",
      "687724/687724 [==============================] - 3s 4us/step - loss: 0.1409 - accuracy: 0.9202 - val_loss: 0.1421 - val_accuracy: 0.9209\n",
      "Epoch 9/20\n",
      "687724/687724 [==============================] - 3s 5us/step - loss: 0.1401 - accuracy: 0.9203 - val_loss: 0.1496 - val_accuracy: 0.9203\n",
      "Epoch 10/20\n",
      "687724/687724 [==============================] - 3s 4us/step - loss: 0.1393 - accuracy: 0.9204 - val_loss: 0.1426 - val_accuracy: 0.9217\n",
      "Epoch 11/20\n",
      "687724/687724 [==============================] - 3s 4us/step - loss: 0.1385 - accuracy: 0.9213 - val_loss: 0.1433 - val_accuracy: 0.9213\n",
      "Epoch 12/20\n",
      "687724/687724 [==============================] - 3s 4us/step - loss: 0.1384 - accuracy: 0.9210 - val_loss: 0.1492 - val_accuracy: 0.9213\n",
      "Epoch 13/20\n",
      "687724/687724 [==============================] - 3s 4us/step - loss: 0.1370 - accuracy: 0.9219 - val_loss: 0.1398 - val_accuracy: 0.9222\n",
      "Epoch 14/20\n",
      "687724/687724 [==============================] - 3s 4us/step - loss: 0.1369 - accuracy: 0.9220 - val_loss: 0.1547 - val_accuracy: 0.9215\n",
      "Epoch 15/20\n",
      "687724/687724 [==============================] - 3s 4us/step - loss: 0.1365 - accuracy: 0.9216 - val_loss: 0.1428 - val_accuracy: 0.9224\n",
      "Epoch 16/20\n",
      "687724/687724 [==============================] - 3s 4us/step - loss: 0.1358 - accuracy: 0.9222 - val_loss: 0.1411 - val_accuracy: 0.9232\n",
      "Epoch 17/20\n",
      "687724/687724 [==============================] - 3s 4us/step - loss: 0.1356 - accuracy: 0.9221 - val_loss: 0.1380 - val_accuracy: 0.9229\n",
      "Epoch 18/20\n",
      "687724/687724 [==============================] - 3s 4us/step - loss: 0.1342 - accuracy: 0.9234 - val_loss: 0.1351 - val_accuracy: 0.9243\n",
      "Epoch 19/20\n",
      "687724/687724 [==============================] - 3s 4us/step - loss: 0.1349 - accuracy: 0.9224 - val_loss: 0.1394 - val_accuracy: 0.9244\n",
      "Epoch 20/20\n",
      "687724/687724 [==============================] - 3s 4us/step - loss: 0.1344 - accuracy: 0.9233 - val_loss: 0.1429 - val_accuracy: 0.9237\n",
      "76413/76413 [==============================] - 0s 3us/step\n",
      "Train on 687724 samples, validate on 114620 samples\n",
      "Epoch 1/20\n",
      "687724/687724 [==============================] - 4s 5us/step - loss: 0.2569 - accuracy: 0.8987 - val_loss: 0.4135 - val_accuracy: 0.8390\n",
      "Epoch 2/20\n",
      "687724/687724 [==============================] - 3s 4us/step - loss: 0.1554 - accuracy: 0.9149 - val_loss: 0.4031 - val_accuracy: 0.8390\n",
      "Epoch 3/20\n",
      "687724/687724 [==============================] - 3s 5us/step - loss: 0.1504 - accuracy: 0.9165 - val_loss: 0.2941 - val_accuracy: 0.8390\n",
      "Epoch 4/20\n",
      "687724/687724 [==============================] - 3s 4us/step - loss: 0.1467 - accuracy: 0.9183 - val_loss: 0.2277 - val_accuracy: 0.8575\n",
      "Epoch 5/20\n",
      "687724/687724 [==============================] - 3s 4us/step - loss: 0.1449 - accuracy: 0.9188 - val_loss: 0.1801 - val_accuracy: 0.8864\n",
      "Epoch 6/20\n",
      "687724/687724 [==============================] - 3s 5us/step - loss: 0.1437 - accuracy: 0.9191 - val_loss: 0.1617 - val_accuracy: 0.8906\n",
      "Epoch 7/20\n",
      "687724/687724 [==============================] - 3s 4us/step - loss: 0.1418 - accuracy: 0.9206 - val_loss: 0.1449 - val_accuracy: 0.9174\n",
      "Epoch 8/20\n",
      "687724/687724 [==============================] - 3s 4us/step - loss: 0.1414 - accuracy: 0.9199 - val_loss: 0.1470 - val_accuracy: 0.9105\n",
      "Epoch 9/20\n",
      "687724/687724 [==============================] - 3s 4us/step - loss: 0.1415 - accuracy: 0.9195 - val_loss: 0.1415 - val_accuracy: 0.9211\n",
      "Epoch 10/20\n",
      "687724/687724 [==============================] - 3s 5us/step - loss: 0.1399 - accuracy: 0.9206 - val_loss: 0.1402 - val_accuracy: 0.9212\n",
      "Epoch 11/20\n",
      "687724/687724 [==============================] - 3s 4us/step - loss: 0.1386 - accuracy: 0.9214 - val_loss: 0.1378 - val_accuracy: 0.9234\n",
      "Epoch 12/20\n",
      "687724/687724 [==============================] - 3s 4us/step - loss: 0.1397 - accuracy: 0.9201 - val_loss: 0.1372 - val_accuracy: 0.9234\n",
      "Epoch 13/20\n",
      "687724/687724 [==============================] - 3s 4us/step - loss: 0.1377 - accuracy: 0.9218 - val_loss: 0.1401 - val_accuracy: 0.9150\n",
      "Epoch 14/20\n",
      "687724/687724 [==============================] - 3s 4us/step - loss: 0.1372 - accuracy: 0.9217 - val_loss: 0.1373 - val_accuracy: 0.9208\n",
      "Epoch 15/20\n",
      "687724/687724 [==============================] - 3s 5us/step - loss: 0.1361 - accuracy: 0.9224 - val_loss: 0.1378 - val_accuracy: 0.9222\n",
      "Epoch 16/20\n",
      "687724/687724 [==============================] - 3s 4us/step - loss: 0.1368 - accuracy: 0.9212 - val_loss: 0.1348 - val_accuracy: 0.9246\n",
      "Epoch 17/20\n",
      "687724/687724 [==============================] - 3s 4us/step - loss: 0.1349 - accuracy: 0.9226 - val_loss: 0.1357 - val_accuracy: 0.9243\n",
      "Epoch 18/20\n",
      "687724/687724 [==============================] - 3s 4us/step - loss: 0.1346 - accuracy: 0.9225 - val_loss: 0.1338 - val_accuracy: 0.9247\n",
      "Epoch 19/20\n",
      "687724/687724 [==============================] - 3s 5us/step - loss: 0.1338 - accuracy: 0.9232 - val_loss: 0.1343 - val_accuracy: 0.9249\n",
      "Epoch 20/20\n",
      "687724/687724 [==============================] - 3s 4us/step - loss: 0.1336 - accuracy: 0.9229 - val_loss: 0.1368 - val_accuracy: 0.9140\n",
      "76413/76413 [==============================] - 0s 2us/step\n"
     ]
    }
   ],
   "source": [
    "from sklearn.model_selection import StratifiedKFold\n",
    "import numpy as np\n",
    "\n",
    "# Define 10-fold cross validation\n",
    "SKF = StratifiedKFold(n_splits=10, shuffle=True, random_state=1234)\n",
    "\n",
    "accuracy = list()\n",
    "# Loop over cross validation folds\n",
    "for train_idx, test_idx in SKF.split(X, Y):\n",
    "    \n",
    "    # Train/Test split for the current fold\n",
    "    Xtrain, Xtest = X[train_idx, ], X[test_idx, ]\n",
    "    Ytrain, Ytest = Y[train_idx], Y[test_idx]\n",
    "    \n",
    "    # Calculate class weights for current split\n",
    "    class_weights = class_weight.compute_class_weight(class_weight='balanced', classes=np.unique(Ytrain), y=Ytrain)\n",
    "\n",
    "    # Best training hyper parameters\n",
    "    batch_size = 10000\n",
    "    epochs = 20\n",
    "    input_shape = (Xtrain.shape[1], )\n",
    "\n",
    "    # Rebuild the DNN model, to not continue training on the previously trained model\n",
    "    model = build_DNN(input_shape=input_shape, n_layers=2, n_nodes=20, act_fun='sigmoid', optimizer='Adam', \n",
    "                      learning_rate=0.01, use_bn=True, use_dropout=False)\n",
    "    \n",
    "    # Fit the model with training set and class weights for this fold\n",
    "    model.fit(Xtrain, Ytrain, batch_size=batch_size, epochs=epochs, validation_data=(Xval, Yval), class_weight=class_weights)\n",
    "    \n",
    "    # Evaluate the model using the test set for this fold\n",
    "    score = model.evaluate(Xtest, Ytest, batch_size=batch_size)\n",
    "        \n",
    "    # Save the test accuracy in an array\n",
    "    accuracy.append(score[1])"
   ]
  },
  {
   "cell_type": "code",
   "execution_count": 53,
   "metadata": {},
   "outputs": [
    {
     "name": "stdout",
     "output_type": "stream",
     "text": [
      "Mean Test accuracy: 0.9226\n",
      "SD of Test accuracy: 0.0032\n"
     ]
    }
   ],
   "source": [
    "# Calculate and print mean and std of accuracies\n",
    "print('Mean Test accuracy: %.4f' % np.mean(accuracy))\n",
    "print('SD of Test accuracy: %.4f' % np.std(accuracy))"
   ]
  },
  {
   "cell_type": "markdown",
   "metadata": {},
   "source": [
    "# Part 23: DNN regression\n",
    "\n",
    "A similar DNN can be used for regression, instead of classification.\n",
    "\n",
    "Question 25: How would you change the DNN in order to use it for regression instead?"
   ]
  },
  {
   "cell_type": "markdown",
   "metadata": {},
   "source": [
    "### Answer Q25\n",
    "\n",
    "Q25: By replacing the loss function to Minimum Squared Error, the DNN can be used for regression instead of binary classification"
   ]
  },
  {
   "cell_type": "code",
   "execution_count": 54,
   "metadata": {},
   "outputs": [],
   "source": [
    "from keras.models import Sequential, Model\n",
    "from keras.layers import Input, Dense\n",
    "from keras.optimizers import SGD, Adam\n",
    "from keras.losses import mean_squared_error as MSE\n",
    "from keras.layers import BatchNormalization, Dropout\n",
    "\n",
    "# Set seed from random number generator, for better comparisons\n",
    "from numpy.random import seed\n",
    "seed(123)\n",
    "\n",
    "def build_DNN2(input_shape, n_layers, n_nodes, act_fun='relu', optimizer='Adam', learning_rate=0.01, \n",
    "               use_bn=False, use_dropout=False, use_custom_dropout=False):\n",
    "    \n",
    "    # Setup optimizer, depending on input parameter string\n",
    "    optim = eval(optimizer)(lr=learning_rate)\n",
    "    \n",
    "    # Setup a sequential model\n",
    "    model = Sequential()\n",
    "\n",
    "    # Add layers to the model, using the input parameters of the build_DNN function\n",
    "    \n",
    "    # Add first layer, requires input shape\n",
    "    model.add(Dense(n_nodes, activation=act_fun, input_shape=input_shape))\n",
    "    \n",
    "    # Add batch normalization after the first layer\n",
    "    if use_bn==True:\n",
    "        model.add(BatchNormalization())\n",
    "    \n",
    "    # Add dropout after the first layer\n",
    "    if use_dropout==True:\n",
    "        if use_custom_dropout==True:\n",
    "            model.add(myDropout(rate=0.5))            \n",
    "        model.add(Dropout(rate=0.5))\n",
    "            \n",
    "    # Add remaining layers, do not require input shape\n",
    "    for i in range(n_layers-1):\n",
    "        model.add(Dense(n_nodes, activation=act_fun))\n",
    "        \n",
    "        # Add batch normalization after each dense layer\n",
    "        if use_bn==True:\n",
    "            model.add(BatchNormalization())\n",
    "        \n",
    "        # Add dropout after each dense layer\n",
    "        if use_dropout==True:\n",
    "            if use_custom_dropout==True:\n",
    "                model.add(myDropout(rate=0.5))               \n",
    "            model.add(Dropout(0.5))\n",
    "            \n",
    "    # Final layer\n",
    "    model.add(Dense(1, activation='sigmoid'))\n",
    "    \n",
    "    # Compile model\n",
    "    model.compile(loss=MSE, optimizer=optim, metrics=['mae'])\n",
    "    \n",
    "    return model"
   ]
  },
  {
   "cell_type": "code",
   "execution_count": 55,
   "metadata": {},
   "outputs": [
    {
     "name": "stdout",
     "output_type": "stream",
     "text": [
      "Train on 687724 samples, validate on 114620 samples\n",
      "Epoch 1/20\n",
      "687724/687724 [==============================] - 3s 4us/step - loss: 0.0663 - mae: 0.1405 - val_loss: 0.0542 - val_mae: 0.1116\n",
      "Epoch 2/20\n",
      "687724/687724 [==============================] - 3s 4us/step - loss: 0.0527 - mae: 0.1072 - val_loss: 0.0525 - val_mae: 0.1057\n",
      "Epoch 3/20\n",
      "687724/687724 [==============================] - 3s 4us/step - loss: 0.0510 - mae: 0.1037 - val_loss: 0.0507 - val_mae: 0.1021\n",
      "Epoch 4/20\n",
      "687724/687724 [==============================] - 2s 3us/step - loss: 0.0503 - mae: 0.1018 - val_loss: 0.0499 - val_mae: 0.1021\n",
      "Epoch 5/20\n",
      "687724/687724 [==============================] - 3s 4us/step - loss: 0.0499 - mae: 0.1005 - val_loss: 0.0499 - val_mae: 0.1012\n",
      "Epoch 6/20\n",
      "687724/687724 [==============================] - 3s 5us/step - loss: 0.0497 - mae: 0.1000 - val_loss: 0.0493 - val_mae: 0.0997\n",
      "Epoch 7/20\n",
      "687724/687724 [==============================] - 3s 4us/step - loss: 0.0491 - mae: 0.0991 - val_loss: 0.0488 - val_mae: 0.0992\n",
      "Epoch 8/20\n",
      "687724/687724 [==============================] - 2s 4us/step - loss: 0.0493 - mae: 0.0987 - val_loss: 0.0496 - val_mae: 0.1007\n",
      "Epoch 9/20\n",
      "687724/687724 [==============================] - 3s 4us/step - loss: 0.0490 - mae: 0.0982 - val_loss: 0.0489 - val_mae: 0.0984\n",
      "Epoch 10/20\n",
      "687724/687724 [==============================] - 3s 4us/step - loss: 0.0486 - mae: 0.0976 - val_loss: 0.0483 - val_mae: 0.0971\n",
      "Epoch 11/20\n",
      "687724/687724 [==============================] - 3s 4us/step - loss: 0.0485 - mae: 0.0972 - val_loss: 0.0492 - val_mae: 0.0969\n",
      "Epoch 12/20\n",
      "687724/687724 [==============================] - 3s 4us/step - loss: 0.0485 - mae: 0.0971 - val_loss: 0.0483 - val_mae: 0.0976\n",
      "Epoch 13/20\n",
      "687724/687724 [==============================] - 2s 3us/step - loss: 0.0483 - mae: 0.0967 - val_loss: 0.0479 - val_mae: 0.0970\n",
      "Epoch 14/20\n",
      "687724/687724 [==============================] - 3s 4us/step - loss: 0.0481 - mae: 0.0965 - val_loss: 0.0478 - val_mae: 0.0958\n",
      "Epoch 15/20\n",
      "687724/687724 [==============================] - 2s 4us/step - loss: 0.0481 - mae: 0.0961 - val_loss: 0.0477 - val_mae: 0.0976\n",
      "Epoch 16/20\n",
      "687724/687724 [==============================] - 3s 4us/step - loss: 0.0478 - mae: 0.0958 - val_loss: 0.0480 - val_mae: 0.0951\n",
      "Epoch 17/20\n",
      "687724/687724 [==============================] - 3s 5us/step - loss: 0.0476 - mae: 0.0956 - val_loss: 0.0479 - val_mae: 0.0970\n",
      "Epoch 18/20\n",
      "687724/687724 [==============================] - 2s 4us/step - loss: 0.0478 - mae: 0.0955 - val_loss: 0.0480 - val_mae: 0.0941\n",
      "Epoch 19/20\n",
      "687724/687724 [==============================] - 2s 3us/step - loss: 0.0475 - mae: 0.0953 - val_loss: 0.0479 - val_mae: 0.0937\n",
      "Epoch 20/20\n",
      "687724/687724 [==============================] - 4s 5us/step - loss: 0.0476 - mae: 0.0952 - val_loss: 0.0476 - val_mae: 0.0960\n",
      "76413/76413 [==============================] - 0s 4us/step\n",
      "MSE score: 0.0475\n"
     ]
    }
   ],
   "source": [
    "# Setup some training parameters\n",
    "batch_size = 10000\n",
    "epochs = 20\n",
    "input_shape = (Xtrain.shape[1], )\n",
    "\n",
    "# Build and train model\n",
    "RegModel = build_DNN2(input_shape, n_layers=2, n_nodes=20, act_fun='relu', optimizer='Adam', learning_rate=0.01, \n",
    "                      use_bn=False, use_dropout=False, use_custom_dropout=False)\n",
    "\n",
    "RegModel.fit(Xtrain, Ytrain, batch_size=batch_size, epochs=epochs, validation_data=(Xval, Yval), class_weight=class_weights)\n",
    "\n",
    "# Evaluate DNN on test data\n",
    "score = RegModel.evaluate(Xtest, Ytest, batch_size=batch_size)\n",
    "print('MSE score: %.4f' % score[0])"
   ]
  },
  {
   "cell_type": "markdown",
   "metadata": {},
   "source": [
    "## Report\n",
    "\n",
    "Send in this jupyter notebook, with answers to all questions."
   ]
  }
 ],
 "metadata": {
  "kernelspec": {
   "display_name": "Python 3",
   "language": "python",
   "name": "python3"
  },
  "language_info": {
   "codemirror_mode": {
    "name": "ipython",
    "version": 3
   },
   "file_extension": ".py",
   "mimetype": "text/x-python",
   "name": "python",
   "nbconvert_exporter": "python",
   "pygments_lexer": "ipython3",
   "version": "3.7.6"
  }
 },
 "nbformat": 4,
 "nbformat_minor": 4
}
